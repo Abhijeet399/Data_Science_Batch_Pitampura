{
 "cells": [
  {
   "cell_type": "code",
   "execution_count": 13,
   "id": "d9ebfc3a",
   "metadata": {},
   "outputs": [],
   "source": [
    "class Best_friend:\n",
    "    best_friends = {}\n",
    "    def __init__(self, name):\n",
    "        self.best_friends[str(name)] = []\n",
    "        \n",
    "    def add_best_friend(self, name, name_best_friend):\n",
    "        self.best_friends[str(name)].append(name_best_friend)\n",
    "        \n",
    "class Person(Best_friend):\n",
    "    def __init__(self, name):\n",
    "        Best_friend.__init__(self, name)\n",
    "        self.name = name\n",
    "        \n",
    "    def my_best_friend(self, best_friend):\n",
    "        Best_friend.add_best_friend(self, self.name, best_friend)"
   ]
  },
  {
   "cell_type": "code",
   "execution_count": 14,
   "id": "820e2877",
   "metadata": {},
   "outputs": [],
   "source": [
    "a = Person(\"Abhijeet\")\n",
    "b = Person(\"Aamir\")\n",
    "c = Person(\"Ankit\")"
   ]
  },
  {
   "cell_type": "code",
   "execution_count": 17,
   "id": "7f21045d",
   "metadata": {},
   "outputs": [],
   "source": [
    "a.my_best_friend(c.name)"
   ]
  },
  {
   "cell_type": "code",
   "execution_count": 18,
   "id": "d1bca385",
   "metadata": {},
   "outputs": [
    {
     "data": {
      "text/plain": [
       "{'Abhijeet': ['Aamir', 'Ankit'], 'Aamir': [], 'Ankit': []}"
      ]
     },
     "execution_count": 18,
     "metadata": {},
     "output_type": "execute_result"
    }
   ],
   "source": [
    "a.best_friends"
   ]
  },
  {
   "cell_type": "code",
   "execution_count": 19,
   "id": "967e625f",
   "metadata": {},
   "outputs": [],
   "source": [
    "b.my_best_friend(c.name)"
   ]
  },
  {
   "cell_type": "code",
   "execution_count": 21,
   "id": "ddee0073",
   "metadata": {},
   "outputs": [
    {
     "data": {
      "text/plain": [
       "{'Abhijeet': ['Aamir', 'Ankit'], 'Aamir': ['Ankit'], 'Ankit': []}"
      ]
     },
     "execution_count": 21,
     "metadata": {},
     "output_type": "execute_result"
    }
   ],
   "source": [
    "b.best_friends"
   ]
  },
  {
   "cell_type": "code",
   "execution_count": 23,
   "id": "686db046",
   "metadata": {},
   "outputs": [],
   "source": [
    "c.my_best_friend(a.name)"
   ]
  },
  {
   "cell_type": "code",
   "execution_count": 28,
   "id": "b2341dbc",
   "metadata": {},
   "outputs": [
    {
     "name": "stdout",
     "output_type": "stream",
     "text": [
      "Abhijeet --> ['Aamir', 'Ankit']\n"
     ]
    }
   ],
   "source": [
    "print(a.name,'-->', a.best_friends[a.name])"
   ]
  },
  {
   "cell_type": "code",
   "execution_count": null,
   "id": "a86aa484",
   "metadata": {},
   "outputs": [],
   "source": []
  }
 ],
 "metadata": {
  "kernelspec": {
   "display_name": "Python 3 (ipykernel)",
   "language": "python",
   "name": "python3"
  },
  "language_info": {
   "codemirror_mode": {
    "name": "ipython",
    "version": 3
   },
   "file_extension": ".py",
   "mimetype": "text/x-python",
   "name": "python",
   "nbconvert_exporter": "python",
   "pygments_lexer": "ipython3",
   "version": "3.8.10"
  }
 },
 "nbformat": 4,
 "nbformat_minor": 5
}
