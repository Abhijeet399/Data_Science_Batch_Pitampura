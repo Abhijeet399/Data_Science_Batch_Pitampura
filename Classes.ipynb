{
 "cells": [
  {
   "cell_type": "code",
   "execution_count": 8,
   "id": "8ee5f417",
   "metadata": {},
   "outputs": [],
   "source": [
    "a = ['4']"
   ]
  },
  {
   "cell_type": "code",
   "execution_count": 9,
   "id": "c961914e",
   "metadata": {},
   "outputs": [
    {
     "name": "stdout",
     "output_type": "stream",
     "text": [
      "<class 'list'>\n"
     ]
    }
   ],
   "source": [
    "print(type(a))"
   ]
  },
  {
   "cell_type": "code",
   "execution_count": 10,
   "id": "a1bb63a5",
   "metadata": {},
   "outputs": [
    {
     "ename": "TypeError",
     "evalue": "'list' object is not callable",
     "output_type": "error",
     "traceback": [
      "\u001b[0;31m---------------------------------------------------------------------------\u001b[0m",
      "\u001b[0;31mTypeError\u001b[0m                                 Traceback (most recent call last)",
      "Cell \u001b[0;32mIn[10], line 1\u001b[0m\n\u001b[0;32m----> 1\u001b[0m \u001b[43ma\u001b[49m\u001b[43m(\u001b[49m\u001b[43m)\u001b[49m\n",
      "\u001b[0;31mTypeError\u001b[0m: 'list' object is not callable"
     ]
    }
   ],
   "source": [
    "a()"
   ]
  },
  {
   "cell_type": "code",
   "execution_count": 15,
   "id": "8aa705b4",
   "metadata": {},
   "outputs": [],
   "source": [
    "def temp(name):\n",
    "    print('Name is:', name)"
   ]
  },
  {
   "cell_type": "code",
   "execution_count": 19,
   "id": "6033b8c4",
   "metadata": {},
   "outputs": [
    {
     "name": "stdout",
     "output_type": "stream",
     "text": [
      "<function temp at 0x7faf18c7caf0>\n"
     ]
    }
   ],
   "source": [
    "print(temp)"
   ]
  },
  {
   "cell_type": "code",
   "execution_count": 48,
   "id": "5a347770",
   "metadata": {},
   "outputs": [
    {
     "name": "stdout",
     "output_type": "stream",
     "text": [
      "Name is: abhijeet\n"
     ]
    }
   ],
   "source": [
    "temp('abhijeet')"
   ]
  },
  {
   "cell_type": "code",
   "execution_count": 29,
   "id": "6597cbf1",
   "metadata": {},
   "outputs": [
    {
     "name": "stdout",
     "output_type": "stream",
     "text": [
      "True\n"
     ]
    }
   ],
   "source": [
    "name = 'aamir'\n",
    "age = 25\n",
    "if type(age) == int:\n",
    "    print('True')"
   ]
  },
  {
   "cell_type": "code",
   "execution_count": 21,
   "id": "1b1e70d5",
   "metadata": {},
   "outputs": [
    {
     "data": {
      "text/plain": [
       "'0x7faf18c7caf0'"
      ]
     },
     "execution_count": 21,
     "metadata": {},
     "output_type": "execute_result"
    }
   ],
   "source": [
    "hex(id(temp))"
   ]
  },
  {
   "cell_type": "code",
   "execution_count": 40,
   "id": "28dc98a0",
   "metadata": {},
   "outputs": [
    {
     "name": "stdout",
     "output_type": "stream",
     "text": [
      "<class 'int'>\n",
      "<class 'str'>\n"
     ]
    },
    {
     "data": {
      "text/plain": [
       "True"
      ]
     },
     "execution_count": 40,
     "metadata": {},
     "output_type": "execute_result"
    }
   ],
   "source": [
    "print(type(age))\n",
    "print(type(name))\n",
    "isinstance(range, object)"
   ]
  },
  {
   "cell_type": "code",
   "execution_count": 44,
   "id": "b7e63ae2",
   "metadata": {},
   "outputs": [],
   "source": [
    "class Student:\n",
    "    mentor = 'Abhijeet'\n",
    "    age = 23"
   ]
  },
  {
   "cell_type": "code",
   "execution_count": 45,
   "id": "f703aaa4",
   "metadata": {},
   "outputs": [
    {
     "name": "stdout",
     "output_type": "stream",
     "text": [
      "<class 'type'>\n"
     ]
    }
   ],
   "source": [
    "print(type(object))"
   ]
  },
  {
   "cell_type": "code",
   "execution_count": 49,
   "id": "73a62570",
   "metadata": {},
   "outputs": [],
   "source": [
    "a = Student()"
   ]
  },
  {
   "cell_type": "code",
   "execution_count": 52,
   "id": "58a19e8f",
   "metadata": {},
   "outputs": [
    {
     "name": "stdout",
     "output_type": "stream",
     "text": [
      "23\n"
     ]
    }
   ],
   "source": [
    "print(a.age)"
   ]
  },
  {
   "cell_type": "code",
   "execution_count": 53,
   "id": "575c8c16",
   "metadata": {},
   "outputs": [],
   "source": [
    "b = Student()"
   ]
  },
  {
   "cell_type": "code",
   "execution_count": 55,
   "id": "3b6e765d",
   "metadata": {},
   "outputs": [
    {
     "data": {
      "text/plain": [
       "'Abhijeet'"
      ]
     },
     "execution_count": 55,
     "metadata": {},
     "output_type": "execute_result"
    }
   ],
   "source": [
    "b.mentor"
   ]
  },
  {
   "cell_type": "code",
   "execution_count": 75,
   "id": "f2d72ad5",
   "metadata": {},
   "outputs": [],
   "source": [
    "class Person:\n",
    "    name = 'Abhijeet'\n",
    "    age = 23\n",
    "    x = age/2\n",
    "    \n",
    "    def hello(self):\n",
    "        print(\"Hello name is:\", self.name, self.age, self.x)"
   ]
  },
  {
   "cell_type": "code",
   "execution_count": 79,
   "id": "6c825aa8",
   "metadata": {},
   "outputs": [],
   "source": [
    "p = Person()"
   ]
  },
  {
   "cell_type": "code",
   "execution_count": 92,
   "id": "8caa7cfe",
   "metadata": {},
   "outputs": [
    {
     "name": "stdout",
     "output_type": "stream",
     "text": [
      "<class '__main__.Person'>\n"
     ]
    }
   ],
   "source": [
    "print(type(p))"
   ]
  },
  {
   "cell_type": "code",
   "execution_count": 80,
   "id": "345512d2",
   "metadata": {},
   "outputs": [
    {
     "name": "stdout",
     "output_type": "stream",
     "text": [
      "Hello name is: Abhijeet 23 11.5\n"
     ]
    }
   ],
   "source": [
    "p.hello()"
   ]
  },
  {
   "cell_type": "code",
   "execution_count": 82,
   "id": "4a2d3cf7",
   "metadata": {},
   "outputs": [
    {
     "name": "stdout",
     "output_type": "stream",
     "text": [
      "Hello name is: Abhijeet 23 11.5\n"
     ]
    }
   ],
   "source": [
    "Person().hello()"
   ]
  },
  {
   "cell_type": "code",
   "execution_count": 85,
   "id": "f6b2c8ab",
   "metadata": {},
   "outputs": [],
   "source": [
    "class People:\n",
    "    name = 'Abhijeet'\n",
    "    age = 23\n",
    "    x = age/2\n",
    "    \n",
    "    def hi(self):\n",
    "        print(\"Hello name is:\", self.name, self.age, self.x)"
   ]
  },
  {
   "cell_type": "code",
   "execution_count": 86,
   "id": "49b16107",
   "metadata": {},
   "outputs": [],
   "source": [
    "q = People()"
   ]
  },
  {
   "cell_type": "code",
   "execution_count": 89,
   "id": "5aca8b66",
   "metadata": {},
   "outputs": [
    {
     "name": "stdout",
     "output_type": "stream",
     "text": [
      "Hello name is: Abhijeet 23 11.5\n"
     ]
    }
   ],
   "source": [
    "People().hi()"
   ]
  },
  {
   "cell_type": "code",
   "execution_count": 94,
   "id": "dd29e586",
   "metadata": {},
   "outputs": [
    {
     "data": {
      "text/plain": [
       "__main__.People"
      ]
     },
     "execution_count": 94,
     "metadata": {},
     "output_type": "execute_result"
    }
   ],
   "source": [
    "type(q)"
   ]
  },
  {
   "cell_type": "code",
   "execution_count": 96,
   "id": "603556b5",
   "metadata": {},
   "outputs": [
    {
     "name": "stdout",
     "output_type": "stream",
     "text": [
      "0\n",
      "1\n",
      "2\n",
      "3\n",
      "4\n",
      "5\n",
      "6\n",
      "7\n",
      "8\n",
      "9\n"
     ]
    }
   ],
   "source": [
    "a = range(10)\n",
    "for i in a:\n",
    "    print(i)"
   ]
  },
  {
   "cell_type": "code",
   "execution_count": 99,
   "id": "870b159c",
   "metadata": {},
   "outputs": [
    {
     "name": "stdout",
     "output_type": "stream",
     "text": [
      "Abhijeet\n"
     ]
    }
   ],
   "source": [
    "q.name\n",
    "ab = People()\n",
    "print(ab.name)"
   ]
  },
  {
   "cell_type": "code",
   "execution_count": 122,
   "id": "cf3d803b",
   "metadata": {},
   "outputs": [],
   "source": [
    "# Dunders/ Magic Functions\n",
    "\n",
    "class People:\n",
    "#     name = 'Abhijeet'\n",
    "#     age = 23\n",
    "#     x = age/2\n",
    "    living = True\n",
    "    \n",
    "    def __init__(self, name, age, height):\n",
    "        self.name = name\n",
    "        self.age = age\n",
    "        self.height = height\n",
    "#         print(self.living)\n",
    "        print(\"Chal gya\")\n",
    "    \n",
    "    def hi(self):\n",
    "        print(\"Hello name is:\", self.name, self.age)"
   ]
  },
  {
   "cell_type": "code",
   "execution_count": 123,
   "id": "d08b54e4",
   "metadata": {},
   "outputs": [
    {
     "name": "stdout",
     "output_type": "stream",
     "text": [
      "Chal gya\n",
      "Chal gya\n"
     ]
    }
   ],
   "source": [
    "person1 = People('Abhijeet', 23, 180)\n",
    "person2 = People('Aamir', 25, 170)"
   ]
  },
  {
   "cell_type": "code",
   "execution_count": 124,
   "id": "2acfd224",
   "metadata": {},
   "outputs": [
    {
     "name": "stdout",
     "output_type": "stream",
     "text": [
      "Chal gya\n"
     ]
    },
    {
     "data": {
      "text/plain": [
       "True"
      ]
     },
     "execution_count": 124,
     "metadata": {},
     "output_type": "execute_result"
    }
   ],
   "source": [
    "People('ab', 22, 130).living"
   ]
  },
  {
   "cell_type": "code",
   "execution_count": 125,
   "id": "3eda0a96",
   "metadata": {},
   "outputs": [
    {
     "data": {
      "text/plain": [
       "'Aamir'"
      ]
     },
     "execution_count": 125,
     "metadata": {},
     "output_type": "execute_result"
    }
   ],
   "source": [
    "person2.name"
   ]
  },
  {
   "cell_type": "code",
   "execution_count": 133,
   "id": "e388ee2d",
   "metadata": {},
   "outputs": [
    {
     "name": "stdout",
     "output_type": "stream",
     "text": [
      "4341768104\n",
      "4341768136\n"
     ]
    }
   ],
   "source": [
    "print(id(person2.living))\n",
    "print(id(person1.living))"
   ]
  },
  {
   "cell_type": "code",
   "execution_count": 132,
   "id": "6d10888a",
   "metadata": {},
   "outputs": [
    {
     "name": "stdout",
     "output_type": "stream",
     "text": [
      "False\n"
     ]
    }
   ],
   "source": [
    "person2.living = False\n",
    "print(person2.living)"
   ]
  },
  {
   "cell_type": "code",
   "execution_count": null,
   "id": "4458731e",
   "metadata": {},
   "outputs": [],
   "source": []
  }
 ],
 "metadata": {
  "kernelspec": {
   "display_name": "Python 3 (ipykernel)",
   "language": "python",
   "name": "python3"
  },
  "language_info": {
   "codemirror_mode": {
    "name": "ipython",
    "version": 3
   },
   "file_extension": ".py",
   "mimetype": "text/x-python",
   "name": "python",
   "nbconvert_exporter": "python",
   "pygments_lexer": "ipython3",
   "version": "3.8.10"
  }
 },
 "nbformat": 4,
 "nbformat_minor": 5
}
