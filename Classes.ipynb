{
 "cells": [
  {
   "cell_type": "code",
   "execution_count": 4,
   "id": "8ee5f417",
   "metadata": {},
   "outputs": [
    {
     "name": "stdout",
     "output_type": "stream",
     "text": [
      "<class 'float'>\n"
     ]
    }
   ],
   "source": [
    "a = ['4', 22, 'abhijeet', 9.99]\n",
    "print(type(a[3]))"
   ]
  },
  {
   "cell_type": "code",
   "execution_count": 5,
   "id": "c961914e",
   "metadata": {},
   "outputs": [
    {
     "name": "stdout",
     "output_type": "stream",
     "text": [
      "<class 'list'>\n"
     ]
    }
   ],
   "source": [
    "print(type(a))"
   ]
  },
  {
   "cell_type": "code",
   "execution_count": 6,
   "id": "a1bb63a5",
   "metadata": {},
   "outputs": [
    {
     "ename": "TypeError",
     "evalue": "'list' object is not callable",
     "output_type": "error",
     "traceback": [
      "\u001b[0;31m---------------------------------------------------------------------------\u001b[0m",
      "\u001b[0;31mTypeError\u001b[0m                                 Traceback (most recent call last)",
      "Cell \u001b[0;32mIn[6], line 1\u001b[0m\n\u001b[0;32m----> 1\u001b[0m \u001b[43ma\u001b[49m\u001b[43m(\u001b[49m\u001b[43m)\u001b[49m\n",
      "\u001b[0;31mTypeError\u001b[0m: 'list' object is not callable"
     ]
    }
   ],
   "source": [
    "a()"
   ]
  },
  {
   "cell_type": "code",
   "execution_count": 15,
   "id": "8aa705b4",
   "metadata": {},
   "outputs": [],
   "source": [
    "def temp(name):\n",
    "    print('Name is:', name)"
   ]
  },
  {
   "cell_type": "code",
   "execution_count": 19,
   "id": "6033b8c4",
   "metadata": {},
   "outputs": [
    {
     "name": "stdout",
     "output_type": "stream",
     "text": [
      "<function temp at 0x7faf18c7caf0>\n"
     ]
    }
   ],
   "source": [
    "print(temp)"
   ]
  },
  {
   "cell_type": "code",
   "execution_count": 48,
   "id": "5a347770",
   "metadata": {},
   "outputs": [
    {
     "name": "stdout",
     "output_type": "stream",
     "text": [
      "Name is: abhijeet\n"
     ]
    }
   ],
   "source": [
    "temp('abhijeet')"
   ]
  },
  {
   "cell_type": "code",
   "execution_count": 9,
   "id": "6597cbf1",
   "metadata": {},
   "outputs": [
    {
     "name": "stdout",
     "output_type": "stream",
     "text": [
      "False\n",
      "True True\n"
     ]
    }
   ],
   "source": [
    "name = 'aamir'\n",
    "age = 25\n",
    "print(age==29)\n",
    "if type(age) == int:\n",
    "    print('True True')"
   ]
  },
  {
   "cell_type": "code",
   "execution_count": 21,
   "id": "1b1e70d5",
   "metadata": {},
   "outputs": [
    {
     "data": {
      "text/plain": [
       "'0x7faf18c7caf0'"
      ]
     },
     "execution_count": 21,
     "metadata": {},
     "output_type": "execute_result"
    }
   ],
   "source": [
    "hex(id(temp))"
   ]
  },
  {
   "cell_type": "code",
   "execution_count": 40,
   "id": "28dc98a0",
   "metadata": {},
   "outputs": [
    {
     "name": "stdout",
     "output_type": "stream",
     "text": [
      "<class 'int'>\n",
      "<class 'str'>\n"
     ]
    },
    {
     "data": {
      "text/plain": [
       "True"
      ]
     },
     "execution_count": 40,
     "metadata": {},
     "output_type": "execute_result"
    }
   ],
   "source": [
    "print(type(age))\n",
    "print(type(name))\n",
    "isinstance(range, object)"
   ]
  },
  {
   "cell_type": "code",
   "execution_count": 44,
   "id": "b7e63ae2",
   "metadata": {},
   "outputs": [],
   "source": [
    "class Student:\n",
    "    mentor = 'Abhijeet'\n",
    "    age = 23"
   ]
  },
  {
   "cell_type": "code",
   "execution_count": 45,
   "id": "f703aaa4",
   "metadata": {},
   "outputs": [
    {
     "name": "stdout",
     "output_type": "stream",
     "text": [
      "<class 'type'>\n"
     ]
    }
   ],
   "source": [
    "print(type(object))"
   ]
  },
  {
   "cell_type": "code",
   "execution_count": 49,
   "id": "73a62570",
   "metadata": {},
   "outputs": [],
   "source": [
    "a = Student()"
   ]
  },
  {
   "cell_type": "code",
   "execution_count": 52,
   "id": "58a19e8f",
   "metadata": {},
   "outputs": [
    {
     "name": "stdout",
     "output_type": "stream",
     "text": [
      "23\n"
     ]
    }
   ],
   "source": [
    "print(a.age)"
   ]
  },
  {
   "cell_type": "code",
   "execution_count": 53,
   "id": "575c8c16",
   "metadata": {},
   "outputs": [],
   "source": [
    "b = Student()"
   ]
  },
  {
   "cell_type": "code",
   "execution_count": 55,
   "id": "3b6e765d",
   "metadata": {},
   "outputs": [
    {
     "data": {
      "text/plain": [
       "'Abhijeet'"
      ]
     },
     "execution_count": 55,
     "metadata": {},
     "output_type": "execute_result"
    }
   ],
   "source": [
    "b.mentor"
   ]
  },
  {
   "cell_type": "code",
   "execution_count": 10,
   "id": "f2d72ad5",
   "metadata": {},
   "outputs": [],
   "source": [
    "class Person:\n",
    "    name = 'Abhijeet'\n",
    "    age = 23\n",
    "    x = age/2\n",
    "    \n",
    "    def hello(self):\n",
    "        print(\"Hello name is:\", self.name, self.age, self.x)"
   ]
  },
  {
   "cell_type": "code",
   "execution_count": 11,
   "id": "6c825aa8",
   "metadata": {},
   "outputs": [],
   "source": [
    "p = Person()"
   ]
  },
  {
   "cell_type": "code",
   "execution_count": 12,
   "id": "8caa7cfe",
   "metadata": {},
   "outputs": [
    {
     "name": "stdout",
     "output_type": "stream",
     "text": [
      "<__main__.Person object at 0x7f885731a070>\n"
     ]
    }
   ],
   "source": [
    "print(p)"
   ]
  },
  {
   "cell_type": "code",
   "execution_count": 14,
   "id": "345512d2",
   "metadata": {},
   "outputs": [
    {
     "name": "stdout",
     "output_type": "stream",
     "text": [
      "Hello name is: Abhijeet 23 11.5\n"
     ]
    }
   ],
   "source": [
    "p.hello()"
   ]
  },
  {
   "cell_type": "code",
   "execution_count": 82,
   "id": "4a2d3cf7",
   "metadata": {},
   "outputs": [
    {
     "name": "stdout",
     "output_type": "stream",
     "text": [
      "Hello name is: Abhijeet 23 11.5\n"
     ]
    }
   ],
   "source": [
    "Person().hello()"
   ]
  },
  {
   "cell_type": "code",
   "execution_count": 85,
   "id": "f6b2c8ab",
   "metadata": {},
   "outputs": [],
   "source": [
    "class People:\n",
    "    name = 'Abhijeet'\n",
    "    age = 23\n",
    "    x = age/2\n",
    "    \n",
    "    def hi(self):\n",
    "        print(\"Hello name is:\", self.name, self.age, self.x)"
   ]
  },
  {
   "cell_type": "code",
   "execution_count": 86,
   "id": "49b16107",
   "metadata": {},
   "outputs": [],
   "source": [
    "q = People()"
   ]
  },
  {
   "cell_type": "code",
   "execution_count": 89,
   "id": "5aca8b66",
   "metadata": {},
   "outputs": [
    {
     "name": "stdout",
     "output_type": "stream",
     "text": [
      "Hello name is: Abhijeet 23 11.5\n"
     ]
    }
   ],
   "source": [
    "People().hi()"
   ]
  },
  {
   "cell_type": "code",
   "execution_count": 94,
   "id": "dd29e586",
   "metadata": {},
   "outputs": [
    {
     "data": {
      "text/plain": [
       "__main__.People"
      ]
     },
     "execution_count": 94,
     "metadata": {},
     "output_type": "execute_result"
    }
   ],
   "source": [
    "type(q)"
   ]
  },
  {
   "cell_type": "code",
   "execution_count": 96,
   "id": "603556b5",
   "metadata": {},
   "outputs": [
    {
     "name": "stdout",
     "output_type": "stream",
     "text": [
      "0\n",
      "1\n",
      "2\n",
      "3\n",
      "4\n",
      "5\n",
      "6\n",
      "7\n",
      "8\n",
      "9\n"
     ]
    }
   ],
   "source": [
    "a = range(10)\n",
    "for i in a:\n",
    "    print(i)"
   ]
  },
  {
   "cell_type": "code",
   "execution_count": 99,
   "id": "870b159c",
   "metadata": {},
   "outputs": [
    {
     "name": "stdout",
     "output_type": "stream",
     "text": [
      "Abhijeet\n"
     ]
    }
   ],
   "source": [
    "q.name\n",
    "ab = People()\n",
    "print(ab.name)"
   ]
  },
  {
   "cell_type": "code",
   "execution_count": 122,
   "id": "cf3d803b",
   "metadata": {},
   "outputs": [],
   "source": [
    "# Dunders / Magic Functions\n",
    "\n",
    "class People:\n",
    "#     name = 'Abhijeet'\n",
    "#     age = 23\n",
    "#     x = age/2\n",
    "    living = True\n",
    "    \n",
    "    def __init__(self, name, age, height):\n",
    "        self.name = name\n",
    "        self.age = age\n",
    "        self.height = height\n",
    "#         print(self.living)\n",
    "        print(\"Chal gya\")\n",
    "    \n",
    "    def hi(self):\n",
    "        print(\"Hello name is:\", self.name, self.age)"
   ]
  },
  {
   "cell_type": "code",
   "execution_count": 123,
   "id": "d08b54e4",
   "metadata": {},
   "outputs": [
    {
     "name": "stdout",
     "output_type": "stream",
     "text": [
      "Chal gya\n",
      "Chal gya\n"
     ]
    }
   ],
   "source": [
    "person1 = People('Abhijeet', 23, 180)\n",
    "person2 = People('Aamir', 25, 170)"
   ]
  },
  {
   "cell_type": "code",
   "execution_count": 124,
   "id": "2acfd224",
   "metadata": {},
   "outputs": [
    {
     "name": "stdout",
     "output_type": "stream",
     "text": [
      "Chal gya\n"
     ]
    },
    {
     "data": {
      "text/plain": [
       "True"
      ]
     },
     "execution_count": 124,
     "metadata": {},
     "output_type": "execute_result"
    }
   ],
   "source": [
    "People('ab', 22, 130).living"
   ]
  },
  {
   "cell_type": "code",
   "execution_count": 125,
   "id": "3eda0a96",
   "metadata": {},
   "outputs": [
    {
     "data": {
      "text/plain": [
       "'Aamir'"
      ]
     },
     "execution_count": 125,
     "metadata": {},
     "output_type": "execute_result"
    }
   ],
   "source": [
    "person2.name"
   ]
  },
  {
   "cell_type": "code",
   "execution_count": 133,
   "id": "e388ee2d",
   "metadata": {},
   "outputs": [
    {
     "name": "stdout",
     "output_type": "stream",
     "text": [
      "4341768104\n",
      "4341768136\n"
     ]
    }
   ],
   "source": [
    "print(id(person2.living))\n",
    "print(id(person1.living))"
   ]
  },
  {
   "cell_type": "code",
   "execution_count": 132,
   "id": "6d10888a",
   "metadata": {},
   "outputs": [
    {
     "name": "stdout",
     "output_type": "stream",
     "text": [
      "False\n"
     ]
    }
   ],
   "source": [
    "person2.living = False\n",
    "print(person2.living)"
   ]
  },
  {
   "cell_type": "code",
   "execution_count": 15,
   "id": "4458731e",
   "metadata": {},
   "outputs": [],
   "source": [
    "class Student:\n",
    "    mentor = 'Abhijeet'\n",
    "    \n",
    "    def __init__(self):\n",
    "        pass\n",
    "    \n",
    "    def details(self, name, roll, age, marks):\n",
    "        self.name = name\n",
    "        self.age = age\n",
    "        self.roll = roll\n",
    "        self.marks = marks"
   ]
  },
  {
   "cell_type": "code",
   "execution_count": 17,
   "id": "2696e3a8",
   "metadata": {},
   "outputs": [
    {
     "name": "stdout",
     "output_type": "stream",
     "text": [
      "Enter nameAbhijeet\n",
      "Enter roll001\n",
      "Enter age23\n",
      "Enter marks10\n",
      "Enter nameaamir\n",
      "Enter roll002\n",
      "Enter age23\n",
      "Enter marks11\n",
      "Enter nameAnkit\n",
      "Enter roll003\n",
      "Enter age20\n",
      "Enter marks13\n"
     ]
    }
   ],
   "source": [
    "a = Student()\n",
    "b = Student()\n",
    "c = Student()\n",
    "\n",
    "for i in range(3):\n",
    "    name = input('Enter name')\n",
    "    roll = input('Enter roll')\n",
    "    age = input('Enter age')\n",
    "    marks = input('Enter marks')\n",
    "    if i == 0:\n",
    "        a.details(name, roll, age, marks)\n",
    "    elif i==1:\n",
    "        b.details(name, roll, age, marks)\n",
    "    elif i==2:\n",
    "        c.details(name, roll, age, marks)    "
   ]
  },
  {
   "cell_type": "code",
   "execution_count": 20,
   "id": "913ba9c7",
   "metadata": {},
   "outputs": [
    {
     "data": {
      "text/plain": [
       "'Ankit'"
      ]
     },
     "execution_count": 20,
     "metadata": {},
     "output_type": "execute_result"
    }
   ],
   "source": [
    "c.name"
   ]
  },
  {
   "cell_type": "code",
   "execution_count": 27,
   "id": "0f64d4dc",
   "metadata": {},
   "outputs": [],
   "source": [
    "class Student:\n",
    "    mentor = 'Abhijeet'\n",
    "    \n",
    "    def __init__(self, name, age, roll, marks):\n",
    "        self.name = name\n",
    "        self.age = age\n",
    "        self.roll = roll\n",
    "        self.marks = marks        "
   ]
  },
  {
   "cell_type": "code",
   "execution_count": 48,
   "id": "603962d6",
   "metadata": {},
   "outputs": [
    {
     "name": "stdout",
     "output_type": "stream",
     "text": [
      "Enter nameAbhijeet\n",
      "Enter age23\n",
      "Enter roll001\n",
      "Enter marks10\n"
     ]
    }
   ],
   "source": [
    "a = Student(input('Enter name'), input('Enter age'), input('Enter roll'), input('Enter marks'))"
   ]
  },
  {
   "cell_type": "code",
   "execution_count": 49,
   "id": "386e25c4",
   "metadata": {},
   "outputs": [
    {
     "name": "stdout",
     "output_type": "stream",
     "text": [
      "Enter nameAamir\n",
      "Enter age23\n",
      "Enter roll002\n",
      "Enter marks11\n"
     ]
    }
   ],
   "source": [
    "b = Student(input('Enter name'), input('Enter age'), input('Enter roll'), input('Enter marks'))"
   ]
  },
  {
   "cell_type": "code",
   "execution_count": 30,
   "id": "2d52401d",
   "metadata": {},
   "outputs": [
    {
     "name": "stdout",
     "output_type": "stream",
     "text": [
      "Abhijeet aamir Abhijeet Abhijeet 140223564645360 140223564647152 140223553066352 140223553066352\n"
     ]
    }
   ],
   "source": [
    "print(a.name, b.name, a.mentor, b.mentor, id(a.name), id(b.name), id(a.mentor),id(b.mentor))"
   ]
  },
  {
   "cell_type": "code",
   "execution_count": 33,
   "id": "c6bca74e",
   "metadata": {},
   "outputs": [
    {
     "data": {
      "text/plain": [
       "True"
      ]
     },
     "execution_count": 33,
     "metadata": {},
     "output_type": "execute_result"
    }
   ],
   "source": [
    "id(Student('a', 'f', 'w', 'g').mentor)==id(b.mentor)"
   ]
  },
  {
   "cell_type": "code",
   "execution_count": 57,
   "id": "f2150061",
   "metadata": {},
   "outputs": [
    {
     "name": "stdout",
     "output_type": "stream",
     "text": [
      "name is  abhijeet\n",
      "name is  rohan\n",
      "abhijeet rohan\n"
     ]
    }
   ],
   "source": [
    "def temp(name):\n",
    "    print('name is ', name)\n",
    "    return name\n",
    "a = temp('abhijeet')\n",
    "b = temp('rohan')\n",
    "print(a, b)"
   ]
  },
  {
   "cell_type": "code",
   "execution_count": 47,
   "id": "46153fdf",
   "metadata": {},
   "outputs": [
    {
     "name": "stdout",
     "output_type": "stream",
     "text": [
      "140223553496560 140223565687280\n"
     ]
    }
   ],
   "source": [
    "print(id(a), id(b))"
   ]
  },
  {
   "cell_type": "code",
   "execution_count": 52,
   "id": "35375d79",
   "metadata": {},
   "outputs": [
    {
     "name": "stdout",
     "output_type": "stream",
     "text": [
      "46\n"
     ]
    }
   ],
   "source": [
    "print(int(b.age) + int(a.age))"
   ]
  },
  {
   "cell_type": "code",
   "execution_count": 68,
   "id": "34a7c9f4",
   "metadata": {},
   "outputs": [],
   "source": [
    "class Car:\n",
    "    def __init__(self, m, milage):\n",
    "        self.model = m\n",
    "        self.milage = milage\n",
    "    \n",
    "    def __str__(self):\n",
    "        return \"{} {}\".format(self.model, self.milage)\n",
    "    \n",
    "    def __eq__(self, other):\n",
    "        return int(self.milage) == int(other.milage)\n",
    "    \n",
    "    def __add__(self, other):\n",
    "        return self.milage + other.milage"
   ]
  },
  {
   "cell_type": "code",
   "execution_count": 75,
   "id": "17c771c2",
   "metadata": {},
   "outputs": [],
   "source": [
    "c1 = Car('BMW', 9)\n",
    "c2 = Car('Audi', 4)"
   ]
  },
  {
   "cell_type": "code",
   "execution_count": 76,
   "id": "67a84a97",
   "metadata": {},
   "outputs": [
    {
     "data": {
      "text/plain": [
       "False"
      ]
     },
     "execution_count": 76,
     "metadata": {},
     "output_type": "execute_result"
    }
   ],
   "source": [
    "c1 == c2"
   ]
  },
  {
   "cell_type": "code",
   "execution_count": 80,
   "id": "ad6595dc",
   "metadata": {},
   "outputs": [
    {
     "name": "stdout",
     "output_type": "stream",
     "text": [
      "13\n"
     ]
    }
   ],
   "source": [
    "add = c1+c2\n",
    "print(add)"
   ]
  },
  {
   "cell_type": "code",
   "execution_count": 79,
   "id": "f05f1c55",
   "metadata": {},
   "outputs": [
    {
     "data": {
      "text/plain": [
       "'Audi 4'"
      ]
     },
     "execution_count": 79,
     "metadata": {},
     "output_type": "execute_result"
    }
   ],
   "source": [
    "str(c2)"
   ]
  },
  {
   "cell_type": "code",
   "execution_count": 93,
   "id": "04c60499",
   "metadata": {},
   "outputs": [
    {
     "name": "stdout",
     "output_type": "stream",
     "text": [
      "Names are: abhijeet, Aamir\n"
     ]
    }
   ],
   "source": [
    "a = 'abhijeet'\n",
    "b = 'Aamir'\n",
    "print(f\"Names are: {a}, {b}\")"
   ]
  },
  {
   "cell_type": "code",
   "execution_count": 271,
   "id": "1863c1ff",
   "metadata": {},
   "outputs": [],
   "source": [
    "class Dog:\n",
    "#     total_tricks = []\n",
    "    def __init__(self, name, breed, trick=[]):\n",
    "        self.name = name\n",
    "        self.total_tricks = trick\n",
    "        self.breed = breed\n",
    "        \n",
    "    def update_tricks(self, trick):\n",
    "        self.total_tricks.append(trick)"
   ]
  },
  {
   "cell_type": "code",
   "execution_count": 272,
   "id": "2c71fe34",
   "metadata": {},
   "outputs": [],
   "source": [
    "d = Dog('Coco', 'Labra', trick=[])"
   ]
  },
  {
   "cell_type": "code",
   "execution_count": 273,
   "id": "77d764a1",
   "metadata": {},
   "outputs": [],
   "source": [
    "d.update_tricks('sit')\n",
    "d.update_tricks('hello')\n",
    "d.update_tricks('dance')\n",
    "d.update_tricks('fetch')"
   ]
  },
  {
   "cell_type": "code",
   "execution_count": 274,
   "id": "d3fc3f0a",
   "metadata": {},
   "outputs": [
    {
     "data": {
      "text/plain": [
       "['sit', 'hello', 'dance', 'fetch']"
      ]
     },
     "execution_count": 274,
     "metadata": {},
     "output_type": "execute_result"
    }
   ],
   "source": [
    "d.total_tricks"
   ]
  },
  {
   "cell_type": "code",
   "execution_count": 275,
   "id": "0c729720",
   "metadata": {},
   "outputs": [
    {
     "data": {
      "text/plain": [
       "['sit', 'hello', 'dance', 'fetch']"
      ]
     },
     "execution_count": 275,
     "metadata": {},
     "output_type": "execute_result"
    }
   ],
   "source": [
    "d.total_tricks"
   ]
  },
  {
   "cell_type": "code",
   "execution_count": 276,
   "id": "7f14b356",
   "metadata": {},
   "outputs": [],
   "source": [
    "a = Dog('Puffy', \"German Shefard\")"
   ]
  },
  {
   "cell_type": "code",
   "execution_count": 277,
   "id": "ae1ad41a",
   "metadata": {},
   "outputs": [
    {
     "data": {
      "text/plain": [
       "[]"
      ]
     },
     "execution_count": 277,
     "metadata": {},
     "output_type": "execute_result"
    }
   ],
   "source": [
    "a.total_tricks"
   ]
  },
  {
   "cell_type": "code",
   "execution_count": 278,
   "id": "7d5a440d",
   "metadata": {},
   "outputs": [
    {
     "data": {
      "text/plain": [
       "[]"
      ]
     },
     "execution_count": 278,
     "metadata": {},
     "output_type": "execute_result"
    }
   ],
   "source": [
    "Dog('a', 'q').total_tricks"
   ]
  },
  {
   "cell_type": "code",
   "execution_count": 251,
   "id": "b14fec1a",
   "metadata": {},
   "outputs": [],
   "source": [
    "def temp(name = 'abhijeet'):\n",
    "    print(\"Name is: \", name)"
   ]
  },
  {
   "cell_type": "code",
   "execution_count": 264,
   "id": "4ceb6b5c",
   "metadata": {},
   "outputs": [
    {
     "name": "stdout",
     "output_type": "stream",
     "text": [
      "Name is:  abhijeet\n"
     ]
    }
   ],
   "source": [
    "temp()"
   ]
  },
  {
   "cell_type": "code",
   "execution_count": 280,
   "id": "98fb563f",
   "metadata": {},
   "outputs": [
    {
     "data": {
      "text/plain": [
       "False"
      ]
     },
     "execution_count": 280,
     "metadata": {},
     "output_type": "execute_result"
    }
   ],
   "source": [
    "id(d.total_tricks)==id(Dog('a', 'r').total_tricks)"
   ]
  },
  {
   "cell_type": "code",
   "execution_count": 12,
   "id": "52714b85",
   "metadata": {},
   "outputs": [
    {
     "name": "stdout",
     "output_type": "stream",
     "text": [
      "In class 4\n",
      "Next\n",
      "In Class3\n"
     ]
    }
   ],
   "source": [
    "class Class1:\n",
    "    def m(self):\n",
    "        print(\"In Class1\")\n",
    "\n",
    "class Class2(Class1):\n",
    "    pass\n",
    "\n",
    "class Class3(Class1):\n",
    "    def m(self):\n",
    "         print(\"In Class3\")    \n",
    "\n",
    "class Class4(Class2, Class3):\n",
    "    print(\"In class 4\")\n",
    "    pass\n",
    "\n",
    "obj = Class4()\n",
    "print(\"Next\")\n",
    "obj.m()\n",
    "\n",
    "# Class2.m(obj)\n",
    "# Class3.m(obj)\n",
    "# Class1.m(obj)"
   ]
  },
  {
   "cell_type": "code",
   "execution_count": 5,
   "id": "5905675e",
   "metadata": {},
   "outputs": [],
   "source": [
    "def adder(a, b, *args):\n",
    "    a +=b\n",
    "    for i in args:\n",
    "        a += i\n",
    "    print(a)"
   ]
  },
  {
   "cell_type": "code",
   "execution_count": 8,
   "id": "652295e1",
   "metadata": {},
   "outputs": [
    {
     "name": "stdout",
     "output_type": "stream",
     "text": [
      "16\n"
     ]
    }
   ],
   "source": [
    "adder(1,2,4,9)"
   ]
  },
  {
   "cell_type": "code",
   "execution_count": null,
   "id": "e3a5b6f8",
   "metadata": {},
   "outputs": [],
   "source": []
  },
  {
   "cell_type": "code",
   "execution_count": null,
   "id": "80aa7dfa",
   "metadata": {},
   "outputs": [],
   "source": []
  }
 ],
 "metadata": {
  "kernelspec": {
   "display_name": "Python 3 (ipykernel)",
   "language": "python",
   "name": "python3"
  },
  "language_info": {
   "codemirror_mode": {
    "name": "ipython",
    "version": 3
   },
   "file_extension": ".py",
   "mimetype": "text/x-python",
   "name": "python",
   "nbconvert_exporter": "python",
   "pygments_lexer": "ipython3",
   "version": "3.8.10"
  }
 },
 "nbformat": 4,
 "nbformat_minor": 5
}
