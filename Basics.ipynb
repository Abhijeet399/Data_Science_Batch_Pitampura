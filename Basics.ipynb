{
 "cells": [
  {
   "cell_type": "code",
   "execution_count": 27,
   "id": "84d0a7ec",
   "metadata": {},
   "outputs": [],
   "source": [
    "a = 1.0"
   ]
  },
  {
   "cell_type": "code",
   "execution_count": 5,
   "id": "8c490b29",
   "metadata": {},
   "outputs": [
    {
     "data": {
      "text/plain": [
       "1.0"
      ]
     },
     "execution_count": 5,
     "metadata": {},
     "output_type": "execute_result"
    }
   ],
   "source": [
    "a"
   ]
  },
  {
   "cell_type": "code",
   "execution_count": 6,
   "id": "7e28af21",
   "metadata": {},
   "outputs": [
    {
     "data": {
      "text/plain": [
       "float"
      ]
     },
     "execution_count": 6,
     "metadata": {},
     "output_type": "execute_result"
    }
   ],
   "source": [
    "type(a)"
   ]
  },
  {
   "cell_type": "code",
   "execution_count": 39,
   "id": "f8f0727b",
   "metadata": {},
   "outputs": [],
   "source": [
    "b = '32'"
   ]
  },
  {
   "cell_type": "code",
   "execution_count": 40,
   "id": "5ee40cf6",
   "metadata": {},
   "outputs": [
    {
     "data": {
      "text/plain": [
       "str"
      ]
     },
     "execution_count": 40,
     "metadata": {},
     "output_type": "execute_result"
    }
   ],
   "source": [
    "type(b)"
   ]
  },
  {
   "cell_type": "code",
   "execution_count": 41,
   "id": "844edb79",
   "metadata": {},
   "outputs": [
    {
     "data": {
      "text/plain": [
       "140454958964912"
      ]
     },
     "execution_count": 41,
     "metadata": {},
     "output_type": "execute_result"
    }
   ],
   "source": [
    "id(b)"
   ]
  },
  {
   "cell_type": "code",
   "execution_count": 12,
   "id": "bb54e9b2",
   "metadata": {},
   "outputs": [
    {
     "data": {
      "text/plain": [
       "51"
      ]
     },
     "execution_count": 12,
     "metadata": {},
     "output_type": "execute_result"
    }
   ],
   "source": [
    "ord(b)"
   ]
  },
  {
   "cell_type": "code",
   "execution_count": 13,
   "id": "ef2645ef",
   "metadata": {},
   "outputs": [],
   "source": [
    "c = \"3\""
   ]
  },
  {
   "cell_type": "code",
   "execution_count": 17,
   "id": "0ed95fa9",
   "metadata": {},
   "outputs": [
    {
     "name": "stdout",
     "output_type": "stream",
     "text": [
      "<class 'str'>\n"
     ]
    }
   ],
   "source": [
    "print(type(b))"
   ]
  },
  {
   "cell_type": "code",
   "execution_count": 16,
   "id": "02949c55",
   "metadata": {},
   "outputs": [
    {
     "name": "stdout",
     "output_type": "stream",
     "text": [
      "Hello world\n"
     ]
    }
   ],
   "source": [
    "print(\"Hello world\")"
   ]
  },
  {
   "cell_type": "code",
   "execution_count": 21,
   "id": "c7954826",
   "metadata": {},
   "outputs": [],
   "source": [
    "a = 3"
   ]
  },
  {
   "cell_type": "code",
   "execution_count": 25,
   "id": "263d9e66",
   "metadata": {},
   "outputs": [
    {
     "data": {
      "text/plain": [
       "builtin_function_or_method"
      ]
     },
     "execution_count": 25,
     "metadata": {},
     "output_type": "execute_result"
    }
   ],
   "source": [
    "type(print)"
   ]
  },
  {
   "cell_type": "code",
   "execution_count": 22,
   "id": "aaacd64b",
   "metadata": {},
   "outputs": [
    {
     "name": "stdout",
     "output_type": "stream",
     "text": [
      "3 <class 'int'>\n"
     ]
    }
   ],
   "source": [
    "print(a, type(a))"
   ]
  },
  {
   "cell_type": "code",
   "execution_count": 23,
   "id": "208a9a67",
   "metadata": {},
   "outputs": [],
   "source": [
    "def sumer():\n",
    "    print(\"hello world!\")"
   ]
  },
  {
   "cell_type": "code",
   "execution_count": 26,
   "id": "ec713fdd",
   "metadata": {},
   "outputs": [
    {
     "name": "stdout",
     "output_type": "stream",
     "text": [
      "hello world!\n"
     ]
    }
   ],
   "source": [
    "print(\"hello world!\")"
   ]
  },
  {
   "cell_type": "code",
   "execution_count": 30,
   "id": "c2e75df6",
   "metadata": {},
   "outputs": [
    {
     "name": "stdout",
     "output_type": "stream",
     "text": [
      "hello world!\n"
     ]
    }
   ],
   "source": [
    "sumer()"
   ]
  },
  {
   "cell_type": "code",
   "execution_count": 31,
   "id": "1f36c75f",
   "metadata": {},
   "outputs": [
    {
     "data": {
      "text/plain": [
       "<function __main__.sumer()>"
      ]
     },
     "execution_count": 31,
     "metadata": {},
     "output_type": "execute_result"
    }
   ],
   "source": [
    "sumer"
   ]
  },
  {
   "cell_type": "code",
   "execution_count": 32,
   "id": "409d7d38",
   "metadata": {},
   "outputs": [
    {
     "name": "stdout",
     "output_type": "stream",
     "text": [
      "Hello world!\n"
     ]
    }
   ],
   "source": [
    "print(\"Hello world!\")"
   ]
  },
  {
   "cell_type": "code",
   "execution_count": 33,
   "id": "a0b37152",
   "metadata": {},
   "outputs": [],
   "source": [
    "aa = print"
   ]
  },
  {
   "cell_type": "code",
   "execution_count": 37,
   "id": "cc8fca30",
   "metadata": {},
   "outputs": [
    {
     "name": "stdout",
     "output_type": "stream",
     "text": [
      "Hello sahil bhai\n"
     ]
    }
   ],
   "source": [
    "aa('Hello sahil bhai')"
   ]
  },
  {
   "cell_type": "code",
   "execution_count": 45,
   "id": "0a6fecf0",
   "metadata": {},
   "outputs": [
    {
     "name": "stdout",
     "output_type": "stream",
     "text": [
      "<class 'str'>\n"
     ]
    }
   ],
   "source": [
    "print(type(b))"
   ]
  },
  {
   "cell_type": "code",
   "execution_count": 47,
   "id": "4bb3c6d7",
   "metadata": {},
   "outputs": [
    {
     "name": "stdout",
     "output_type": "stream",
     "text": [
      "hello world\n"
     ]
    }
   ],
   "source": [
    "# a = \"hello\"\n",
    "a = 'hello' + ' world'\n",
    "print(a)"
   ]
  },
  {
   "cell_type": "code",
   "execution_count": 83,
   "id": "22a4922c",
   "metadata": {},
   "outputs": [],
   "source": [
    "def name_printer(name):\n",
    "    print(\"Hello \"+name)\n",
    "    return (\"Hello \"+name)"
   ]
  },
  {
   "cell_type": "code",
   "execution_count": 72,
   "id": "184854f0",
   "metadata": {},
   "outputs": [
    {
     "name": "stdout",
     "output_type": "stream",
     "text": [
      "Hello Bhuvan\n"
     ]
    }
   ],
   "source": [
    "var = name_printer('Bhuvan')"
   ]
  },
  {
   "cell_type": "code",
   "execution_count": 73,
   "id": "b0453206",
   "metadata": {},
   "outputs": [
    {
     "name": "stdout",
     "output_type": "stream",
     "text": [
      "<function name_printer at 0x7fbe39746160>\n"
     ]
    }
   ],
   "source": [
    "print(name_printer)"
   ]
  },
  {
   "cell_type": "code",
   "execution_count": 74,
   "id": "491cee45",
   "metadata": {},
   "outputs": [
    {
     "data": {
      "text/plain": [
       "'Hello Bhuvan'"
      ]
     },
     "execution_count": 74,
     "metadata": {},
     "output_type": "execute_result"
    }
   ],
   "source": [
    "var"
   ]
  },
  {
   "cell_type": "code",
   "execution_count": 75,
   "id": "6e6c02cc",
   "metadata": {},
   "outputs": [
    {
     "name": "stdout",
     "output_type": "stream",
     "text": [
      "hi\n"
     ]
    }
   ],
   "source": [
    "variable = print(\"hi\")"
   ]
  },
  {
   "cell_type": "code",
   "execution_count": 78,
   "id": "eb771974",
   "metadata": {},
   "outputs": [
    {
     "name": "stdout",
     "output_type": "stream",
     "text": [
      "None\n"
     ]
    }
   ],
   "source": [
    "print(variable)"
   ]
  },
  {
   "cell_type": "code",
   "execution_count": 79,
   "id": "ddac5c23",
   "metadata": {},
   "outputs": [],
   "source": [
    "a = 1\n",
    "b = 2"
   ]
  },
  {
   "cell_type": "code",
   "execution_count": 80,
   "id": "4f5f9f91",
   "metadata": {},
   "outputs": [
    {
     "name": "stdout",
     "output_type": "stream",
     "text": [
      "3 -1 2 0.5 1\n"
     ]
    }
   ],
   "source": [
    "print(a+b, a-b, a*b, a/b, a%b)"
   ]
  },
  {
   "cell_type": "code",
   "execution_count": 87,
   "id": "ac9adc08",
   "metadata": {},
   "outputs": [],
   "source": [
    "def calculator(a, b):\n",
    "    \n",
    "    return (a+b), (a-b), (a*b), (a/b), (a%b)"
   ]
  },
  {
   "cell_type": "code",
   "execution_count": 90,
   "id": "40932d41",
   "metadata": {},
   "outputs": [],
   "source": [
    "add, sub, mul, div, rem = calculator(100, 59)"
   ]
  },
  {
   "cell_type": "code",
   "execution_count": 91,
   "id": "96fb8539",
   "metadata": {},
   "outputs": [
    {
     "name": "stdout",
     "output_type": "stream",
     "text": [
      "159 41 5900 1.694915254237288 41\n"
     ]
    }
   ],
   "source": [
    "print(add, sub, mul, div, rem)"
   ]
  },
  {
   "cell_type": "code",
   "execution_count": 92,
   "id": "5f952ff7",
   "metadata": {},
   "outputs": [],
   "source": [
    "def first(name):\n",
    "    return name\n",
    "def second(name):\n",
    "    return name\n",
    "first_name = first('Abhijeet')\n",
    "last_name = second('Bhattacharya')"
   ]
  },
  {
   "cell_type": "code",
   "execution_count": 99,
   "id": "0d0b025c",
   "metadata": {},
   "outputs": [],
   "source": [
    "def name(f_n, l_n, name_1, name_2):    \n",
    "    print(f_n(name_1) + ' ' + l_n(name_2))"
   ]
  },
  {
   "cell_type": "code",
   "execution_count": 96,
   "id": "5cd7ed7d",
   "metadata": {},
   "outputs": [
    {
     "name": "stdout",
     "output_type": "stream",
     "text": [
      "Abhijeet Bhattacharya\n"
     ]
    }
   ],
   "source": [
    "print(first_name, last_name)"
   ]
  },
  {
   "cell_type": "code",
   "execution_count": 95,
   "id": "4c46fa2f",
   "metadata": {},
   "outputs": [
    {
     "name": "stdout",
     "output_type": "stream",
     "text": [
      "Abhijeet Bhattacharya\n"
     ]
    }
   ],
   "source": [
    "name(first_name, last_name)"
   ]
  },
  {
   "cell_type": "code",
   "execution_count": 97,
   "id": "8d7210a2",
   "metadata": {},
   "outputs": [
    {
     "name": "stdout",
     "output_type": "stream",
     "text": [
      "Abhijeet Bhattacharya\n"
     ]
    }
   ],
   "source": [
    "name(first('Abhijeet'), second('Bhattacharya'))"
   ]
  },
  {
   "cell_type": "code",
   "execution_count": 100,
   "id": "ec2a5e59",
   "metadata": {},
   "outputs": [
    {
     "name": "stdout",
     "output_type": "stream",
     "text": [
      "Abhijeet Bhattacharya\n"
     ]
    }
   ],
   "source": [
    "name(first, second, 'Abhijeet', 'Bhattacharya')"
   ]
  },
  {
   "cell_type": "code",
   "execution_count": 1,
   "id": "9935b2d4",
   "metadata": {},
   "outputs": [],
   "source": [
    "# If \n",
    "# Else\n",
    "# Elif"
   ]
  },
  {
   "cell_type": "code",
   "execution_count": 23,
   "id": "2430e92b",
   "metadata": {},
   "outputs": [],
   "source": [
    "integer = 9"
   ]
  },
  {
   "cell_type": "code",
   "execution_count": 24,
   "id": "eea109f0",
   "metadata": {},
   "outputs": [
    {
     "data": {
      "text/plain": [
       "True"
      ]
     },
     "execution_count": 24,
     "metadata": {},
     "output_type": "execute_result"
    }
   ],
   "source": [
    "integer == 9"
   ]
  },
  {
   "cell_type": "code",
   "execution_count": 3,
   "id": "f38f48fa",
   "metadata": {},
   "outputs": [
    {
     "data": {
      "text/plain": [
       "False"
      ]
     },
     "execution_count": 3,
     "metadata": {},
     "output_type": "execute_result"
    }
   ],
   "source": [
    "integer>10"
   ]
  },
  {
   "cell_type": "code",
   "execution_count": 5,
   "id": "d5d1d4f1",
   "metadata": {},
   "outputs": [
    {
     "name": "stdout",
     "output_type": "stream",
     "text": [
      "Hello\n"
     ]
    }
   ],
   "source": [
    "if integer < 10:\n",
    "    print(\"Hello\")\n",
    "else:\n",
    "    print(\"Bye\")"
   ]
  },
  {
   "cell_type": "code",
   "execution_count": 7,
   "id": "a360718d",
   "metadata": {},
   "outputs": [
    {
     "name": "stdout",
     "output_type": "stream",
     "text": [
      "Hello Hello\n"
     ]
    }
   ],
   "source": [
    "if integer > 10:\n",
    "    print(\"Hello\")\n",
    "elif integer > 7:\n",
    "    print(\"Hello Hello\")\n",
    "else:\n",
    "    print(\"Bye\")"
   ]
  },
  {
   "cell_type": "code",
   "execution_count": 34,
   "id": "83ea08cc",
   "metadata": {},
   "outputs": [],
   "source": [
    "def comp(a, b):\n",
    "    if a > b:\n",
    "        print(\"A is greater\")\n",
    "    elif a == b:\n",
    "        print(\"Both numbers equal\")\n",
    "    else:\n",
    "        print(\"B is greater\")"
   ]
  },
  {
   "cell_type": "code",
   "execution_count": 18,
   "id": "7e5104ae",
   "metadata": {},
   "outputs": [
    {
     "name": "stdout",
     "output_type": "stream",
     "text": [
      "Both numbers equal\n"
     ]
    }
   ],
   "source": [
    "comp(60, 60)"
   ]
  },
  {
   "cell_type": "code",
   "execution_count": 30,
   "id": "2762c7c1",
   "metadata": {},
   "outputs": [
    {
     "name": "stdout",
     "output_type": "stream",
     "text": [
      "Enter any number: 6\n"
     ]
    }
   ],
   "source": [
    "b = input('Enter any number: ')"
   ]
  },
  {
   "cell_type": "code",
   "execution_count": 31,
   "id": "ae9330d6",
   "metadata": {},
   "outputs": [
    {
     "name": "stdout",
     "output_type": "stream",
     "text": [
      "6\n",
      "54\n"
     ]
    }
   ],
   "source": [
    "print(b)\n",
    "# print(ord(b))"
   ]
  },
  {
   "cell_type": "code",
   "execution_count": 22,
   "id": "ea547d4d",
   "metadata": {},
   "outputs": [
    {
     "data": {
      "text/plain": [
       "False"
      ]
     },
     "execution_count": 22,
     "metadata": {},
     "output_type": "execute_result"
    }
   ],
   "source": [
    "b == 7"
   ]
  },
  {
   "cell_type": "code",
   "execution_count": 26,
   "id": "226c29ef",
   "metadata": {},
   "outputs": [
    {
     "name": "stdout",
     "output_type": "stream",
     "text": [
      "<class 'str'>\n"
     ]
    }
   ],
   "source": [
    "print(type(b))"
   ]
  },
  {
   "cell_type": "code",
   "execution_count": 27,
   "id": "e0cfb8a6",
   "metadata": {},
   "outputs": [
    {
     "data": {
      "text/plain": [
       "True"
      ]
     },
     "execution_count": 27,
     "metadata": {},
     "output_type": "execute_result"
    }
   ],
   "source": [
    "int(b) == 7"
   ]
  },
  {
   "cell_type": "code",
   "execution_count": 28,
   "id": "247fa72e",
   "metadata": {},
   "outputs": [
    {
     "data": {
      "text/plain": [
       "False"
      ]
     },
     "execution_count": 28,
     "metadata": {},
     "output_type": "execute_result"
    }
   ],
   "source": [
    "b == 7"
   ]
  },
  {
   "cell_type": "code",
   "execution_count": 29,
   "id": "e4e13594",
   "metadata": {},
   "outputs": [
    {
     "data": {
      "text/plain": [
       "True"
      ]
     },
     "execution_count": 29,
     "metadata": {},
     "output_type": "execute_result"
    }
   ],
   "source": [
    "b = int(b)\n",
    "b == 7"
   ]
  },
  {
   "cell_type": "code",
   "execution_count": 41,
   "id": "00c92760",
   "metadata": {},
   "outputs": [
    {
     "name": "stdout",
     "output_type": "stream",
     "text": [
      "5\n",
      "1\n"
     ]
    }
   ],
   "source": [
    "a = int(input())\n",
    "b = int(input())"
   ]
  },
  {
   "cell_type": "code",
   "execution_count": 42,
   "id": "7b8212ba",
   "metadata": {},
   "outputs": [
    {
     "name": "stdout",
     "output_type": "stream",
     "text": [
      "A is greater\n"
     ]
    }
   ],
   "source": [
    "comp(a, b)"
   ]
  },
  {
   "cell_type": "code",
   "execution_count": 54,
   "id": "94bdd16d",
   "metadata": {},
   "outputs": [
    {
     "name": "stdout",
     "output_type": "stream",
     "text": [
      "Enter 1st number23\n",
      "Enter 2nd Number33\n",
      "B is greater\n"
     ]
    }
   ],
   "source": [
    "comp(int(input('Enter 1st number')), int(input('Enter 2nd Number')))"
   ]
  },
  {
   "cell_type": "code",
   "execution_count": 44,
   "id": "48ed3b56",
   "metadata": {},
   "outputs": [
    {
     "data": {
      "text/plain": [
       "<bound method Kernel.raw_input of <ipykernel.ipkernel.IPythonKernel object at 0x7fb86ffb8a00>>"
      ]
     },
     "execution_count": 44,
     "metadata": {},
     "output_type": "execute_result"
    }
   ],
   "source": [
    "input"
   ]
  },
  {
   "cell_type": "code",
   "execution_count": 47,
   "id": "95aa43f8",
   "metadata": {},
   "outputs": [
    {
     "name": "stdout",
     "output_type": "stream",
     "text": [
      "Enter Strings\n"
     ]
    }
   ],
   "source": [
    "string = input(\"Enter String\")"
   ]
  },
  {
   "cell_type": "code",
   "execution_count": 48,
   "id": "9d7d8a4c",
   "metadata": {},
   "outputs": [
    {
     "data": {
      "text/plain": [
       "'s'"
      ]
     },
     "execution_count": 48,
     "metadata": {},
     "output_type": "execute_result"
    }
   ],
   "source": [
    "string"
   ]
  },
  {
   "cell_type": "code",
   "execution_count": 52,
   "id": "1e6c0e3d",
   "metadata": {},
   "outputs": [
    {
     "data": {
      "text/plain": [
       "False"
      ]
     },
     "execution_count": 52,
     "metadata": {},
     "output_type": "execute_result"
    }
   ],
   "source": [
    "string > 'z'"
   ]
  },
  {
   "cell_type": "code",
   "execution_count": 55,
   "id": "cef666c0",
   "metadata": {},
   "outputs": [],
   "source": [
    "integer = 10"
   ]
  },
  {
   "cell_type": "code",
   "execution_count": 57,
   "id": "4aa9abf0",
   "metadata": {},
   "outputs": [
    {
     "name": "stdout",
     "output_type": "stream",
     "text": [
      "<class 'str'>\n"
     ]
    }
   ],
   "source": [
    "print(type(str(integer)))"
   ]
  },
  {
   "cell_type": "code",
   "execution_count": 61,
   "id": "10f5d146",
   "metadata": {},
   "outputs": [
    {
     "name": "stdout",
     "output_type": "stream",
     "text": [
      "jkbjv8888 aszcd\n"
     ]
    },
    {
     "ename": "ValueError",
     "evalue": "invalid literal for int() with base 10: 'jkbjv8888 aszcd'",
     "output_type": "error",
     "traceback": [
      "\u001b[0;31m---------------------------------------------------------------------------\u001b[0m",
      "\u001b[0;31mValueError\u001b[0m                                Traceback (most recent call last)",
      "Cell \u001b[0;32mIn[61], line 1\u001b[0m\n\u001b[0;32m----> 1\u001b[0m \u001b[38;5;28mprint\u001b[39m(\u001b[38;5;28;43mint\u001b[39;49m\u001b[43m(\u001b[49m\u001b[38;5;28;43minput\u001b[39;49m\u001b[43m(\u001b[49m\u001b[43m)\u001b[49m\u001b[43m)\u001b[49m)\n",
      "\u001b[0;31mValueError\u001b[0m: invalid literal for int() with base 10: 'jkbjv8888 aszcd'"
     ]
    }
   ],
   "source": [
    "print(int(input()))"
   ]
  },
  {
   "cell_type": "code",
   "execution_count": 62,
   "id": "89950a19",
   "metadata": {},
   "outputs": [],
   "source": [
    "# FOR\n",
    "# While"
   ]
  },
  {
   "cell_type": "code",
   "execution_count": 74,
   "id": "60e384da",
   "metadata": {},
   "outputs": [
    {
     "name": "stdout",
     "output_type": "stream",
     "text": [
      "0\n",
      "1\n",
      "2\n",
      "3\n",
      "4\n"
     ]
    }
   ],
   "source": [
    "for abhijeet in range(5):\n",
    "    print(abhijeet)"
   ]
  },
  {
   "cell_type": "code",
   "execution_count": 76,
   "id": "63923277",
   "metadata": {},
   "outputs": [
    {
     "name": "stdout",
     "output_type": "stream",
     "text": [
      "Enter number0\n",
      "0\n",
      "Enter number0\n",
      "0\n",
      "Enter number0\n",
      "0\n",
      "Enter number0\n",
      "0\n",
      "Enter number0\n",
      "0\n"
     ]
    }
   ],
   "source": [
    "for i in range(5):\n",
    "    print(input('Enter number'))"
   ]
  },
  {
   "cell_type": "code",
   "execution_count": 86,
   "id": "308dab21",
   "metadata": {},
   "outputs": [
    {
     "name": "stdout",
     "output_type": "stream",
     "text": [
      "Enter number: 5\n",
      "Enter number: 10\n"
     ]
    }
   ],
   "source": [
    "number_1 = int(input(\"Enter number: \"))\n",
    "number_2 = int(input(\"Enter number: \"))"
   ]
  },
  {
   "cell_type": "code",
   "execution_count": 87,
   "id": "3338a8d4",
   "metadata": {},
   "outputs": [],
   "source": [
    "def adder(n, m):\n",
    "    summer = 0\n",
    "    for i in range(n, m+1):\n",
    "        summer += i\n",
    "        \n",
    "    print(summer)"
   ]
  },
  {
   "cell_type": "code",
   "execution_count": 88,
   "id": "6fe7d050",
   "metadata": {},
   "outputs": [
    {
     "name": "stdout",
     "output_type": "stream",
     "text": [
      "45\n"
     ]
    }
   ],
   "source": [
    "adder(number_1, number_2)"
   ]
  },
  {
   "cell_type": "code",
   "execution_count": 97,
   "id": "bfa1263e",
   "metadata": {},
   "outputs": [
    {
     "name": "stdout",
     "output_type": "stream",
     "text": [
      "5\n",
      "Number_1 updated --> 6\n",
      "6\n",
      "Number_1 updated --> 7\n",
      "7\n",
      "Number_1 updated --> 8\n",
      "8\n",
      "Number_1 updated --> 9\n",
      "9\n",
      "Number_1 updated --> 10\n",
      "10\n",
      "Number_1 updated --> 11\n"
     ]
    }
   ],
   "source": [
    "number_1 = 5\n",
    "while number_1 <= 10:\n",
    "    print(number_1)\n",
    "    number_1 += 1\n",
    "    print(\"Number_1 updated -->\", number_1)"
   ]
  },
  {
   "cell_type": "code",
   "execution_count": 98,
   "id": "ef8a3492",
   "metadata": {},
   "outputs": [],
   "source": [
    "# break\n",
    "# Continue"
   ]
  },
  {
   "cell_type": "code",
   "execution_count": 101,
   "id": "f16620de",
   "metadata": {},
   "outputs": [
    {
     "name": "stdout",
     "output_type": "stream",
     "text": [
      "Enter a number1\n",
      "Wrong number type again\n",
      "Enter a number2\n",
      "Wrong number type again\n",
      "Enter a number3\n",
      "Wrong number type again\n",
      "Enter a number4\n",
      "Wrong number type again\n",
      "Enter a number9\n",
      "Kuch bhi\n"
     ]
    }
   ],
   "source": [
    "while True:\n",
    "    integer = int(input(\"Enter a number\"))\n",
    "    if integer == 9:\n",
    "        break\n",
    "    else: \n",
    "        print(\"Wrong number type again\")\n",
    "print(\"Kuch bhi\")"
   ]
  },
  {
   "cell_type": "code",
   "execution_count": 104,
   "id": "2712c9eb",
   "metadata": {},
   "outputs": [
    {
     "name": "stdout",
     "output_type": "stream",
     "text": [
      "Enter a number4\n",
      "Galat number\n",
      "Enter a number9\n",
      "Hello\n"
     ]
    }
   ],
   "source": [
    "while True:\n",
    "    while True:\n",
    "        integer = int(input('Enter a number'))\n",
    "        if integer == 9:\n",
    "            break\n",
    "        else:\n",
    "            print('Galat number')\n",
    "    print(\"Hello\")\n",
    "    break"
   ]
  },
  {
   "cell_type": "code",
   "execution_count": null,
   "id": "cff98472",
   "metadata": {},
   "outputs": [],
   "source": []
  }
 ],
 "metadata": {
  "kernelspec": {
   "display_name": "Python 3 (ipykernel)",
   "language": "python",
   "name": "python3"
  },
  "language_info": {
   "codemirror_mode": {
    "name": "ipython",
    "version": 3
   },
   "file_extension": ".py",
   "mimetype": "text/x-python",
   "name": "python",
   "nbconvert_exporter": "python",
   "pygments_lexer": "ipython3",
   "version": "3.8.10"
  }
 },
 "nbformat": 4,
 "nbformat_minor": 5
}
