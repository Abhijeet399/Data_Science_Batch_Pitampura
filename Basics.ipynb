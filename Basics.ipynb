{
 "cells": [
  {
   "cell_type": "code",
   "execution_count": 27,
   "id": "84d0a7ec",
   "metadata": {},
   "outputs": [],
   "source": [
    "a = 1.0"
   ]
  },
  {
   "cell_type": "code",
   "execution_count": 5,
   "id": "8c490b29",
   "metadata": {},
   "outputs": [
    {
     "data": {
      "text/plain": [
       "1.0"
      ]
     },
     "execution_count": 5,
     "metadata": {},
     "output_type": "execute_result"
    }
   ],
   "source": [
    "a"
   ]
  },
  {
   "cell_type": "code",
   "execution_count": 6,
   "id": "7e28af21",
   "metadata": {},
   "outputs": [
    {
     "data": {
      "text/plain": [
       "float"
      ]
     },
     "execution_count": 6,
     "metadata": {},
     "output_type": "execute_result"
    }
   ],
   "source": [
    "type(a)"
   ]
  },
  {
   "cell_type": "code",
   "execution_count": 39,
   "id": "f8f0727b",
   "metadata": {},
   "outputs": [],
   "source": [
    "b = '32'"
   ]
  },
  {
   "cell_type": "code",
   "execution_count": 40,
   "id": "5ee40cf6",
   "metadata": {},
   "outputs": [
    {
     "data": {
      "text/plain": [
       "str"
      ]
     },
     "execution_count": 40,
     "metadata": {},
     "output_type": "execute_result"
    }
   ],
   "source": [
    "type(b)"
   ]
  },
  {
   "cell_type": "code",
   "execution_count": 41,
   "id": "844edb79",
   "metadata": {},
   "outputs": [
    {
     "data": {
      "text/plain": [
       "140454958964912"
      ]
     },
     "execution_count": 41,
     "metadata": {},
     "output_type": "execute_result"
    }
   ],
   "source": [
    "id(b)"
   ]
  },
  {
   "cell_type": "code",
   "execution_count": 12,
   "id": "bb54e9b2",
   "metadata": {},
   "outputs": [
    {
     "data": {
      "text/plain": [
       "51"
      ]
     },
     "execution_count": 12,
     "metadata": {},
     "output_type": "execute_result"
    }
   ],
   "source": [
    "ord(b)"
   ]
  },
  {
   "cell_type": "code",
   "execution_count": 13,
   "id": "ef2645ef",
   "metadata": {},
   "outputs": [],
   "source": [
    "c = \"3\""
   ]
  },
  {
   "cell_type": "code",
   "execution_count": 17,
   "id": "0ed95fa9",
   "metadata": {},
   "outputs": [
    {
     "name": "stdout",
     "output_type": "stream",
     "text": [
      "<class 'str'>\n"
     ]
    }
   ],
   "source": [
    "print(type(b))"
   ]
  },
  {
   "cell_type": "code",
   "execution_count": 16,
   "id": "02949c55",
   "metadata": {},
   "outputs": [
    {
     "name": "stdout",
     "output_type": "stream",
     "text": [
      "Hello world\n"
     ]
    }
   ],
   "source": [
    "print(\"Hello world\")"
   ]
  },
  {
   "cell_type": "code",
   "execution_count": 21,
   "id": "c7954826",
   "metadata": {},
   "outputs": [],
   "source": [
    "a = 3"
   ]
  },
  {
   "cell_type": "code",
   "execution_count": 25,
   "id": "263d9e66",
   "metadata": {},
   "outputs": [
    {
     "data": {
      "text/plain": [
       "builtin_function_or_method"
      ]
     },
     "execution_count": 25,
     "metadata": {},
     "output_type": "execute_result"
    }
   ],
   "source": [
    "type(print)"
   ]
  },
  {
   "cell_type": "code",
   "execution_count": 22,
   "id": "aaacd64b",
   "metadata": {},
   "outputs": [
    {
     "name": "stdout",
     "output_type": "stream",
     "text": [
      "3 <class 'int'>\n"
     ]
    }
   ],
   "source": [
    "print(a, type(a))"
   ]
  },
  {
   "cell_type": "code",
   "execution_count": 23,
   "id": "208a9a67",
   "metadata": {},
   "outputs": [],
   "source": [
    "def sumer():\n",
    "    print(\"hello world!\")"
   ]
  },
  {
   "cell_type": "code",
   "execution_count": 26,
   "id": "ec713fdd",
   "metadata": {},
   "outputs": [
    {
     "name": "stdout",
     "output_type": "stream",
     "text": [
      "hello world!\n"
     ]
    }
   ],
   "source": [
    "print(\"hello world!\")"
   ]
  },
  {
   "cell_type": "code",
   "execution_count": 30,
   "id": "c2e75df6",
   "metadata": {},
   "outputs": [
    {
     "name": "stdout",
     "output_type": "stream",
     "text": [
      "hello world!\n"
     ]
    }
   ],
   "source": [
    "sumer()"
   ]
  },
  {
   "cell_type": "code",
   "execution_count": 31,
   "id": "1f36c75f",
   "metadata": {},
   "outputs": [
    {
     "data": {
      "text/plain": [
       "<function __main__.sumer()>"
      ]
     },
     "execution_count": 31,
     "metadata": {},
     "output_type": "execute_result"
    }
   ],
   "source": [
    "sumer"
   ]
  },
  {
   "cell_type": "code",
   "execution_count": 32,
   "id": "409d7d38",
   "metadata": {},
   "outputs": [
    {
     "name": "stdout",
     "output_type": "stream",
     "text": [
      "Hello world!\n"
     ]
    }
   ],
   "source": [
    "print(\"Hello world!\")"
   ]
  },
  {
   "cell_type": "code",
   "execution_count": 33,
   "id": "a0b37152",
   "metadata": {},
   "outputs": [],
   "source": [
    "aa = print"
   ]
  },
  {
   "cell_type": "code",
   "execution_count": 37,
   "id": "cc8fca30",
   "metadata": {},
   "outputs": [
    {
     "name": "stdout",
     "output_type": "stream",
     "text": [
      "Hello sahil bhai\n"
     ]
    }
   ],
   "source": [
    "aa('Hello sahil bhai')"
   ]
  },
  {
   "cell_type": "code",
   "execution_count": 45,
   "id": "0a6fecf0",
   "metadata": {},
   "outputs": [
    {
     "name": "stdout",
     "output_type": "stream",
     "text": [
      "<class 'str'>\n"
     ]
    }
   ],
   "source": [
    "print(type(b))"
   ]
  },
  {
   "cell_type": "code",
   "execution_count": 47,
   "id": "4bb3c6d7",
   "metadata": {},
   "outputs": [
    {
     "name": "stdout",
     "output_type": "stream",
     "text": [
      "hello world\n"
     ]
    }
   ],
   "source": [
    "# a = \"hello\"\n",
    "a = 'hello' + ' world'\n",
    "print(a)"
   ]
  },
  {
   "cell_type": "code",
   "execution_count": 83,
   "id": "22a4922c",
   "metadata": {},
   "outputs": [],
   "source": [
    "def name_printer(name):\n",
    "    print(\"Hello \"+name)\n",
    "    return (\"Hello \"+name)"
   ]
  },
  {
   "cell_type": "code",
   "execution_count": 72,
   "id": "184854f0",
   "metadata": {},
   "outputs": [
    {
     "name": "stdout",
     "output_type": "stream",
     "text": [
      "Hello Bhuvan\n"
     ]
    }
   ],
   "source": [
    "var = name_printer('Bhuvan')"
   ]
  },
  {
   "cell_type": "code",
   "execution_count": 73,
   "id": "b0453206",
   "metadata": {},
   "outputs": [
    {
     "name": "stdout",
     "output_type": "stream",
     "text": [
      "<function name_printer at 0x7fbe39746160>\n"
     ]
    }
   ],
   "source": [
    "print(name_printer)"
   ]
  },
  {
   "cell_type": "code",
   "execution_count": 74,
   "id": "491cee45",
   "metadata": {},
   "outputs": [
    {
     "data": {
      "text/plain": [
       "'Hello Bhuvan'"
      ]
     },
     "execution_count": 74,
     "metadata": {},
     "output_type": "execute_result"
    }
   ],
   "source": [
    "var"
   ]
  },
  {
   "cell_type": "code",
   "execution_count": 75,
   "id": "6e6c02cc",
   "metadata": {},
   "outputs": [
    {
     "name": "stdout",
     "output_type": "stream",
     "text": [
      "hi\n"
     ]
    }
   ],
   "source": [
    "variable = print(\"hi\")"
   ]
  },
  {
   "cell_type": "code",
   "execution_count": 78,
   "id": "eb771974",
   "metadata": {},
   "outputs": [
    {
     "name": "stdout",
     "output_type": "stream",
     "text": [
      "None\n"
     ]
    }
   ],
   "source": [
    "print(variable)"
   ]
  },
  {
   "cell_type": "code",
   "execution_count": 79,
   "id": "ddac5c23",
   "metadata": {},
   "outputs": [],
   "source": [
    "a = 1\n",
    "b = 2"
   ]
  },
  {
   "cell_type": "code",
   "execution_count": 80,
   "id": "4f5f9f91",
   "metadata": {},
   "outputs": [
    {
     "name": "stdout",
     "output_type": "stream",
     "text": [
      "3 -1 2 0.5 1\n"
     ]
    }
   ],
   "source": [
    "print(a+b, a-b, a*b, a/b, a%b)"
   ]
  },
  {
   "cell_type": "code",
   "execution_count": 87,
   "id": "ac9adc08",
   "metadata": {},
   "outputs": [],
   "source": [
    "def calculator(a, b):\n",
    "    \n",
    "    return (a+b), (a-b), (a*b), (a/b), (a%b)"
   ]
  },
  {
   "cell_type": "code",
   "execution_count": 90,
   "id": "40932d41",
   "metadata": {},
   "outputs": [],
   "source": [
    "add, sub, mul, div, rem = calculator(100, 59)"
   ]
  },
  {
   "cell_type": "code",
   "execution_count": 91,
   "id": "96fb8539",
   "metadata": {},
   "outputs": [
    {
     "name": "stdout",
     "output_type": "stream",
     "text": [
      "159 41 5900 1.694915254237288 41\n"
     ]
    }
   ],
   "source": [
    "print(add, sub, mul, div, rem)"
   ]
  },
  {
   "cell_type": "code",
   "execution_count": 92,
   "id": "5f952ff7",
   "metadata": {},
   "outputs": [],
   "source": [
    "def first(name):\n",
    "    return name\n",
    "def second(name):\n",
    "    return name\n",
    "first_name = first('Abhijeet')\n",
    "last_name = second('Bhattacharya')"
   ]
  },
  {
   "cell_type": "code",
   "execution_count": 99,
   "id": "0d0b025c",
   "metadata": {},
   "outputs": [],
   "source": [
    "def name(f_n, l_n, name_1, name_2):    \n",
    "    print(f_n(name_1) + ' ' + l_n(name_2))"
   ]
  },
  {
   "cell_type": "code",
   "execution_count": 96,
   "id": "5cd7ed7d",
   "metadata": {},
   "outputs": [
    {
     "name": "stdout",
     "output_type": "stream",
     "text": [
      "Abhijeet Bhattacharya\n"
     ]
    }
   ],
   "source": [
    "print(first_name, last_name)"
   ]
  },
  {
   "cell_type": "code",
   "execution_count": 95,
   "id": "4c46fa2f",
   "metadata": {},
   "outputs": [
    {
     "name": "stdout",
     "output_type": "stream",
     "text": [
      "Abhijeet Bhattacharya\n"
     ]
    }
   ],
   "source": [
    "name(first_name, last_name)"
   ]
  },
  {
   "cell_type": "code",
   "execution_count": 97,
   "id": "8d7210a2",
   "metadata": {},
   "outputs": [
    {
     "name": "stdout",
     "output_type": "stream",
     "text": [
      "Abhijeet Bhattacharya\n"
     ]
    }
   ],
   "source": [
    "name(first('Abhijeet'), second('Bhattacharya'))"
   ]
  },
  {
   "cell_type": "code",
   "execution_count": 100,
   "id": "ec2a5e59",
   "metadata": {},
   "outputs": [
    {
     "name": "stdout",
     "output_type": "stream",
     "text": [
      "Abhijeet Bhattacharya\n"
     ]
    }
   ],
   "source": [
    "name(first, second, 'Abhijeet', 'Bhattacharya')"
   ]
  },
  {
   "cell_type": "code",
   "execution_count": 1,
   "id": "9935b2d4",
   "metadata": {},
   "outputs": [],
   "source": [
    "# If \n",
    "# Else\n",
    "# Elif"
   ]
  },
  {
   "cell_type": "code",
   "execution_count": 23,
   "id": "4ea369b5",
   "metadata": {},
   "outputs": [],
   "source": [
    "integer = 9"
   ]
  },
  {
   "cell_type": "code",
   "execution_count": 24,
   "id": "2b5f8a01",
   "metadata": {},
   "outputs": [
    {
     "data": {
      "text/plain": [
       "True"
      ]
     },
     "execution_count": 24,
     "metadata": {},
     "output_type": "execute_result"
    }
   ],
   "source": [
    "integer == 9"
   ]
  },
  {
   "cell_type": "code",
   "execution_count": 3,
   "id": "8eb2d2ca",
   "metadata": {},
   "outputs": [
    {
     "data": {
      "text/plain": [
       "False"
      ]
     },
     "execution_count": 3,
     "metadata": {},
     "output_type": "execute_result"
    }
   ],
   "source": [
    "integer>10"
   ]
  },
  {
   "cell_type": "code",
   "execution_count": 5,
   "id": "5b77eded",
   "metadata": {},
   "outputs": [
    {
     "name": "stdout",
     "output_type": "stream",
     "text": [
      "Hello\n"
     ]
    }
   ],
   "source": [
    "if integer < 10:\n",
    "    print(\"Hello\")\n",
    "else:\n",
    "    print(\"Bye\")"
   ]
  },
  {
   "cell_type": "code",
   "execution_count": 7,
   "id": "36e8614b",
   "metadata": {},
   "outputs": [
    {
     "name": "stdout",
     "output_type": "stream",
     "text": [
      "Hello Hello\n"
     ]
    }
   ],
   "source": [
    "if integer > 10:\n",
    "    print(\"Hello\")\n",
    "elif integer > 7:\n",
    "    print(\"Hello Hello\")\n",
    "else:\n",
    "    print(\"Bye\")"
   ]
  },
  {
   "cell_type": "code",
   "execution_count": 34,
   "id": "a88ade32",
   "metadata": {},
   "outputs": [],
   "source": [
    "def comp(a, b):\n",
    "    if a > b:\n",
    "        print(\"A is greater\")\n",
    "    elif a == b:\n",
    "        print(\"Both numbers equal\")\n",
    "    else:\n",
    "        print(\"B is greater\")"
   ]
  },
  {
   "cell_type": "code",
   "execution_count": 18,
   "id": "82b31267",
   "metadata": {},
   "outputs": [
    {
     "name": "stdout",
     "output_type": "stream",
     "text": [
      "Both numbers equal\n"
     ]
    }
   ],
   "source": [
    "comp(60, 60)"
   ]
  },
  {
   "cell_type": "code",
   "execution_count": 30,
   "id": "28439d7e",
   "metadata": {},
   "outputs": [
    {
     "name": "stdout",
     "output_type": "stream",
     "text": [
      "Enter any number: 6\n"
     ]
    }
   ],
   "source": [
    "b = input('Enter any number: ')"
   ]
  },
  {
   "cell_type": "code",
   "execution_count": 31,
   "id": "0670ad54",
   "metadata": {},
   "outputs": [
    {
     "name": "stdout",
     "output_type": "stream",
     "text": [
      "6\n",
      "54\n"
     ]
    }
   ],
   "source": [
    "print(b)\n",
    "# print(ord(b))"
   ]
  },
  {
   "cell_type": "code",
   "execution_count": 22,
   "id": "7a61ae1e",
   "metadata": {},
   "outputs": [
    {
     "data": {
      "text/plain": [
       "False"
      ]
     },
     "execution_count": 22,
     "metadata": {},
     "output_type": "execute_result"
    }
   ],
   "source": [
    "b == 7"
   ]
  },
  {
   "cell_type": "code",
   "execution_count": 26,
   "id": "87951252",
   "metadata": {},
   "outputs": [
    {
     "name": "stdout",
     "output_type": "stream",
     "text": [
      "<class 'str'>\n"
     ]
    }
   ],
   "source": [
    "print(type(b))"
   ]
  },
  {
   "cell_type": "code",
   "execution_count": 27,
   "id": "22fd4edc",
   "metadata": {},
   "outputs": [
    {
     "data": {
      "text/plain": [
       "True"
      ]
     },
     "execution_count": 27,
     "metadata": {},
     "output_type": "execute_result"
    }
   ],
   "source": [
    "int(b) == 7"
   ]
  },
  {
   "cell_type": "code",
   "execution_count": 28,
   "id": "77334334",
   "metadata": {},
   "outputs": [
    {
     "data": {
      "text/plain": [
       "False"
      ]
     },
     "execution_count": 28,
     "metadata": {},
     "output_type": "execute_result"
    }
   ],
   "source": [
    "b == 7"
   ]
  },
  {
   "cell_type": "code",
   "execution_count": 29,
   "id": "74e3c7c1",
   "metadata": {},
   "outputs": [
    {
     "data": {
      "text/plain": [
       "True"
      ]
     },
     "execution_count": 29,
     "metadata": {},
     "output_type": "execute_result"
    }
   ],
   "source": [
    "b = int(b)\n",
    "b == 7"
   ]
  },
  {
   "cell_type": "code",
   "execution_count": 41,
   "id": "7726809a",
   "metadata": {},
   "outputs": [
    {
     "name": "stdout",
     "output_type": "stream",
     "text": [
      "5\n",
      "1\n"
     ]
    }
   ],
   "source": [
    "a = int(input())\n",
    "b = int(input())"
   ]
  },
  {
   "cell_type": "code",
   "execution_count": 42,
   "id": "3e1bdd09",
   "metadata": {},
   "outputs": [
    {
     "name": "stdout",
     "output_type": "stream",
     "text": [
      "A is greater\n"
     ]
    }
   ],
   "source": [
    "comp(a, b)"
   ]
  },
  {
   "cell_type": "code",
   "execution_count": 54,
   "id": "c980cb9a",
   "metadata": {},
   "outputs": [
    {
     "name": "stdout",
     "output_type": "stream",
     "text": [
      "Enter 1st number23\n",
      "Enter 2nd Number33\n",
      "B is greater\n"
     ]
    }
   ],
   "source": [
    "comp(int(input('Enter 1st number')), int(input('Enter 2nd Number')))"
   ]
  },
  {
   "cell_type": "code",
   "execution_count": 44,
   "id": "7e4af64b",
   "metadata": {},
   "outputs": [
    {
     "data": {
      "text/plain": [
       "<bound method Kernel.raw_input of <ipykernel.ipkernel.IPythonKernel object at 0x7fb86ffb8a00>>"
      ]
     },
     "execution_count": 44,
     "metadata": {},
     "output_type": "execute_result"
    }
   ],
   "source": [
    "input"
   ]
  },
  {
   "cell_type": "code",
   "execution_count": 47,
   "id": "3ff9f5b3",
   "metadata": {},
   "outputs": [
    {
     "name": "stdout",
     "output_type": "stream",
     "text": [
      "Enter Strings\n"
     ]
    }
   ],
   "source": [
    "string = input(\"Enter String\")"
   ]
  },
  {
   "cell_type": "code",
   "execution_count": 48,
   "id": "1ca821fa",
   "metadata": {},
   "outputs": [
    {
     "data": {
      "text/plain": [
       "'s'"
      ]
     },
     "execution_count": 48,
     "metadata": {},
     "output_type": "execute_result"
    }
   ],
   "source": [
    "string"
   ]
  },
  {
   "cell_type": "code",
   "execution_count": 52,
   "id": "3cfb726c",
   "metadata": {},
   "outputs": [
    {
     "data": {
      "text/plain": [
       "False"
      ]
     },
     "execution_count": 52,
     "metadata": {},
     "output_type": "execute_result"
    }
   ],
   "source": [
    "string > 'z'"
   ]
  },
  {
   "cell_type": "code",
   "execution_count": 55,
   "id": "ef8d234c",
   "metadata": {},
   "outputs": [],
   "source": [
    "integer = 10"
   ]
  },
  {
   "cell_type": "code",
   "execution_count": 57,
   "id": "f742bb2f",
   "metadata": {},
   "outputs": [
    {
     "name": "stdout",
     "output_type": "stream",
     "text": [
      "<class 'str'>\n"
     ]
    }
   ],
   "source": [
    "print(type(str(integer)))"
   ]
  },
  {
   "cell_type": "code",
   "execution_count": 61,
   "id": "5cd83385",
   "metadata": {},
   "outputs": [
    {
     "name": "stdout",
     "output_type": "stream",
     "text": [
      "jkbjv8888 aszcd\n"
     ]
    },
    {
     "ename": "ValueError",
     "evalue": "invalid literal for int() with base 10: 'jkbjv8888 aszcd'",
     "output_type": "error",
     "traceback": [
      "\u001b[0;31m---------------------------------------------------------------------------\u001b[0m",
      "\u001b[0;31mValueError\u001b[0m                                Traceback (most recent call last)",
      "Cell \u001b[0;32mIn[61], line 1\u001b[0m\n\u001b[0;32m----> 1\u001b[0m \u001b[38;5;28mprint\u001b[39m(\u001b[38;5;28;43mint\u001b[39;49m\u001b[43m(\u001b[49m\u001b[38;5;28;43minput\u001b[39;49m\u001b[43m(\u001b[49m\u001b[43m)\u001b[49m\u001b[43m)\u001b[49m)\n",
      "\u001b[0;31mValueError\u001b[0m: invalid literal for int() with base 10: 'jkbjv8888 aszcd'"
     ]
    }
   ],
   "source": [
    "print(int(input()))"
   ]
  },
  {
   "cell_type": "code",
   "execution_count": 62,
   "id": "66c7181e",
   "metadata": {},
   "outputs": [],
   "source": [
    "# FOR\n",
    "# While"
   ]
  },
  {
   "cell_type": "code",
   "execution_count": 74,
   "id": "051829d3",
   "metadata": {},
   "outputs": [
    {
     "name": "stdout",
     "output_type": "stream",
     "text": [
      "0\n",
      "1\n",
      "2\n",
      "3\n",
      "4\n"
     ]
    }
   ],
   "source": [
    "for abhijeet in range(5):\n",
    "    print(abhijeet)"
   ]
  },
  {
   "cell_type": "code",
   "execution_count": 76,
   "id": "d583aeb3",
   "metadata": {},
   "outputs": [
    {
     "name": "stdout",
     "output_type": "stream",
     "text": [
      "Enter number0\n",
      "0\n",
      "Enter number0\n",
      "0\n",
      "Enter number0\n",
      "0\n",
      "Enter number0\n",
      "0\n",
      "Enter number0\n",
      "0\n"
     ]
    }
   ],
   "source": [
    "for i in range(5):\n",
    "    print(input('Enter number'))"
   ]
  },
  {
   "cell_type": "code",
   "execution_count": 86,
   "id": "e30e2e75",
   "metadata": {},
   "outputs": [
    {
     "name": "stdout",
     "output_type": "stream",
     "text": [
      "Enter number: 5\n",
      "Enter number: 10\n"
     ]
    }
   ],
   "source": [
    "number_1 = int(input(\"Enter number: \"))\n",
    "number_2 = int(input(\"Enter number: \"))"
   ]
  },
  {
   "cell_type": "code",
   "execution_count": 87,
   "id": "e9483918",
   "metadata": {},
   "outputs": [],
   "source": [
    "def adder(n, m):\n",
    "    summer = 0\n",
    "    for i in range(n, m+1):\n",
    "        summer += i\n",
    "        \n",
    "    print(summer)"
   ]
  },
  {
   "cell_type": "code",
   "execution_count": 88,
   "id": "8de5dabc",
   "metadata": {},
   "outputs": [
    {
     "name": "stdout",
     "output_type": "stream",
     "text": [
      "45\n"
     ]
    }
   ],
   "source": [
    "adder(number_1, number_2)"
   ]
  },
  {
   "cell_type": "code",
   "execution_count": 97,
   "id": "18580192",
   "metadata": {},
   "outputs": [
    {
     "name": "stdout",
     "output_type": "stream",
     "text": [
      "5\n",
      "Number_1 updated --> 6\n",
      "6\n",
      "Number_1 updated --> 7\n",
      "7\n",
      "Number_1 updated --> 8\n",
      "8\n",
      "Number_1 updated --> 9\n",
      "9\n",
      "Number_1 updated --> 10\n",
      "10\n",
      "Number_1 updated --> 11\n"
     ]
    }
   ],
   "source": [
    "number_1 = 5\n",
    "while number_1 <= 10:\n",
    "    print(number_1)\n",
    "    number_1 += 1\n",
    "    print(\"Number_1 updated -->\", number_1)"
   ]
  },
  {
   "cell_type": "code",
   "execution_count": 98,
   "id": "d64c88a5",
   "metadata": {},
   "outputs": [],
   "source": [
    "# break\n",
    "# Continue"
   ]
  },
  {
   "cell_type": "code",
   "execution_count": 101,
   "id": "8e294221",
   "metadata": {},
   "outputs": [
    {
     "name": "stdout",
     "output_type": "stream",
     "text": [
      "Enter a number1\n",
      "Wrong number type again\n",
      "Enter a number2\n",
      "Wrong number type again\n",
      "Enter a number3\n",
      "Wrong number type again\n",
      "Enter a number4\n",
      "Wrong number type again\n",
      "Enter a number9\n",
      "Kuch bhi\n"
     ]
    }
   ],
   "source": [
    "while True:\n",
    "    integer = int(input(\"Enter a number\"))\n",
    "    if integer == 9:\n",
    "        break\n",
    "    else: \n",
    "        print(\"Wrong number type again\")\n",
    "print(\"Kuch bhi\")"
   ]
  },
  {
   "cell_type": "code",
   "execution_count": 104,
   "id": "65fada22",
   "metadata": {},
   "outputs": [
    {
     "name": "stdout",
     "output_type": "stream",
     "text": [
      "Enter a number4\n",
      "Galat number\n",
      "Enter a number9\n",
      "Hello\n"
     ]
    }
   ],
   "source": [
    "while True:\n",
    "    while True:\n",
    "        integer = int(input('Enter a number'))\n",
    "        if integer == 9:\n",
    "            break\n",
    "        else:\n",
    "            print('Galat number')\n",
    "    print(\"Hello\")\n",
    "    break"
   ]
  },
  {
   "cell_type": "code",
   "execution_count": 107,
   "id": "40dbc901",
   "metadata": {},
   "outputs": [
    {
     "name": "stdout",
     "output_type": "stream",
     "text": [
      "Enter a number1\n",
      "1\n",
      "Enter a number2\n",
      "2\n",
      "Enter a number3\n",
      "3\n",
      "Enter a number7\n",
      "Enter a number4\n",
      "4\n",
      "Enter a number2\n",
      "2\n",
      "Enter a number0\n"
     ]
    }
   ],
   "source": [
    "for _ in range(100):\n",
    "    j = int(input(\"Enter a number\"))\n",
    "    if j == 7:\n",
    "        continue\n",
    "    elif j == 0:\n",
    "        break\n",
    "    print(j)"
   ]
  },
  {
   "cell_type": "code",
   "execution_count": 108,
   "id": "b3ce0c86",
   "metadata": {},
   "outputs": [],
   "source": [
    "integer = 10"
   ]
  },
  {
   "cell_type": "code",
   "execution_count": 111,
   "id": "7a65acd4",
   "metadata": {},
   "outputs": [],
   "source": [
    "if integer != 10:\n",
    "    print('hello')"
   ]
  },
  {
   "cell_type": "code",
   "execution_count": 117,
   "id": "015d3153",
   "metadata": {},
   "outputs": [],
   "source": [
    "integer = 8"
   ]
  },
  {
   "cell_type": "code",
   "execution_count": 118,
   "id": "41d10ddc",
   "metadata": {},
   "outputs": [
    {
     "name": "stdout",
     "output_type": "stream",
     "text": [
      "1073741824\n"
     ]
    }
   ],
   "source": [
    "print(integer**10)"
   ]
  },
  {
   "cell_type": "code",
   "execution_count": 120,
   "id": "7bebd6ef",
   "metadata": {},
   "outputs": [
    {
     "name": "stdout",
     "output_type": "stream",
     "text": [
      "hello\n"
     ]
    }
   ],
   "source": [
    "if integer == 10 or integer == 8:\n",
    "    print(\"hello\")\n",
    "else:\n",
    "    print(\"Bye\")"
   ]
  },
  {
   "cell_type": "code",
   "execution_count": 122,
   "id": "9c146feb",
   "metadata": {},
   "outputs": [
    {
     "name": "stdout",
     "output_type": "stream",
     "text": [
      "hello\n"
     ]
    }
   ],
   "source": [
    "if integer < 10 and integer == 8:\n",
    "    print(\"hello\")\n",
    "else:\n",
    "    print(\"Bye\")"
   ]
  },
  {
   "cell_type": "code",
   "execution_count": 132,
   "id": "0e206ea0",
   "metadata": {},
   "outputs": [
    {
     "name": "stdout",
     "output_type": "stream",
     "text": [
      "0\n",
      "1\n",
      "2\n",
      "3\n",
      "4\n",
      "5\n",
      "6\n",
      "7\n",
      "8\n",
      "9\n"
     ]
    }
   ],
   "source": [
    "num = 0\n",
    "while True:\n",
    "    print(num)\n",
    "    num+=1\n",
    "    if num == 10:\n",
    "        break\n",
    "    else:\n",
    "        pass"
   ]
  },
  {
   "cell_type": "code",
   "execution_count": 138,
   "id": "d92995b1",
   "metadata": {},
   "outputs": [],
   "source": [
    "def comp(a):\n",
    "    if (a%2) == 0:\n",
    "        print('Even')\n",
    "    else:\n",
    "        print('ODD')"
   ]
  },
  {
   "cell_type": "code",
   "execution_count": 139,
   "id": "7316d1a8",
   "metadata": {},
   "outputs": [
    {
     "name": "stdout",
     "output_type": "stream",
     "text": [
      "ODD\n"
     ]
    }
   ],
   "source": [
    "comp(11)"
   ]
  },
  {
   "cell_type": "code",
   "execution_count": 4,
   "id": "23ca27b2",
   "metadata": {},
   "outputs": [
    {
     "name": "stdout",
     "output_type": "stream",
     "text": [
      "Enter a number: 10\n",
      "10 is not a prime number\n"
     ]
    }
   ],
   "source": [
    "# num = 29\n",
    "num = int(input(\"Enter a number: \"))\n",
    "\n",
    "flag = False\n",
    "\n",
    "if num == 1:\n",
    "    print(num, \"is not a prime number\")\n",
    "elif num > 1:\n",
    "    for i in range(2, num):\n",
    "        if (num % i) == 0:\n",
    "            flag = True\n",
    "            break\n",
    "\n",
    "    if flag:\n",
    "        print(num, \"is not a prime number\")\n",
    "    else:\n",
    "        print(num, \"is a prime number\")\n"
   ]
  },
  {
   "cell_type": "code",
   "execution_count": 216,
   "id": "d1bfbaf1",
   "metadata": {},
   "outputs": [],
   "source": [
    "# In built Data-structures Python\n",
    "# 1. Strings\n",
    "# 2. Lists\n",
    "# 3. Tupples\n",
    "# 4. Dictionaries"
   ]
  },
  {
   "cell_type": "code",
   "execution_count": 32,
   "id": "85e58351",
   "metadata": {},
   "outputs": [
    {
     "name": "stdout",
     "output_type": "stream",
     "text": [
      "4377172640 4377172640\n"
     ]
    }
   ],
   "source": [
    "string = 256\n",
    "string1 = 256\n",
    "string2 = 1000000\n",
    "print(id(string), id(string1))"
   ]
  },
  {
   "cell_type": "code",
   "execution_count": 21,
   "id": "80d8f297",
   "metadata": {},
   "outputs": [
    {
     "name": "stdout",
     "output_type": "stream",
     "text": [
      "4377172640 256 4377164768 10\n"
     ]
    }
   ],
   "source": [
    "string1 = 10\n",
    "print(id(string), string, id(string1), string1)"
   ]
  },
  {
   "cell_type": "code",
   "execution_count": 27,
   "id": "d8d0b20d",
   "metadata": {},
   "outputs": [
    {
     "name": "stdout",
     "output_type": "stream",
     "text": [
      "122\n"
     ]
    }
   ],
   "source": [
    "print(ord('z'))"
   ]
  },
  {
   "cell_type": "code",
   "execution_count": 39,
   "id": "ce667fe8",
   "metadata": {},
   "outputs": [
    {
     "name": "stdout",
     "output_type": "stream",
     "text": [
      "The string1 is 256, string2 is 256, and string3 is 1000000\n"
     ]
    }
   ],
   "source": [
    "print(\"The string1 is {}, string2 is {}, and string3 is {}\".format(string, string1, string2))"
   ]
  },
  {
   "cell_type": "code",
   "execution_count": 43,
   "id": "3d687014",
   "metadata": {},
   "outputs": [
    {
     "data": {
      "text/plain": [
       "range"
      ]
     },
     "execution_count": 43,
     "metadata": {},
     "output_type": "execute_result"
    }
   ],
   "source": [
    "type(range(5))"
   ]
  },
  {
   "cell_type": "code",
   "execution_count": 44,
   "id": "3e570cae",
   "metadata": {},
   "outputs": [
    {
     "name": "stdout",
     "output_type": "stream",
     "text": [
      "The string1 is 256, string2 is 256, and string3 is 1000000\n"
     ]
    }
   ],
   "source": [
    "print(f\"The string1 is {string}, string2 is {string1}, and string3 is {string2}\")"
   ]
  },
  {
   "cell_type": "code",
   "execution_count": 47,
   "id": "f7923b76",
   "metadata": {},
   "outputs": [
    {
     "name": "stdout",
     "output_type": "stream",
     "text": [
      "2\n",
      "3\n",
      "4\n",
      "The input_1 is: 2, second input is: 3 and third is 4\n"
     ]
    }
   ],
   "source": [
    "print(f\"The input_1 is: {input()}, second input is: {input()} and third is {input()}\")"
   ]
  },
  {
   "cell_type": "code",
   "execution_count": 48,
   "id": "451b5ea6",
   "metadata": {},
   "outputs": [
    {
     "name": "stdout",
     "output_type": "stream",
     "text": [
      "Enter 1 number1\n",
      "Enter second number2\n",
      "Enter number 34\n"
     ]
    }
   ],
   "source": [
    "num1 = input('Enter 1 number')\n",
    "num2 = input('Enter second number')\n",
    "num3 = input('Enter number 3')"
   ]
  },
  {
   "cell_type": "code",
   "execution_count": 50,
   "id": "f2bafb5b",
   "metadata": {},
   "outputs": [
    {
     "name": "stdout",
     "output_type": "stream",
     "text": [
      "Enter 1 number1\n",
      "Enter 2 number2\n",
      "Enter 3 number3\n",
      "Number 1 is: 1, number 2 is: 2, number 3 is: 3\n"
     ]
    }
   ],
   "source": [
    "print(f\"Number 1 is: {input('Enter 1 number')}, number 2 is: {input('Enter 2 number')}, number 3 is: {input('Enter 3 number')}\")"
   ]
  },
  {
   "cell_type": "code",
   "execution_count": 55,
   "id": "fc2cefe3",
   "metadata": {},
   "outputs": [],
   "source": [
    "del num3"
   ]
  },
  {
   "cell_type": "code",
   "execution_count": 57,
   "id": "a3664d5a",
   "metadata": {},
   "outputs": [
    {
     "ename": "NameError",
     "evalue": "name 'num3' is not defined",
     "output_type": "error",
     "traceback": [
      "\u001b[0;31m---------------------------------------------------------------------------\u001b[0m",
      "\u001b[0;31mNameError\u001b[0m                                 Traceback (most recent call last)",
      "Cell \u001b[0;32mIn[57], line 1\u001b[0m\n\u001b[0;32m----> 1\u001b[0m \u001b[43mnum3\u001b[49m\n",
      "\u001b[0;31mNameError\u001b[0m: name 'num3' is not defined"
     ]
    }
   ],
   "source": [
    "num3"
   ]
  },
  {
   "cell_type": "code",
   "execution_count": 64,
   "id": "3f842a39",
   "metadata": {},
   "outputs": [
    {
     "name": "stdout",
     "output_type": "stream",
     "text": [
      "Enter string   ye s  \n",
      "Not authenticated\n"
     ]
    }
   ],
   "source": [
    "if input(\"Enter string\") == \"yes\":\n",
    "    print(\"Authenticated\")\n",
    "else:\n",
    "    print(\"Not authenticated\")"
   ]
  },
  {
   "cell_type": "code",
   "execution_count": 67,
   "id": "f7de7b33",
   "metadata": {},
   "outputs": [
    {
     "name": "stdout",
     "output_type": "stream",
     "text": [
      "Enter String:      yes \n",
      "     yes \n",
      "yes\n"
     ]
    }
   ],
   "source": [
    "inp = input(\"Enter String: \")\n",
    "print(inp)\n",
    "print(inp.strip())"
   ]
  },
  {
   "cell_type": "code",
   "execution_count": 77,
   "id": "79c46eef",
   "metadata": {},
   "outputs": [
    {
     "name": "stdout",
     "output_type": "stream",
     "text": [
      "Enter String: YeS\n",
      "Not authenticated\n"
     ]
    }
   ],
   "source": [
    "inp = input(\"Enter String: \")\n",
    "if inp.strip() == 'yes' or inp == 'YES':\n",
    "    print(\"Authenticated\")\n",
    "else: \n",
    "    print(\"Not authenticated\")"
   ]
  },
  {
   "cell_type": "code",
   "execution_count": 70,
   "id": "f9f8bbf5",
   "metadata": {},
   "outputs": [
    {
     "name": "stdout",
     "output_type": "stream",
     "text": [
      "Abhijeet Bhattacharya\n",
      "Abhijeet Bhattacharya\n"
     ]
    }
   ],
   "source": [
    "print(input().strip())"
   ]
  },
  {
   "cell_type": "code",
   "execution_count": 84,
   "id": "11b5f0d8",
   "metadata": {},
   "outputs": [
    {
     "name": "stdout",
     "output_type": "stream",
     "text": [
      "['Abhijeet', 'Bhattacharya']\n"
     ]
    }
   ],
   "source": [
    "string = \"Abhijeet Bhattacharya\"\n",
    "print(string.split())"
   ]
  },
  {
   "cell_type": "code",
   "execution_count": 83,
   "id": "f8c72812",
   "metadata": {},
   "outputs": [
    {
     "name": "stdout",
     "output_type": "stream",
     "text": [
      "\n",
      "None\n"
     ]
    }
   ],
   "source": [
    "print(print())"
   ]
  },
  {
   "cell_type": "code",
   "execution_count": 98,
   "id": "44da2f59",
   "metadata": {},
   "outputs": [
    {
     "name": "stdout",
     "output_type": "stream",
     "text": [
      "['the', 'man', 'is', 'sleeping', 'on', 'the', 'bench'] 5\n"
     ]
    }
   ],
   "source": [
    "string = \"the_man_is_sleeping_on_the_bench\"\n",
    "print(string.split(\"_\"), string.count(\"e\"))"
   ]
  },
  {
   "cell_type": "code",
   "execution_count": 87,
   "id": "9c9a11c9",
   "metadata": {},
   "outputs": [
    {
     "name": "stdout",
     "output_type": "stream",
     "text": [
      "thb_man_is_slbbping_on_thb_bbnch\n"
     ]
    }
   ],
   "source": [
    "print(string.replace(\"e\", \"b\"))"
   ]
  },
  {
   "cell_type": "code",
   "execution_count": 88,
   "id": "5ecb3e75",
   "metadata": {},
   "outputs": [
    {
     "data": {
      "text/plain": [
       "'the_man_is_sleeping_on_the_bench'"
      ]
     },
     "execution_count": 88,
     "metadata": {},
     "output_type": "execute_result"
    }
   ],
   "source": [
    "string"
   ]
  },
  {
   "cell_type": "code",
   "execution_count": 89,
   "id": "a3ddcde5",
   "metadata": {},
   "outputs": [],
   "source": [
    "string = string.replace(\"e\", \"b\")"
   ]
  },
  {
   "cell_type": "code",
   "execution_count": 90,
   "id": "3c7d6199",
   "metadata": {},
   "outputs": [
    {
     "data": {
      "text/plain": [
       "'thb_man_is_slbbping_on_thb_bbnch'"
      ]
     },
     "execution_count": 90,
     "metadata": {},
     "output_type": "execute_result"
    }
   ],
   "source": [
    "string"
   ]
  },
  {
   "cell_type": "code",
   "execution_count": 97,
   "id": "3563a49d",
   "metadata": {},
   "outputs": [
    {
     "name": "stdout",
     "output_type": "stream",
     "text": [
      "Enter a number   Hello  j\n",
      "Authenticated\n"
     ]
    }
   ],
   "source": [
    "while 1:\n",
    "    inp = input('Enter a number')\n",
    "    if inp.strip() == 'Hello' or inp.split()[0]=='Hello':\n",
    "        print(\"Authenticated\")\n",
    "        break\n",
    "    else:\n",
    "        print(\"Not authenticated\")"
   ]
  },
  {
   "cell_type": "code",
   "execution_count": 112,
   "id": "7bd5f3df",
   "metadata": {},
   "outputs": [
    {
     "name": "stdout",
     "output_type": "stream",
     "text": [
      "the dog is sleeping\n",
      "THE DOG IS SLEEPING\n",
      "B b\n"
     ]
    }
   ],
   "source": [
    "s = 'The dog is sleeping'\n",
    "print(s.lower())\n",
    "print(s.upper())\n",
    "print(chr(ord('b')-32), chr(98))"
   ]
  },
  {
   "cell_type": "markdown",
   "id": "6498a1fb",
   "metadata": {},
   "source": [
    "LISTS"
   ]
  },
  {
   "cell_type": "code",
   "execution_count": 141,
   "id": "e94a3c1c",
   "metadata": {},
   "outputs": [],
   "source": [
    "students = ['a', 'b', 'c', 1, 2, 3.44, range(2, 7), [1, 2]]"
   ]
  },
  {
   "cell_type": "code",
   "execution_count": 137,
   "id": "3aaa0e05",
   "metadata": {},
   "outputs": [
    {
     "name": "stdout",
     "output_type": "stream",
     "text": [
      "<class 'list'>\n"
     ]
    }
   ],
   "source": [
    "print(type(students[7]))"
   ]
  },
  {
   "cell_type": "code",
   "execution_count": 139,
   "id": "40bcae6c",
   "metadata": {},
   "outputs": [],
   "source": [
    "students[6]"
   ]
  },
  {
   "cell_type": "code",
   "execution_count": 142,
   "id": "44fff610",
   "metadata": {},
   "outputs": [
    {
     "name": "stdout",
     "output_type": "stream",
     "text": [
      "['a', 'b', 'c', 1, 2, 3.44, range(2, 7), [1, 2]]\n"
     ]
    }
   ],
   "source": [
    "print(students)"
   ]
  },
  {
   "cell_type": "code",
   "execution_count": 143,
   "id": "5864d11f",
   "metadata": {},
   "outputs": [
    {
     "name": "stdout",
     "output_type": "stream",
     "text": [
      "['a', 'b', 'c', 1, 2, 3.44, range(2, 7), [1, 2], 'hi']\n"
     ]
    }
   ],
   "source": [
    "students.append(\"hi\")\n",
    "print(students)"
   ]
  },
  {
   "cell_type": "code",
   "execution_count": 157,
   "id": "8f29697a",
   "metadata": {},
   "outputs": [],
   "source": [
    "students.insert(0, \"Hi\")"
   ]
  },
  {
   "cell_type": "code",
   "execution_count": 147,
   "id": "f5e530f4",
   "metadata": {},
   "outputs": [
    {
     "name": "stdout",
     "output_type": "stream",
     "text": [
      "['Hi', 'a', 'Hi', 'b', 'c', 1, 2, 3.44, range(2, 7), [1, 2], 'hi']\n"
     ]
    }
   ],
   "source": [
    "print(students)"
   ]
  },
  {
   "cell_type": "code",
   "execution_count": 154,
   "id": "72fa2edf",
   "metadata": {},
   "outputs": [
    {
     "name": "stdout",
     "output_type": "stream",
     "text": [
      "Hi\n"
     ]
    }
   ],
   "source": [
    "print(students.pop(1))"
   ]
  },
  {
   "cell_type": "code",
   "execution_count": 158,
   "id": "2e4a063e",
   "metadata": {},
   "outputs": [
    {
     "data": {
      "text/plain": [
       "['Hi', 'a', 'c', 1, 2, 3.44, range(2, 7), [1, 2]]"
      ]
     },
     "execution_count": 158,
     "metadata": {},
     "output_type": "execute_result"
    }
   ],
   "source": [
    "students"
   ]
  },
  {
   "cell_type": "code",
   "execution_count": 159,
   "id": "91983c5e",
   "metadata": {},
   "outputs": [],
   "source": [
    "students.remove(\"Hi\")"
   ]
  },
  {
   "cell_type": "code",
   "execution_count": 160,
   "id": "32411c65",
   "metadata": {},
   "outputs": [
    {
     "data": {
      "text/plain": [
       "['a', 'c', 1, 2, 3.44, range(2, 7), [1, 2]]"
      ]
     },
     "execution_count": 160,
     "metadata": {},
     "output_type": "execute_result"
    }
   ],
   "source": [
    "students"
   ]
  },
  {
   "cell_type": "code",
   "execution_count": 161,
   "id": "8df5dfbc",
   "metadata": {},
   "outputs": [
    {
     "name": "stdout",
     "output_type": "stream",
     "text": [
      "[1, 2]\n"
     ]
    }
   ],
   "source": [
    "last = students.pop()\n",
    "print(last)"
   ]
  },
  {
   "cell_type": "code",
   "execution_count": 162,
   "id": "acd33cb0",
   "metadata": {},
   "outputs": [
    {
     "data": {
      "text/plain": [
       "1"
      ]
     },
     "execution_count": 162,
     "metadata": {},
     "output_type": "execute_result"
    }
   ],
   "source": [
    "last[0]"
   ]
  },
  {
   "cell_type": "code",
   "execution_count": 163,
   "id": "2a18c82d",
   "metadata": {},
   "outputs": [
    {
     "data": {
      "text/plain": [
       "['a', 'c', 1, 2, 3.44, range(2, 7)]"
      ]
     },
     "execution_count": 163,
     "metadata": {},
     "output_type": "execute_result"
    }
   ],
   "source": [
    "students"
   ]
  },
  {
   "cell_type": "code",
   "execution_count": 187,
   "id": "f642107a",
   "metadata": {},
   "outputs": [
    {
     "name": "stdout",
     "output_type": "stream",
     "text": [
      "[4557, 354, 2425, 65, 4, 3, 2, 1]\n",
      "[4557, 2425, 354, 65, 4, 3, 2, 1]\n"
     ]
    }
   ],
   "source": [
    "arr = [1,2,3,4,65,2425,354, 4557]\n",
    "arr.reverse()\n",
    "print(arr)\n",
    "print(sorted(arr, reverse=True))"
   ]
  },
  {
   "cell_type": "code",
   "execution_count": 189,
   "id": "0d594a2b",
   "metadata": {},
   "outputs": [
    {
     "name": "stdout",
     "output_type": "stream",
     "text": [
      "[range(2, 7), 3.44, 2, 1, 'c', 'a']\n"
     ]
    }
   ],
   "source": [
    "students\n",
    "students.reverse()\n",
    "print(students)"
   ]
  },
  {
   "cell_type": "markdown",
   "id": "57806640",
   "metadata": {},
   "source": [
    "Tupples"
   ]
  },
  {
   "cell_type": "code",
   "execution_count": 199,
   "id": "acb7aa31",
   "metadata": {},
   "outputs": [],
   "source": [
    "tup = (1,2,3,4,5, 4.5, 'f')"
   ]
  },
  {
   "cell_type": "code",
   "execution_count": 200,
   "id": "2ac6edab",
   "metadata": {},
   "outputs": [
    {
     "data": {
      "text/plain": [
       "tuple"
      ]
     },
     "execution_count": 200,
     "metadata": {},
     "output_type": "execute_result"
    }
   ],
   "source": [
    "type(tup)"
   ]
  },
  {
   "cell_type": "code",
   "execution_count": 201,
   "id": "6127f0b8",
   "metadata": {},
   "outputs": [
    {
     "name": "stdout",
     "output_type": "stream",
     "text": [
      "1\n"
     ]
    }
   ],
   "source": [
    "print(tup[0])"
   ]
  },
  {
   "cell_type": "code",
   "execution_count": 203,
   "id": "b033fd52",
   "metadata": {},
   "outputs": [
    {
     "data": {
      "text/plain": [
       "range(3, 9)"
      ]
     },
     "execution_count": 203,
     "metadata": {},
     "output_type": "execute_result"
    }
   ],
   "source": [
    "range(3, 9)"
   ]
  },
  {
   "cell_type": "code",
   "execution_count": 210,
   "id": "d743a4d1",
   "metadata": {},
   "outputs": [
    {
     "data": {
      "text/plain": [
       "(1, 2, 3, 4, 5, 4.5, 'f')"
      ]
     },
     "execution_count": 210,
     "metadata": {},
     "output_type": "execute_result"
    }
   ],
   "source": [
    "tup"
   ]
  },
  {
   "cell_type": "code",
   "execution_count": 211,
   "id": "df6c530b",
   "metadata": {},
   "outputs": [
    {
     "name": "stdout",
     "output_type": "stream",
     "text": [
      "(10, 2, 3, 4, 5, 4.5, 'f')\n"
     ]
    }
   ],
   "source": [
    "tup = list(tup)\n",
    "tup[0] = 10\n",
    "tup = tuple(tup)\n",
    "print(tup)"
   ]
  },
  {
   "cell_type": "code",
   "execution_count": 212,
   "id": "ce72e92b",
   "metadata": {},
   "outputs": [
    {
     "name": "stdout",
     "output_type": "stream",
     "text": [
      "10\n",
      "2\n",
      "3\n",
      "4\n",
      "5\n",
      "4.5\n",
      "f\n"
     ]
    }
   ],
   "source": [
    "for i in tup:\n",
    "    print(i)"
   ]
  },
  {
   "cell_type": "code",
   "execution_count": 213,
   "id": "246cc92f",
   "metadata": {},
   "outputs": [],
   "source": [
    "def adder(a, b):\n",
    "    return (a, b)"
   ]
  },
  {
   "cell_type": "code",
   "execution_count": 215,
   "id": "620b568c",
   "metadata": {},
   "outputs": [
    {
     "data": {
      "text/plain": [
       "tuple"
      ]
     },
     "execution_count": 215,
     "metadata": {},
     "output_type": "execute_result"
    }
   ],
   "source": [
    "type(adder(1, 2))"
   ]
  },
  {
   "cell_type": "markdown",
   "id": "dda00b9d",
   "metadata": {},
   "source": [
    "Dictionaries"
   ]
  },
  {
   "cell_type": "code",
   "execution_count": 239,
   "id": "0b6ea744",
   "metadata": {},
   "outputs": [],
   "source": [
    "a = {\n",
    "    'a':'first alphabet in oxford dictionary',\n",
    "    'b':'second',\n",
    "    'c':1,\n",
    "    'd':[1,2],\n",
    "    'e':True,\n",
    "    'f':range,\n",
    "    'g':{\n",
    "        'hello':42,\n",
    "        'hi':77.11\n",
    "    }\n",
    "}"
   ]
  },
  {
   "cell_type": "code",
   "execution_count": 223,
   "id": "e14e4cff",
   "metadata": {},
   "outputs": [
    {
     "name": "stdout",
     "output_type": "stream",
     "text": [
      "<class 'dict'>\n"
     ]
    }
   ],
   "source": [
    "print(type(a))"
   ]
  },
  {
   "cell_type": "code",
   "execution_count": 224,
   "id": "3c012c22",
   "metadata": {},
   "outputs": [
    {
     "data": {
      "text/plain": [
       "'first alphabet in oxford dictionary'"
      ]
     },
     "execution_count": 224,
     "metadata": {},
     "output_type": "execute_result"
    }
   ],
   "source": [
    "a['a']"
   ]
  },
  {
   "cell_type": "code",
   "execution_count": 231,
   "id": "3e8ea1e8",
   "metadata": {},
   "outputs": [
    {
     "name": "stdout",
     "output_type": "stream",
     "text": [
      "True\n"
     ]
    }
   ],
   "source": [
    "print(a.get('e'))"
   ]
  },
  {
   "cell_type": "code",
   "execution_count": 242,
   "id": "473a5cc7",
   "metadata": {},
   "outputs": [
    {
     "data": {
      "text/plain": [
       "dict_items([('a', 'first alphabet in oxford dictionary'), ('b', 'second'), ('c', 1), ('d', [1, 2]), ('e', True), ('f', <class 'range'>), ('g', {'hello': 42, 'hi': 77.11})])"
      ]
     },
     "execution_count": 242,
     "metadata": {},
     "output_type": "execute_result"
    }
   ],
   "source": [
    "a.items()"
   ]
  },
  {
   "cell_type": "code",
   "execution_count": 240,
   "id": "2354cfff",
   "metadata": {},
   "outputs": [
    {
     "name": "stdout",
     "output_type": "stream",
     "text": [
      "{'hello': 42, 'hi': 77.11}\n"
     ]
    }
   ],
   "source": [
    "print(a.get('g'))"
   ]
  },
  {
   "cell_type": "code",
   "execution_count": 241,
   "id": "c436a289",
   "metadata": {},
   "outputs": [
    {
     "data": {
      "text/plain": [
       "{'hello': 42, 'hi': 77.11}"
      ]
     },
     "execution_count": 241,
     "metadata": {},
     "output_type": "execute_result"
    }
   ],
   "source": [
    "a['g']"
   ]
  },
  {
   "cell_type": "code",
   "execution_count": 255,
   "id": "b8a2f589",
   "metadata": {},
   "outputs": [
    {
     "name": "stdout",
     "output_type": "stream",
     "text": [
      "first alphabet in oxford dictionary\n",
      "second\n",
      "1\n",
      "[1, 2]\n",
      "True\n",
      "<class 'range'>\n",
      "{'hello': 42, 'hi': 77.11}\n",
      "['first alphabet in oxford dictionary', 'second', 1, [1, 2], True, <class 'range'>, dict_values([42, 77.11])]\n"
     ]
    }
   ],
   "source": [
    "values = []\n",
    "for i in a.items():\n",
    "    print(i[1])\n",
    "    if type(i[1]) == dict:\n",
    "        values.append(i[1].values())\n",
    "        continue\n",
    "    values.append(i[1])\n",
    "print(values)"
   ]
  },
  {
   "cell_type": "code",
   "execution_count": 251,
   "id": "a64771e9",
   "metadata": {},
   "outputs": [
    {
     "data": {
      "text/plain": [
       "dict_keys(['a', 'b', 'c', 'd', 'e', 'f', 'g'])"
      ]
     },
     "execution_count": 251,
     "metadata": {},
     "output_type": "execute_result"
    }
   ],
   "source": [
    "a.keys()"
   ]
  },
  {
   "cell_type": "code",
   "execution_count": 252,
   "id": "14645434",
   "metadata": {},
   "outputs": [
    {
     "data": {
      "text/plain": [
       "dict_values(['first alphabet in oxford dictionary', 'second', 1, [1, 2], True, <class 'range'>, {'hello': 42, 'hi': 77.11}])"
      ]
     },
     "execution_count": 252,
     "metadata": {},
     "output_type": "execute_result"
    }
   ],
   "source": [
    "a.values()"
   ]
  },
  {
   "cell_type": "code",
   "execution_count": null,
   "id": "29fe0a02",
   "metadata": {},
   "outputs": [],
   "source": []
  }
 ],
 "metadata": {
  "kernelspec": {
   "display_name": "Python 3 (ipykernel)",
   "language": "python",
   "name": "python3"
  },
  "language_info": {
   "codemirror_mode": {
    "name": "ipython",
    "version": 3
   },
   "file_extension": ".py",
   "mimetype": "text/x-python",
   "name": "python",
   "nbconvert_exporter": "python",
   "pygments_lexer": "ipython3",
   "version": "3.8.10"
  }
 },
 "nbformat": 4,
 "nbformat_minor": 5
}
