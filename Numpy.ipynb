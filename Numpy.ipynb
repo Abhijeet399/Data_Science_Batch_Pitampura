{
 "cells": [
  {
   "cell_type": "code",
   "execution_count": 1,
   "id": "efc1f752",
   "metadata": {},
   "outputs": [],
   "source": [
    "import numpy as np"
   ]
  },
  {
   "cell_type": "code",
   "execution_count": 2,
   "id": "e9155569",
   "metadata": {},
   "outputs": [],
   "source": [
    "a = []\n",
    "for i in range(100):\n",
    "    a.append(i)"
   ]
  },
  {
   "cell_type": "code",
   "execution_count": 4,
   "id": "19ecf115",
   "metadata": {},
   "outputs": [
    {
     "name": "stdout",
     "output_type": "stream",
     "text": [
      "[0, 1, 2, 3, 4, 5, 6, 7, 8, 9, 10, 11, 12, 13, 14, 15, 16, 17, 18, 19, 20, 21, 22, 23, 24, 25, 26, 27, 28, 29, 30, 31, 32, 33, 34, 35, 36, 37, 38, 39, 40, 41, 42, 43, 44, 45, 46, 47, 48, 49, 50, 51, 52, 53, 54, 55, 56, 57, 58, 59, 60, 61, 62, 63, 64, 65, 66, 67, 68, 69, 70, 71, 72, 73, 74, 75, 76, 77, 78, 79, 80, 81, 82, 83, 84, 85, 86, 87, 88, 89, 90, 91, 92, 93, 94, 95, 96, 97, 98, 99]\n"
     ]
    }
   ],
   "source": [
    "print(a)"
   ]
  },
  {
   "cell_type": "code",
   "execution_count": 5,
   "id": "0e91511c",
   "metadata": {},
   "outputs": [
    {
     "data": {
      "text/plain": [
       "list"
      ]
     },
     "execution_count": 5,
     "metadata": {},
     "output_type": "execute_result"
    }
   ],
   "source": [
    "type(a)"
   ]
  },
  {
   "cell_type": "code",
   "execution_count": 15,
   "id": "d8d8ec00",
   "metadata": {},
   "outputs": [],
   "source": [
    "aa = np.array([[1,2,3,4,5], [2,3,4,5,6]])"
   ]
  },
  {
   "cell_type": "code",
   "execution_count": 16,
   "id": "ffe80c51",
   "metadata": {},
   "outputs": [
    {
     "data": {
      "text/plain": [
       "numpy.ndarray"
      ]
     },
     "execution_count": 16,
     "metadata": {},
     "output_type": "execute_result"
    }
   ],
   "source": [
    "type(aa)"
   ]
  },
  {
   "cell_type": "code",
   "execution_count": 17,
   "id": "f4bb7b44",
   "metadata": {},
   "outputs": [
    {
     "data": {
      "text/plain": [
       "(2, 5)"
      ]
     },
     "execution_count": 17,
     "metadata": {},
     "output_type": "execute_result"
    }
   ],
   "source": [
    "aa.shape"
   ]
  },
  {
   "cell_type": "code",
   "execution_count": 19,
   "id": "96043e5e",
   "metadata": {},
   "outputs": [],
   "source": [
    "b = np.array([[1], [2], [3], [4], [5]])"
   ]
  },
  {
   "cell_type": "code",
   "execution_count": 20,
   "id": "91c9c005",
   "metadata": {},
   "outputs": [
    {
     "data": {
      "text/plain": [
       "(5, 1)"
      ]
     },
     "execution_count": 20,
     "metadata": {},
     "output_type": "execute_result"
    }
   ],
   "source": [
    "b.shape"
   ]
  },
  {
   "cell_type": "code",
   "execution_count": 30,
   "id": "fa33d3b0",
   "metadata": {},
   "outputs": [],
   "source": [
    "aa = np.array([[1,2,3,4,5]])"
   ]
  },
  {
   "cell_type": "code",
   "execution_count": 31,
   "id": "8fdacf63",
   "metadata": {},
   "outputs": [
    {
     "data": {
      "text/plain": [
       "(1, 5)"
      ]
     },
     "execution_count": 31,
     "metadata": {},
     "output_type": "execute_result"
    }
   ],
   "source": [
    "aa.shape"
   ]
  },
  {
   "cell_type": "code",
   "execution_count": 23,
   "id": "7ac72ae7",
   "metadata": {},
   "outputs": [
    {
     "data": {
      "text/plain": [
       "array([[1],\n",
       "       [2],\n",
       "       [3],\n",
       "       [4],\n",
       "       [5]])"
      ]
     },
     "execution_count": 23,
     "metadata": {},
     "output_type": "execute_result"
    }
   ],
   "source": [
    "b"
   ]
  },
  {
   "cell_type": "code",
   "execution_count": 26,
   "id": "e8153dd5",
   "metadata": {},
   "outputs": [],
   "source": [
    "a = np.array(a)"
   ]
  },
  {
   "cell_type": "code",
   "execution_count": 27,
   "id": "c1dc3db4",
   "metadata": {},
   "outputs": [
    {
     "data": {
      "text/plain": [
       "array([ 0,  1,  2,  3,  4,  5,  6,  7,  8,  9, 10, 11, 12, 13, 14, 15, 16,\n",
       "       17, 18, 19, 20, 21, 22, 23, 24, 25, 26, 27, 28, 29, 30, 31, 32, 33,\n",
       "       34, 35, 36, 37, 38, 39, 40, 41, 42, 43, 44, 45, 46, 47, 48, 49, 50,\n",
       "       51, 52, 53, 54, 55, 56, 57, 58, 59, 60, 61, 62, 63, 64, 65, 66, 67,\n",
       "       68, 69, 70, 71, 72, 73, 74, 75, 76, 77, 78, 79, 80, 81, 82, 83, 84,\n",
       "       85, 86, 87, 88, 89, 90, 91, 92, 93, 94, 95, 96, 97, 98, 99])"
      ]
     },
     "execution_count": 27,
     "metadata": {},
     "output_type": "execute_result"
    }
   ],
   "source": [
    "a"
   ]
  },
  {
   "cell_type": "code",
   "execution_count": 28,
   "id": "283ec8af",
   "metadata": {},
   "outputs": [
    {
     "data": {
      "text/plain": [
       "numpy.ndarray"
      ]
     },
     "execution_count": 28,
     "metadata": {},
     "output_type": "execute_result"
    }
   ],
   "source": [
    "type(a)"
   ]
  },
  {
   "cell_type": "code",
   "execution_count": 29,
   "id": "216ea644",
   "metadata": {},
   "outputs": [
    {
     "data": {
      "text/plain": [
       "array([1, 2, 3, 4, 5])"
      ]
     },
     "execution_count": 29,
     "metadata": {},
     "output_type": "execute_result"
    }
   ],
   "source": [
    "aa"
   ]
  },
  {
   "cell_type": "code",
   "execution_count": 36,
   "id": "d962c965",
   "metadata": {},
   "outputs": [],
   "source": [
    "a = [[1,2,3,4,5], [2,3,4,5,6]]"
   ]
  },
  {
   "cell_type": "code",
   "execution_count": 37,
   "id": "417bb1cb",
   "metadata": {},
   "outputs": [
    {
     "data": {
      "text/plain": [
       "[[1, 2, 3, 4, 5], [2, 3, 4, 5, 6]]"
      ]
     },
     "execution_count": 37,
     "metadata": {},
     "output_type": "execute_result"
    }
   ],
   "source": [
    "a"
   ]
  },
  {
   "cell_type": "code",
   "execution_count": 38,
   "id": "11654e48",
   "metadata": {},
   "outputs": [
    {
     "data": {
      "text/plain": [
       "2"
      ]
     },
     "execution_count": 38,
     "metadata": {},
     "output_type": "execute_result"
    }
   ],
   "source": [
    "len(a)"
   ]
  },
  {
   "cell_type": "code",
   "execution_count": 39,
   "id": "7409306b",
   "metadata": {},
   "outputs": [
    {
     "data": {
      "text/plain": [
       "[2, 3, 4, 5, 6]"
      ]
     },
     "execution_count": 39,
     "metadata": {},
     "output_type": "execute_result"
    }
   ],
   "source": [
    "a[1]"
   ]
  },
  {
   "cell_type": "code",
   "execution_count": 44,
   "id": "2890d4cd",
   "metadata": {},
   "outputs": [],
   "source": [
    "a = [1,2,'3',4,\"hello\", print, range]"
   ]
  },
  {
   "cell_type": "code",
   "execution_count": 46,
   "id": "7693fca1",
   "metadata": {},
   "outputs": [
    {
     "name": "stdout",
     "output_type": "stream",
     "text": [
      "[1, 2, '3', 4, 'hello', <built-in function print>, <class 'range'>]\n"
     ]
    }
   ],
   "source": [
    "print(a)"
   ]
  },
  {
   "cell_type": "code",
   "execution_count": 45,
   "id": "81a9db21",
   "metadata": {},
   "outputs": [
    {
     "name": "stdout",
     "output_type": "stream",
     "text": [
      "[1 2 '3' 4 'hello' <built-in function print> <class 'range'>]\n"
     ]
    }
   ],
   "source": [
    "print(np.array(a))"
   ]
  },
  {
   "cell_type": "code",
   "execution_count": 52,
   "id": "b3b60145",
   "metadata": {},
   "outputs": [],
   "source": [
    "c = np.full((3,2), 5)"
   ]
  },
  {
   "cell_type": "code",
   "execution_count": 49,
   "id": "51305172",
   "metadata": {},
   "outputs": [
    {
     "data": {
      "text/plain": [
       "array([[5, 5],\n",
       "       [5, 5],\n",
       "       [5, 5]])"
      ]
     },
     "execution_count": 49,
     "metadata": {},
     "output_type": "execute_result"
    }
   ],
   "source": [
    "c"
   ]
  },
  {
   "cell_type": "code",
   "execution_count": 61,
   "id": "b4eed44d",
   "metadata": {},
   "outputs": [],
   "source": [
    "d = np.eye(4, dtype=int)"
   ]
  },
  {
   "cell_type": "code",
   "execution_count": 75,
   "id": "d0ab7e13",
   "metadata": {},
   "outputs": [
    {
     "name": "stdout",
     "output_type": "stream",
     "text": [
      "[[1 0 0 0]\n",
      " [0 1 0 0]\n",
      " [0 0 1 0]\n",
      " [0 0 0 1]] <class 'numpy.ndarray'>\n"
     ]
    }
   ],
   "source": [
    "print(d, type(d))"
   ]
  },
  {
   "cell_type": "code",
   "execution_count": 66,
   "id": "9d574364",
   "metadata": {},
   "outputs": [],
   "source": [
    "random_int = np.random.random((5,6))"
   ]
  },
  {
   "cell_type": "code",
   "execution_count": 74,
   "id": "3e98b80e",
   "metadata": {},
   "outputs": [
    {
     "data": {
      "text/plain": [
       "array([[0.0350522 , 0.6828361 , 0.62111035, 0.49521466, 0.41186559,\n",
       "        0.09533693],\n",
       "       [0.0682683 , 0.94185866, 0.53756719, 0.31336842, 0.14877274,\n",
       "        0.27485628],\n",
       "       [0.66689365, 0.51666789, 0.8200815 , 0.51639531, 0.34996437,\n",
       "        0.20040056],\n",
       "       [0.43759962, 0.64167495, 0.33655467, 0.15220557, 0.73743474,\n",
       "        0.62473362],\n",
       "       [0.75527182, 0.17163874, 0.41619092, 0.66324688, 0.10062574,\n",
       "        0.58143658]])"
      ]
     },
     "execution_count": 74,
     "metadata": {},
     "output_type": "execute_result"
    }
   ],
   "source": [
    "random_int"
   ]
  },
  {
   "cell_type": "code",
   "execution_count": 71,
   "id": "27695531",
   "metadata": {},
   "outputs": [
    {
     "data": {
      "text/plain": [
       "array([[0.49521466, 0.41186559, 0.09533693]])"
      ]
     },
     "execution_count": 71,
     "metadata": {},
     "output_type": "execute_result"
    }
   ],
   "source": [
    "random_int[:1, 3:]"
   ]
  },
  {
   "cell_type": "code",
   "execution_count": 73,
   "id": "6684b78d",
   "metadata": {},
   "outputs": [
    {
     "data": {
      "text/plain": [
       "array([0.75527182, 0.17163874, 0.41619092, 0.66324688, 0.10062574,\n",
       "       0.58143658])"
      ]
     },
     "execution_count": 73,
     "metadata": {},
     "output_type": "execute_result"
    }
   ],
   "source": [
    "random_int[-1]"
   ]
  },
  {
   "cell_type": "code",
   "execution_count": 79,
   "id": "3c4f4a04",
   "metadata": {},
   "outputs": [],
   "source": [
    "d = np.zeros((10, 8))"
   ]
  },
  {
   "cell_type": "code",
   "execution_count": 80,
   "id": "33ad5615",
   "metadata": {},
   "outputs": [
    {
     "data": {
      "text/plain": [
       "array([[0., 0., 0., 0., 0., 0., 0., 0.],\n",
       "       [0., 0., 0., 0., 0., 0., 0., 0.],\n",
       "       [0., 0., 0., 0., 0., 0., 0., 0.],\n",
       "       [0., 0., 0., 0., 0., 0., 0., 0.],\n",
       "       [0., 0., 0., 0., 0., 0., 0., 0.],\n",
       "       [0., 0., 0., 0., 0., 0., 0., 0.],\n",
       "       [0., 0., 0., 0., 0., 0., 0., 0.],\n",
       "       [0., 0., 0., 0., 0., 0., 0., 0.],\n",
       "       [0., 0., 0., 0., 0., 0., 0., 0.],\n",
       "       [0., 0., 0., 0., 0., 0., 0., 0.]])"
      ]
     },
     "execution_count": 80,
     "metadata": {},
     "output_type": "execute_result"
    }
   ],
   "source": [
    "d"
   ]
  },
  {
   "cell_type": "code",
   "execution_count": 84,
   "id": "c0d433e8",
   "metadata": {},
   "outputs": [],
   "source": [
    "X = np.array([[1,2], [3,4]])\n",
    "Y = np.array([[5,6], [7,8]])"
   ]
  },
  {
   "cell_type": "code",
   "execution_count": 85,
   "id": "2b6d6a5e",
   "metadata": {},
   "outputs": [
    {
     "data": {
      "text/plain": [
       "((2, 2), (2, 2))"
      ]
     },
     "execution_count": 85,
     "metadata": {},
     "output_type": "execute_result"
    }
   ],
   "source": [
    "X.shape, Y.shape"
   ]
  },
  {
   "cell_type": "code",
   "execution_count": 87,
   "id": "78825414",
   "metadata": {},
   "outputs": [
    {
     "name": "stdout",
     "output_type": "stream",
     "text": [
      "[[ 6  8]\n",
      " [10 12]] [[ 6  8]\n",
      " [10 12]]\n"
     ]
    }
   ],
   "source": [
    "print(X+Y, np.add(X, Y))"
   ]
  },
  {
   "cell_type": "code",
   "execution_count": 88,
   "id": "afcea5c1",
   "metadata": {},
   "outputs": [
    {
     "name": "stdout",
     "output_type": "stream",
     "text": [
      "[[-4 -4]\n",
      " [-4 -4]] [[-4 -4]\n",
      " [-4 -4]]\n"
     ]
    }
   ],
   "source": [
    "print(X-Y, np.subtract(X, Y))"
   ]
  },
  {
   "cell_type": "code",
   "execution_count": 89,
   "id": "f5f7ffaf",
   "metadata": {},
   "outputs": [
    {
     "name": "stdout",
     "output_type": "stream",
     "text": [
      "[[ 5 12]\n",
      " [21 32]] [[ 5 12]\n",
      " [21 32]]\n"
     ]
    }
   ],
   "source": [
    "print(X*Y, np.multiply(X, Y))"
   ]
  },
  {
   "cell_type": "code",
   "execution_count": 91,
   "id": "d3f1228e",
   "metadata": {},
   "outputs": [
    {
     "data": {
      "text/plain": [
       "array([[19, 22],\n",
       "       [43, 50]])"
      ]
     },
     "execution_count": 91,
     "metadata": {},
     "output_type": "execute_result"
    }
   ],
   "source": [
    "np.matmul(X, Y)"
   ]
  },
  {
   "cell_type": "code",
   "execution_count": 92,
   "id": "c3e68004",
   "metadata": {},
   "outputs": [
    {
     "name": "stdout",
     "output_type": "stream",
     "text": [
      "[[0.2        0.33333333]\n",
      " [0.42857143 0.5       ]] [[0.2        0.33333333]\n",
      " [0.42857143 0.5       ]]\n"
     ]
    }
   ],
   "source": [
    "print(X/Y, np.divide(X, Y))"
   ]
  },
  {
   "cell_type": "code",
   "execution_count": 94,
   "id": "1fbab531",
   "metadata": {},
   "outputs": [
    {
     "name": "stdout",
     "output_type": "stream",
     "text": [
      "[[2.23606798 2.44948974]\n",
      " [2.64575131 2.82842712]]\n"
     ]
    }
   ],
   "source": [
    "print(np.sqrt(Y))"
   ]
  },
  {
   "cell_type": "code",
   "execution_count": 95,
   "id": "ea047d55",
   "metadata": {},
   "outputs": [
    {
     "name": "stdout",
     "output_type": "stream",
     "text": [
      "[[19 22]\n",
      " [43 50]] [[19 22]\n",
      " [43 50]]\n"
     ]
    }
   ],
   "source": [
    "print(X.dot(Y), np.dot(X, Y))"
   ]
  },
  {
   "cell_type": "code",
   "execution_count": 96,
   "id": "bfae2af2",
   "metadata": {},
   "outputs": [],
   "source": [
    "a = np.array([1,2,3,4,5])\n",
    "b = np.array([1,2,3,4,5])"
   ]
  },
  {
   "cell_type": "code",
   "execution_count": 97,
   "id": "a705be66",
   "metadata": {},
   "outputs": [
    {
     "data": {
      "text/plain": [
       "55"
      ]
     },
     "execution_count": 97,
     "metadata": {},
     "output_type": "execute_result"
    }
   ],
   "source": [
    "a.dot(b)"
   ]
  },
  {
   "cell_type": "code",
   "execution_count": 98,
   "id": "07c54a97",
   "metadata": {},
   "outputs": [
    {
     "data": {
      "text/plain": [
       "15"
      ]
     },
     "execution_count": 98,
     "metadata": {},
     "output_type": "execute_result"
    }
   ],
   "source": [
    "sum(a)"
   ]
  },
  {
   "cell_type": "code",
   "execution_count": 99,
   "id": "a051beed",
   "metadata": {},
   "outputs": [
    {
     "data": {
      "text/plain": [
       "15"
      ]
     },
     "execution_count": 99,
     "metadata": {},
     "output_type": "execute_result"
    }
   ],
   "source": [
    "np.sum(a)"
   ]
  },
  {
   "cell_type": "code",
   "execution_count": 107,
   "id": "2e8ba081",
   "metadata": {},
   "outputs": [
    {
     "name": "stdout",
     "output_type": "stream",
     "text": [
      "[11 15]\n"
     ]
    }
   ],
   "source": [
    "print(np.sum(Y, axis = 1))"
   ]
  },
  {
   "cell_type": "code",
   "execution_count": 108,
   "id": "1132ed9b",
   "metadata": {},
   "outputs": [],
   "source": [
    "X = np.array([[1,2,3], [3,4,5]])"
   ]
  },
  {
   "cell_type": "code",
   "execution_count": 109,
   "id": "3f741264",
   "metadata": {},
   "outputs": [
    {
     "data": {
      "text/plain": [
       "(2, 3)"
      ]
     },
     "execution_count": 109,
     "metadata": {},
     "output_type": "execute_result"
    }
   ],
   "source": [
    "X.shape"
   ]
  },
  {
   "cell_type": "code",
   "execution_count": 115,
   "id": "2db97e27",
   "metadata": {},
   "outputs": [],
   "source": [
    "summer = 0\n",
    "for i in range(X.shape[0]):\n",
    "    for j in range(X.shape[1]):\n",
    "        summer+=X[i][j]"
   ]
  },
  {
   "cell_type": "code",
   "execution_count": 116,
   "id": "5ed7caf3",
   "metadata": {},
   "outputs": [
    {
     "data": {
      "text/plain": [
       "18"
      ]
     },
     "execution_count": 116,
     "metadata": {},
     "output_type": "execute_result"
    }
   ],
   "source": [
    "summer"
   ]
  },
  {
   "cell_type": "code",
   "execution_count": 117,
   "id": "74ba42b9",
   "metadata": {},
   "outputs": [
    {
     "name": "stdout",
     "output_type": "stream",
     "text": [
      "6\n"
     ]
    }
   ],
   "source": [
    "summer = 0\n",
    "col = 1\n",
    "for i in range(X.shape[0]):\n",
    "    summer+=X[i][col]\n",
    "print(summer)"
   ]
  },
  {
   "cell_type": "code",
   "execution_count": 118,
   "id": "4577730a",
   "metadata": {},
   "outputs": [
    {
     "name": "stdout",
     "output_type": "stream",
     "text": [
      "12\n"
     ]
    }
   ],
   "source": [
    "summer = 0\n",
    "row = 1\n",
    "for i in range(X.shape[1]):\n",
    "    summer+=X[row][i]\n",
    "print(summer)"
   ]
  },
  {
   "cell_type": "code",
   "execution_count": 119,
   "id": "67424813",
   "metadata": {},
   "outputs": [
    {
     "name": "stdout",
     "output_type": "stream",
     "text": [
      "0 I 0 J\n",
      "0 I 1 J\n",
      "0 I 2 J\n",
      "1 I 0 J\n",
      "1 I 1 J\n",
      "1 I 2 J\n"
     ]
    }
   ],
   "source": [
    "for i in range(2):\n",
    "    for j in range(3):\n",
    "        print(i, \"I\", j, \"J\")"
   ]
  },
  {
   "cell_type": "code",
   "execution_count": 210,
   "id": "98a8c74d",
   "metadata": {},
   "outputs": [],
   "source": [
    "a = np.array([1,2,3,4,5])\n",
    "b = np.array([1,2,3,4,5])"
   ]
  },
  {
   "cell_type": "code",
   "execution_count": 211,
   "id": "0b5f4831",
   "metadata": {},
   "outputs": [],
   "source": [
    "b = b**2"
   ]
  },
  {
   "cell_type": "code",
   "execution_count": 212,
   "id": "8f8693e6",
   "metadata": {},
   "outputs": [
    {
     "name": "stdout",
     "output_type": "stream",
     "text": [
      "(5,) (5,)\n"
     ]
    }
   ],
   "source": [
    "b\n",
    "print(a.shape, b.shape)"
   ]
  },
  {
   "cell_type": "code",
   "execution_count": 128,
   "id": "b9d1a4b1",
   "metadata": {},
   "outputs": [
    {
     "name": "stdout",
     "output_type": "stream",
     "text": [
      "[[ 1  1]\n",
      " [ 2  4]\n",
      " [ 3  9]\n",
      " [ 4 16]\n",
      " [ 5 25]] (5, 2)\n"
     ]
    }
   ],
   "source": [
    "print(np.stack((a, b), axis = 1), np.stack((a, b), axis = 1).shape)"
   ]
  },
  {
   "cell_type": "code",
   "execution_count": 130,
   "id": "00c7f934",
   "metadata": {},
   "outputs": [
    {
     "name": "stdout",
     "output_type": "stream",
     "text": [
      "[[ 1  2  3  4  5]\n",
      " [ 1  4  9 16 25]] (2, 5)\n"
     ]
    }
   ],
   "source": [
    "print(np.stack((a, b), axis = 0), np.stack((a, b), axis = 0).shape)"
   ]
  },
  {
   "cell_type": "code",
   "execution_count": 131,
   "id": "d9c78b45",
   "metadata": {},
   "outputs": [],
   "source": [
    "a = np.stack((a, b), axis = 0)"
   ]
  },
  {
   "cell_type": "code",
   "execution_count": 132,
   "id": "59bd42fd",
   "metadata": {},
   "outputs": [
    {
     "data": {
      "text/plain": [
       "array([[ 1,  2,  3,  4,  5],\n",
       "       [ 1,  4,  9, 16, 25]])"
      ]
     },
     "execution_count": 132,
     "metadata": {},
     "output_type": "execute_result"
    }
   ],
   "source": [
    "a"
   ]
  },
  {
   "cell_type": "code",
   "execution_count": 146,
   "id": "15ad982a",
   "metadata": {},
   "outputs": [
    {
     "name": "stdout",
     "output_type": "stream",
     "text": [
      "[[ 1  2  3  4  5]\n",
      " [ 1  4  9 16 25]]\n"
     ]
    }
   ],
   "source": [
    "print(a.reshape((-1, 5)))"
   ]
  },
  {
   "cell_type": "code",
   "execution_count": 148,
   "id": "221fe568",
   "metadata": {},
   "outputs": [
    {
     "name": "stdout",
     "output_type": "stream",
     "text": [
      "[ 1  2  3  4  5  1  4  9 16 25]\n"
     ]
    }
   ],
   "source": [
    "print(a.ravel())"
   ]
  },
  {
   "cell_type": "code",
   "execution_count": 166,
   "id": "30e5a8d8",
   "metadata": {},
   "outputs": [],
   "source": [
    "a = np.arange(10) + 5"
   ]
  },
  {
   "cell_type": "code",
   "execution_count": 167,
   "id": "c79a4db8",
   "metadata": {},
   "outputs": [
    {
     "data": {
      "text/plain": [
       "array([ 5,  6,  7,  8,  9, 10, 11, 12, 13, 14])"
      ]
     },
     "execution_count": 167,
     "metadata": {},
     "output_type": "execute_result"
    }
   ],
   "source": [
    "a"
   ]
  },
  {
   "cell_type": "code",
   "execution_count": 171,
   "id": "616fb682",
   "metadata": {},
   "outputs": [],
   "source": [
    "np.random.shuffle(a)"
   ]
  },
  {
   "cell_type": "code",
   "execution_count": 172,
   "id": "8a4eaf2b",
   "metadata": {},
   "outputs": [
    {
     "data": {
      "text/plain": [
       "array([ 8,  5,  7, 13,  9, 11, 12, 10,  6, 14])"
      ]
     },
     "execution_count": 172,
     "metadata": {},
     "output_type": "execute_result"
    }
   ],
   "source": [
    "a"
   ]
  },
  {
   "cell_type": "code",
   "execution_count": 174,
   "id": "bba17bf9",
   "metadata": {},
   "outputs": [],
   "source": [
    "random = np.random.rand(2,3)"
   ]
  },
  {
   "cell_type": "code",
   "execution_count": 175,
   "id": "f9415dd9",
   "metadata": {},
   "outputs": [
    {
     "data": {
      "text/plain": [
       "array([[0.70282563, 0.31363512, 0.7109355 ],\n",
       "       [0.54899393, 0.07380699, 0.65418841]])"
      ]
     },
     "execution_count": 175,
     "metadata": {},
     "output_type": "execute_result"
    }
   ],
   "source": [
    "random"
   ]
  },
  {
   "cell_type": "code",
   "execution_count": 179,
   "id": "806eb9a9",
   "metadata": {},
   "outputs": [],
   "source": [
    "random = np.random.randn(2,3)"
   ]
  },
  {
   "cell_type": "code",
   "execution_count": 180,
   "id": "a573270c",
   "metadata": {},
   "outputs": [
    {
     "data": {
      "text/plain": [
       "array([[ 2.20574307,  1.11953998,  0.01879304],\n",
       "       [-0.34175688,  1.74368766,  0.69561961]])"
      ]
     },
     "execution_count": 180,
     "metadata": {},
     "output_type": "execute_result"
    }
   ],
   "source": [
    "random"
   ]
  },
  {
   "cell_type": "code",
   "execution_count": 192,
   "id": "179d29d7",
   "metadata": {},
   "outputs": [],
   "source": [
    "a = np.random.randint(0, 10, 100)"
   ]
  },
  {
   "cell_type": "code",
   "execution_count": 193,
   "id": "a4a0edb0",
   "metadata": {},
   "outputs": [
    {
     "data": {
      "text/plain": [
       "array([4, 1, 2, 6, 3, 6, 1, 7, 3, 4, 5, 6, 1, 8, 5, 3, 0, 5, 0, 2, 2, 2,\n",
       "       2, 2, 3, 5, 7, 8, 3, 1, 1, 2, 0, 0, 3, 7, 8, 9, 3, 4, 0, 7, 2, 5,\n",
       "       0, 9, 4, 2, 5, 3, 9, 9, 8, 3, 2, 9, 1, 8, 9, 8, 4, 8, 9, 7, 4, 8,\n",
       "       2, 6, 5, 3, 7, 4, 3, 5, 0, 9, 1, 3, 2, 1, 3, 7, 6, 0, 5, 3, 7, 9,\n",
       "       1, 9, 1, 7, 8, 3, 1, 0, 4, 8, 8, 5])"
      ]
     },
     "execution_count": 193,
     "metadata": {},
     "output_type": "execute_result"
    }
   ],
   "source": [
    "a"
   ]
  },
  {
   "cell_type": "code",
   "execution_count": 198,
   "id": "a22cb605",
   "metadata": {},
   "outputs": [],
   "source": [
    "choice = np.random.choice(a)"
   ]
  },
  {
   "cell_type": "code",
   "execution_count": 199,
   "id": "2d53836c",
   "metadata": {},
   "outputs": [
    {
     "data": {
      "text/plain": [
       "2"
      ]
     },
     "execution_count": 199,
     "metadata": {},
     "output_type": "execute_result"
    }
   ],
   "source": [
    "choice"
   ]
  },
  {
   "cell_type": "code",
   "execution_count": 200,
   "id": "9e86ecd0",
   "metadata": {},
   "outputs": [
    {
     "name": "stdout",
     "output_type": "stream",
     "text": [
      "7\n",
      "7\n",
      "5\n",
      "8\n",
      "9\n",
      "9\n",
      "8\n",
      "0\n",
      "8\n",
      "8\n"
     ]
    }
   ],
   "source": [
    "for i in range(10):\n",
    "    choice = np.random.choice(a)\n",
    "    print(choice)"
   ]
  },
  {
   "cell_type": "code",
   "execution_count": 201,
   "id": "a9b362df",
   "metadata": {},
   "outputs": [
    {
     "name": "stdout",
     "output_type": "stream",
     "text": [
      "<class 'list'>\n"
     ]
    }
   ],
   "source": [
    "a = [1,2]\n",
    "print(type(a))"
   ]
  },
  {
   "cell_type": "code",
   "execution_count": 202,
   "id": "938b33ed",
   "metadata": {},
   "outputs": [
    {
     "name": "stdout",
     "output_type": "stream",
     "text": [
      "<class 'tuple'>\n"
     ]
    }
   ],
   "source": [
    "a = (1, 2)\n",
    "print(type(a))"
   ]
  },
  {
   "cell_type": "code",
   "execution_count": 231,
   "id": "711ab6dd",
   "metadata": {},
   "outputs": [],
   "source": [
    "a = np.array([[1,2,3,4,5], [2,3,4,5,6]])"
   ]
  },
  {
   "cell_type": "code",
   "execution_count": 232,
   "id": "820c43b5",
   "metadata": {},
   "outputs": [
    {
     "data": {
      "text/plain": [
       "array([[1, 2, 3, 4, 5],\n",
       "       [2, 3, 4, 5, 6]])"
      ]
     },
     "execution_count": 232,
     "metadata": {},
     "output_type": "execute_result"
    }
   ],
   "source": [
    "a"
   ]
  },
  {
   "cell_type": "code",
   "execution_count": 233,
   "id": "dd5e90dc",
   "metadata": {},
   "outputs": [],
   "source": [
    "ones = np.ones((a.shape[0])).reshape(-1, 1)"
   ]
  },
  {
   "cell_type": "code",
   "execution_count": 235,
   "id": "10d0f016",
   "metadata": {},
   "outputs": [
    {
     "data": {
      "text/plain": [
       "array([[1.],\n",
       "       [1.]])"
      ]
     },
     "execution_count": 235,
     "metadata": {},
     "output_type": "execute_result"
    }
   ],
   "source": [
    "ones"
   ]
  },
  {
   "cell_type": "code",
   "execution_count": 228,
   "id": "8ed09433",
   "metadata": {},
   "outputs": [],
   "source": [
    "a = np.hstack((ones, a))"
   ]
  },
  {
   "cell_type": "code",
   "execution_count": 229,
   "id": "17b8f10b",
   "metadata": {},
   "outputs": [
    {
     "data": {
      "text/plain": [
       "array([[1., 1., 2., 3., 4., 5.],\n",
       "       [1., 2., 3., 4., 5., 6.]])"
      ]
     },
     "execution_count": 229,
     "metadata": {},
     "output_type": "execute_result"
    }
   ],
   "source": [
    "a"
   ]
  },
  {
   "cell_type": "code",
   "execution_count": 251,
   "id": "70ab4b5d",
   "metadata": {},
   "outputs": [
    {
     "name": "stdout",
     "output_type": "stream",
     "text": [
      "0.4\n"
     ]
    }
   ],
   "source": [
    "a = np.array([[1,2,30,40], [2,3,0.4,5]])\n",
    "print(np.min(a))"
   ]
  },
  {
   "cell_type": "code",
   "execution_count": 252,
   "id": "b73291d0",
   "metadata": {},
   "outputs": [
    {
     "data": {
      "text/plain": [
       "array([[ 1. ,  2. , 30. , 40. ],\n",
       "       [ 2. ,  3. ,  0.4,  5. ]])"
      ]
     },
     "execution_count": 252,
     "metadata": {},
     "output_type": "execute_result"
    }
   ],
   "source": [
    "a"
   ]
  },
  {
   "cell_type": "code",
   "execution_count": 253,
   "id": "b98576c2",
   "metadata": {},
   "outputs": [
    {
     "name": "stdout",
     "output_type": "stream",
     "text": [
      "(2, 4)\n",
      "[1.  2.  0.4 5. ]\n"
     ]
    }
   ],
   "source": [
    "print(a.shape)\n",
    "print(np.min(a, axis = 0))"
   ]
  },
  {
   "cell_type": "code",
   "execution_count": 254,
   "id": "53ee6450",
   "metadata": {},
   "outputs": [
    {
     "name": "stdout",
     "output_type": "stream",
     "text": [
      "[1.  0.4]\n"
     ]
    }
   ],
   "source": [
    "print(np.min(a, axis = 1))"
   ]
  },
  {
   "cell_type": "code",
   "execution_count": 255,
   "id": "aaef0068",
   "metadata": {},
   "outputs": [
    {
     "name": "stdout",
     "output_type": "stream",
     "text": [
      "15\n"
     ]
    }
   ],
   "source": [
    "b = np.array([1,2,3,4,5])\n",
    "print(sum(b))"
   ]
  },
  {
   "cell_type": "code",
   "execution_count": 260,
   "id": "aec6352f",
   "metadata": {},
   "outputs": [],
   "source": [
    "c = np.array([1,2,3,4,5,6,7,8,100])"
   ]
  },
  {
   "cell_type": "code",
   "execution_count": 262,
   "id": "d744d29d",
   "metadata": {},
   "outputs": [
    {
     "name": "stdout",
     "output_type": "stream",
     "text": [
      "15.11111111111111\n"
     ]
    }
   ],
   "source": [
    "print(np.mean(c))"
   ]
  },
  {
   "cell_type": "code",
   "execution_count": 263,
   "id": "7e5af300",
   "metadata": {},
   "outputs": [],
   "source": [
    "mean = sum(c)/len(c)"
   ]
  },
  {
   "cell_type": "code",
   "execution_count": 265,
   "id": "8e7fa3af",
   "metadata": {},
   "outputs": [
    {
     "data": {
      "text/plain": [
       "15.11111111111111"
      ]
     },
     "execution_count": 265,
     "metadata": {},
     "output_type": "execute_result"
    }
   ],
   "source": [
    "mean"
   ]
  },
  {
   "cell_type": "code",
   "execution_count": 268,
   "id": "f1be7501",
   "metadata": {},
   "outputs": [],
   "source": [
    "c = np.array([10,20,30,40,50])\n",
    "w = np.array([1,2,3,4,5])"
   ]
  },
  {
   "cell_type": "code",
   "execution_count": 269,
   "id": "06977c46",
   "metadata": {},
   "outputs": [
    {
     "data": {
      "text/plain": [
       "36.666666666666664"
      ]
     },
     "execution_count": 269,
     "metadata": {},
     "output_type": "execute_result"
    }
   ],
   "source": [
    "np.average(c, weights=w)"
   ]
  },
  {
   "cell_type": "code",
   "execution_count": 279,
   "id": "44d7e979",
   "metadata": {},
   "outputs": [
    {
     "name": "stdout",
     "output_type": "stream",
     "text": [
      "36.666666666666664\n"
     ]
    }
   ],
   "source": [
    "print(sum(c*w)/sum(w))"
   ]
  },
  {
   "cell_type": "code",
   "execution_count": 280,
   "id": "f7f28a49",
   "metadata": {},
   "outputs": [],
   "source": [
    "np.average?"
   ]
  },
  {
   "cell_type": "code",
   "execution_count": 281,
   "id": "53b0dd92",
   "metadata": {},
   "outputs": [
    {
     "data": {
      "text/plain": [
       "array([10, 20, 30, 40, 50])"
      ]
     },
     "execution_count": 281,
     "metadata": {},
     "output_type": "execute_result"
    }
   ],
   "source": [
    "c"
   ]
  },
  {
   "cell_type": "code",
   "execution_count": 282,
   "id": "43fdf5bc",
   "metadata": {},
   "outputs": [],
   "source": [
    "mean = sum(c)/len(c)"
   ]
  },
  {
   "cell_type": "code",
   "execution_count": 283,
   "id": "b8fb4627",
   "metadata": {},
   "outputs": [
    {
     "data": {
      "text/plain": [
       "30.0"
      ]
     },
     "execution_count": 283,
     "metadata": {},
     "output_type": "execute_result"
    }
   ],
   "source": [
    "mean"
   ]
  },
  {
   "cell_type": "code",
   "execution_count": 284,
   "id": "0018c173",
   "metadata": {},
   "outputs": [],
   "source": [
    "mean = np.mean(c)"
   ]
  },
  {
   "cell_type": "code",
   "execution_count": 286,
   "id": "9d08c47c",
   "metadata": {},
   "outputs": [
    {
     "data": {
      "text/plain": [
       "30.0"
      ]
     },
     "execution_count": 286,
     "metadata": {},
     "output_type": "execute_result"
    }
   ],
   "source": [
    "mean"
   ]
  },
  {
   "cell_type": "code",
   "execution_count": 288,
   "id": "b1044763",
   "metadata": {},
   "outputs": [],
   "source": [
    "std = np.std(c)"
   ]
  },
  {
   "cell_type": "code",
   "execution_count": 289,
   "id": "aadd8d03",
   "metadata": {},
   "outputs": [
    {
     "data": {
      "text/plain": [
       "14.142135623730951"
      ]
     },
     "execution_count": 289,
     "metadata": {},
     "output_type": "execute_result"
    }
   ],
   "source": [
    "std"
   ]
  },
  {
   "cell_type": "code",
   "execution_count": 292,
   "id": "54e57b01",
   "metadata": {},
   "outputs": [
    {
     "name": "stdout",
     "output_type": "stream",
     "text": [
      "14.142135623730951\n"
     ]
    }
   ],
   "source": [
    "std = np.sqrt(np.mean(abs(c-mean)**2))\n",
    "print(std)"
   ]
  },
  {
   "cell_type": "code",
   "execution_count": 291,
   "id": "982ec7dc",
   "metadata": {},
   "outputs": [
    {
     "data": {
      "text/plain": [
       "14.142135623730951"
      ]
     },
     "execution_count": 291,
     "metadata": {},
     "output_type": "execute_result"
    }
   ],
   "source": [
    "std"
   ]
  },
  {
   "cell_type": "code",
   "execution_count": 293,
   "id": "5b2dc4ee",
   "metadata": {},
   "outputs": [
    {
     "data": {
      "text/plain": [
       "200.0"
      ]
     },
     "execution_count": 293,
     "metadata": {},
     "output_type": "execute_result"
    }
   ],
   "source": [
    "np.var(c)"
   ]
  },
  {
   "cell_type": "code",
   "execution_count": 294,
   "id": "3f8d7b2c",
   "metadata": {},
   "outputs": [
    {
     "name": "stdout",
     "output_type": "stream",
     "text": [
      "200.00000000000003\n"
     ]
    }
   ],
   "source": [
    "print(std**2)"
   ]
  },
  {
   "cell_type": "code",
   "execution_count": null,
   "id": "9d4605a4",
   "metadata": {},
   "outputs": [],
   "source": []
  }
 ],
 "metadata": {
  "kernelspec": {
   "display_name": "Python 3 (ipykernel)",
   "language": "python",
   "name": "python3"
  },
  "language_info": {
   "codemirror_mode": {
    "name": "ipython",
    "version": 3
   },
   "file_extension": ".py",
   "mimetype": "text/x-python",
   "name": "python",
   "nbconvert_exporter": "python",
   "pygments_lexer": "ipython3",
   "version": "3.8.10"
  }
 },
 "nbformat": 4,
 "nbformat_minor": 5
}
