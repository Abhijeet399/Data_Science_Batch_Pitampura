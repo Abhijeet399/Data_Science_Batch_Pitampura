{
 "cells": [
  {
   "cell_type": "code",
   "execution_count": 8,
   "id": "c682808b",
   "metadata": {},
   "outputs": [],
   "source": [
    "import all_mods.calculator as calculator"
   ]
  },
  {
   "cell_type": "code",
   "execution_count": 9,
   "id": "143d0ade",
   "metadata": {},
   "outputs": [],
   "source": [
    "from all_mods.calculator import adder"
   ]
  },
  {
   "cell_type": "code",
   "execution_count": 10,
   "id": "f68b2956",
   "metadata": {},
   "outputs": [
    {
     "name": "stdout",
     "output_type": "stream",
     "text": [
      "4\n"
     ]
    }
   ],
   "source": [
    "a = adder(1, 3)"
   ]
  },
  {
   "cell_type": "code",
   "execution_count": 6,
   "id": "73a26791",
   "metadata": {},
   "outputs": [
    {
     "name": "stdout",
     "output_type": "stream",
     "text": [
      "3\n"
     ]
    }
   ],
   "source": [
    "b = calculator.subtract(4, 1)"
   ]
  },
  {
   "cell_type": "code",
   "execution_count": 12,
   "id": "7c38bd2e",
   "metadata": {},
   "outputs": [
    {
     "data": {
      "text/plain": [
       "<function all_mods.calculator.adder(a, b)>"
      ]
     },
     "execution_count": 12,
     "metadata": {},
     "output_type": "execute_result"
    }
   ],
   "source": [
    "adder"
   ]
  },
  {
   "cell_type": "code",
   "execution_count": 13,
   "id": "852ec59d",
   "metadata": {},
   "outputs": [
    {
     "name": "stdout",
     "output_type": "stream",
     "text": [
      "100\n"
     ]
    }
   ],
   "source": [
    "c = calculator.multiply(10, 10)"
   ]
  },
  {
   "cell_type": "code",
   "execution_count": null,
   "id": "1ab4b355",
   "metadata": {},
   "outputs": [],
   "source": []
  }
 ],
 "metadata": {
  "kernelspec": {
   "display_name": "Python 3 (ipykernel)",
   "language": "python",
   "name": "python3"
  },
  "language_info": {
   "codemirror_mode": {
    "name": "ipython",
    "version": 3
   },
   "file_extension": ".py",
   "mimetype": "text/x-python",
   "name": "python",
   "nbconvert_exporter": "python",
   "pygments_lexer": "ipython3",
   "version": "3.8.10"
  }
 },
 "nbformat": 4,
 "nbformat_minor": 5
}
