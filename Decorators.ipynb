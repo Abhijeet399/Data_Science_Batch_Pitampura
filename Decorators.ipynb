{
  "nbformat": 4,
  "nbformat_minor": 0,
  "metadata": {
    "colab": {
      "provenance": []
    },
    "kernelspec": {
      "name": "python3",
      "display_name": "Python 3"
    },
    "language_info": {
      "name": "python"
    }
  },
  "cells": [
    {
      "cell_type": "code",
      "execution_count": 1,
      "metadata": {
        "id": "Qdd4LaIMFFL3"
      },
      "outputs": [],
      "source": [
        "users = {\n",
        "    \"Abhijeet\":\"password\",\n",
        "    \"Rohit\":\"coding blocks\"\n",
        "\n",
        "}"
      ]
    },
    {
      "cell_type": "code",
      "source": [
        "users[\"Abhijeet\"]"
      ],
      "metadata": {
        "colab": {
          "base_uri": "https://localhost:8080/",
          "height": 35
        },
        "id": "BgocveInKyJW",
        "outputId": "41c322ef-1f0b-4427-ea8d-b4dd7a0d1410"
      },
      "execution_count": 2,
      "outputs": [
        {
          "output_type": "execute_result",
          "data": {
            "text/plain": [
              "'password'"
            ],
            "application/vnd.google.colaboratory.intrinsic+json": {
              "type": "string"
            }
          },
          "metadata": {},
          "execution_count": 2
        }
      ]
    },
    {
      "cell_type": "code",
      "source": [
        "def show(username, password):\n",
        "  if username in users and users[username] == password:\n",
        "    print(\"hello world you are authenticated\")\n",
        "  else:\n",
        "    print(\"Not authenticated\")"
      ],
      "metadata": {
        "id": "CDgTvYcVFUWX"
      },
      "execution_count": 5,
      "outputs": []
    },
    {
      "cell_type": "code",
      "source": [
        "show(\"Abhijeet\", \"password\")"
      ],
      "metadata": {
        "colab": {
          "base_uri": "https://localhost:8080/"
        },
        "id": "h9xy-dLcFkGs",
        "outputId": "aea0ae8c-e73a-4854-d19e-ce17a4ac694d"
      },
      "execution_count": 6,
      "outputs": [
        {
          "output_type": "stream",
          "name": "stdout",
          "text": [
            "hello world you are authenticated\n"
          ]
        }
      ]
    },
    {
      "cell_type": "code",
      "source": [
        "def add(username, password, a,b):\n",
        "  if username in users and users[username] == password:\n",
        "    print(a+b)\n",
        "  else:\n",
        "    print(\"Not authenticated\")"
      ],
      "metadata": {
        "id": "76zw4EKxForF"
      },
      "execution_count": 7,
      "outputs": []
    },
    {
      "cell_type": "code",
      "source": [
        "add(\"Abhijeet\", \"password\", 1, 2)"
      ],
      "metadata": {
        "colab": {
          "base_uri": "https://localhost:8080/"
        },
        "id": "mE4cFZuqF3Kt",
        "outputId": "5dbe24c9-4d1b-4248-b9ce-2f20889f5336"
      },
      "execution_count": 9,
      "outputs": [
        {
          "output_type": "stream",
          "name": "stdout",
          "text": [
            "3\n"
          ]
        }
      ]
    },
    {
      "cell_type": "code",
      "source": [
        "def login_requ(f):\n",
        "  def wrapper(username, password, *args, **kwargs):\n",
        "    if username in users and users[username] == password:\n",
        "      # User authenticated\n",
        "      f(*args, **kwargs)\n",
        "\n",
        "    else:\n",
        "      print(\"Not authenticated\")\n",
        "  return wrapper\n"
      ],
      "metadata": {
        "id": "bAzVed1cF_w_"
      },
      "execution_count": 10,
      "outputs": []
    },
    {
      "cell_type": "code",
      "source": [
        "def add(a, b):\n",
        "  print(a+b)"
      ],
      "metadata": {
        "id": "bSSWX6fYGs2D"
      },
      "execution_count": 11,
      "outputs": []
    },
    {
      "cell_type": "code",
      "source": [
        "add"
      ],
      "metadata": {
        "colab": {
          "base_uri": "https://localhost:8080/"
        },
        "id": "k12M3JBHYU7w",
        "outputId": "a591d440-3160-426c-9ea3-5b60580f1b0e"
      },
      "execution_count": 12,
      "outputs": [
        {
          "output_type": "execute_result",
          "data": {
            "text/plain": [
              "<function __main__.add(a, b)>"
            ]
          },
          "metadata": {},
          "execution_count": 12
        }
      ]
    },
    {
      "cell_type": "code",
      "source": [],
      "metadata": {
        "id": "Yy8QfX7zYUf_"
      },
      "execution_count": null,
      "outputs": []
    },
    {
      "cell_type": "code",
      "source": [
        "add(1,2)"
      ],
      "metadata": {
        "colab": {
          "base_uri": "https://localhost:8080/"
        },
        "id": "5kM4Occ-G17Y",
        "outputId": "79f81fcd-d515-4e5d-d788-25eb17cef1f3"
      },
      "execution_count": 13,
      "outputs": [
        {
          "output_type": "stream",
          "name": "stdout",
          "text": [
            "3\n"
          ]
        }
      ]
    },
    {
      "cell_type": "code",
      "source": [
        "prot_add = login_requ(add)"
      ],
      "metadata": {
        "id": "nNNTIaNsG24Z"
      },
      "execution_count": 15,
      "outputs": []
    },
    {
      "cell_type": "code",
      "source": [
        "print(prot_add)"
      ],
      "metadata": {
        "colab": {
          "base_uri": "https://localhost:8080/"
        },
        "id": "6BHHNKCnG7XP",
        "outputId": "72813f2c-149e-48f2-cd43-249d17466009"
      },
      "execution_count": 16,
      "outputs": [
        {
          "output_type": "stream",
          "name": "stdout",
          "text": [
            "<function login_requ.<locals>.wrapper at 0x7f9cf1fad280>\n"
          ]
        }
      ]
    },
    {
      "cell_type": "code",
      "source": [
        "prot_add(\"Abhijeet\", \"password\", 1, 2)"
      ],
      "metadata": {
        "colab": {
          "base_uri": "https://localhost:8080/"
        },
        "id": "KgSATpzYG9T8",
        "outputId": "ebe4e70f-d048-42f7-c846-f3ae894b0b63"
      },
      "execution_count": 18,
      "outputs": [
        {
          "output_type": "stream",
          "name": "stdout",
          "text": [
            "3\n"
          ]
        }
      ]
    },
    {
      "cell_type": "code",
      "source": [
        "add = login_requ(add)"
      ],
      "metadata": {
        "id": "7YAko0WuHprX"
      },
      "execution_count": 19,
      "outputs": []
    },
    {
      "cell_type": "code",
      "source": [
        "add(\"Abhijeet\", \"password\", 10, 2)"
      ],
      "metadata": {
        "colab": {
          "base_uri": "https://localhost:8080/"
        },
        "id": "RnNk8-6Igcfc",
        "outputId": "4be7686e-b00a-4af1-b4ee-08c7ff313db6"
      },
      "execution_count": 27,
      "outputs": [
        {
          "output_type": "stream",
          "name": "stdout",
          "text": [
            "12\n"
          ]
        }
      ]
    },
    {
      "cell_type": "code",
      "source": [
        "def add(a, b):\n",
        "  print(a+b)\n",
        "add = login_requ(add)"
      ],
      "metadata": {
        "id": "i45dZ_-JoKQW"
      },
      "execution_count": 21,
      "outputs": []
    },
    {
      "cell_type": "code",
      "source": [
        "### Equivalet to above\n",
        "\n",
        "@login_requ\n",
        "def add(a, b):\n",
        "  print(a+b)"
      ],
      "metadata": {
        "id": "P_ypxEcAHwNU"
      },
      "execution_count": 24,
      "outputs": []
    },
    {
      "cell_type": "code",
      "source": [
        "add(\"Rohit\", \"coding block00s\", 5, 3)"
      ],
      "metadata": {
        "colab": {
          "base_uri": "https://localhost:8080/"
        },
        "id": "9ksCQ09MHwKY",
        "outputId": "ad7d3ab0-9f11-400a-d887-446f9ac61758"
      },
      "execution_count": 25,
      "outputs": [
        {
          "output_type": "stream",
          "name": "stdout",
          "text": [
            "Not authenticated\n"
          ]
        }
      ]
    },
    {
      "cell_type": "code",
      "source": [
        "add(\"Rohit\", \"coding blocks\", 5, 3)"
      ],
      "metadata": {
        "id": "Dev2wxJXH--Y",
        "outputId": "1f1f90b8-47d5-4f58-bb92-79f9e274ef51",
        "colab": {
          "base_uri": "https://localhost:8080/"
        }
      },
      "execution_count": 26,
      "outputs": [
        {
          "output_type": "stream",
          "name": "stdout",
          "text": [
            "8\n"
          ]
        }
      ]
    },
    {
      "cell_type": "code",
      "source": [
        "students = []\n",
        "num = input('No. of students')\n",
        "for _ in range(int(num)):\n",
        "  name = input()\n",
        "  roll = int(input())\n",
        "  branch = input()\n",
        "  students.append({\n",
        "      \"name\": name,\n",
        "      \"roll\": roll,\n",
        "      \"branch\":branch\n",
        "  })"
      ],
      "metadata": {
        "id": "MPLUzCRSHmZi",
        "colab": {
          "base_uri": "https://localhost:8080/"
        },
        "outputId": "dfd3ed4a-0603-4578-cf60-0d8929c02023"
      },
      "execution_count": null,
      "outputs": [
        {
          "name": "stdout",
          "output_type": "stream",
          "text": [
            "No. of students2\n",
            "Abhijeet\n",
            "1\n",
            "CSE\n",
            "Rohit\n",
            "45\n",
            "IT\n"
          ]
        }
      ]
    },
    {
      "cell_type": "code",
      "source": [
        "students"
      ],
      "metadata": {
        "colab": {
          "base_uri": "https://localhost:8080/"
        },
        "id": "ClN2Ogn-f_P8",
        "outputId": "5dcfee37-2fae-4765-82cf-a38012c9c070"
      },
      "execution_count": null,
      "outputs": [
        {
          "output_type": "execute_result",
          "data": {
            "text/plain": [
              "[{'name': 'Abhijeet', 'roll': 1, 'branch': 'CSE'},\n",
              " {'name': 'Rohit', 'roll': 45, 'branch': 'IT'}]"
            ]
          },
          "metadata": {},
          "execution_count": 5
        }
      ]
    },
    {
      "cell_type": "code",
      "source": [
        "def temp(a, b, *args, **kwargs):\n",
        "  print(a+b)\n",
        "  print(*args)\n",
        "  print(type(args))\n",
        "  print(kwargs)\n",
        "  print(type(kwargs))"
      ],
      "metadata": {
        "id": "5J4xSSut46-7"
      },
      "execution_count": null,
      "outputs": []
    },
    {
      "cell_type": "code",
      "source": [
        "temp(1,2,3,4, name = \"ABhijeet\", age=22)"
      ],
      "metadata": {
        "colab": {
          "base_uri": "https://localhost:8080/"
        },
        "id": "A5GEqxb3W3s-",
        "outputId": "82bc4f8d-06b7-4ec6-c6c0-96a39ca6b706"
      },
      "execution_count": null,
      "outputs": [
        {
          "output_type": "stream",
          "name": "stdout",
          "text": [
            "3\n",
            "3 4\n",
            "<class 'tuple'>\n",
            "{'name': 'ABhijeet', 'age': 22}\n",
            "<class 'dict'>\n"
          ]
        }
      ]
    },
    {
      "cell_type": "code",
      "source": [
        "a = (1, 2, 3)\n",
        "def random(*args):\n",
        "  print(*args)"
      ],
      "metadata": {
        "id": "cRtwmp8OL-1m"
      },
      "execution_count": null,
      "outputs": []
    },
    {
      "cell_type": "code",
      "source": [
        "random(*a)"
      ],
      "metadata": {
        "colab": {
          "base_uri": "https://localhost:8080/"
        },
        "id": "JrB6wUDhMGrv",
        "outputId": "adb0444c-be36-4f98-aa6a-ca765fa98432"
      },
      "execution_count": null,
      "outputs": [
        {
          "output_type": "stream",
          "name": "stdout",
          "text": [
            "1 2 3\n"
          ]
        }
      ]
    },
    {
      "cell_type": "code",
      "source": [],
      "metadata": {
        "id": "EXYGCbFyMJ3A"
      },
      "execution_count": null,
      "outputs": []
    }
  ]
}