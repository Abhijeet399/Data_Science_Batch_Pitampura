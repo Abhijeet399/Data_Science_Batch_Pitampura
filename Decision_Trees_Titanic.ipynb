{
 "cells": [
  {
   "cell_type": "code",
   "execution_count": null,
   "metadata": {
    "colab": {
     "base_uri": "https://localhost:8080/"
    },
    "id": "Wc5HOgw8v-Dy",
    "outputId": "a0949597-b632-4a37-9e0c-4de756407d5d"
   },
   "outputs": [
    {
     "name": "stdout",
     "output_type": "stream",
     "text": [
      "Drive already mounted at /content/gdrive; to attempt to forcibly remount, call drive.mount(\"/content/gdrive\", force_remount=True).\n"
     ]
    }
   ],
   "source": [
    "from google.colab import drive\n",
    "\n",
    "drive.mount('/content/gdrive')"
   ]
  },
  {
   "cell_type": "code",
   "execution_count": 1,
   "metadata": {
    "colab": {
     "base_uri": "https://localhost:8080/"
    },
    "id": "p4e35l35d8-z",
    "outputId": "d4006d2f-4f49-4f7c-85d8-a9c3b5b35d0d"
   },
   "outputs": [
    {
     "name": "stdout",
     "output_type": "stream",
     "text": [
      "Found existing installation: pandas 1.5.2\n",
      "Uninstalling pandas-1.5.2:\n",
      "  Would remove:\n",
      "    /Users/codingblocks/Desktop/Jupyter_notebook/vir_env/lib/python3.8/site-packages/pandas-1.5.2.dist-info/*\n",
      "    /Users/codingblocks/Desktop/Jupyter_notebook/vir_env/lib/python3.8/site-packages/pandas/*\n",
      "Proceed (y/n)? ^C\n",
      "\u001b[31mERROR: Operation cancelled by user\u001b[0m\n",
      "Collecting pandas==1.3.0\n",
      "  Downloading pandas-1.3.0-cp38-cp38-macosx_10_9_x86_64.whl (11.4 MB)\n",
      "\u001b[K     |████████████████████████████████| 11.4 MB 6.6 MB/s eta 0:00:01    |█████████▏                      | 3.3 MB 6.6 MB/s eta 0:00:02\n",
      "\u001b[?25hRequirement already satisfied: numpy>=1.17.3 in /Users/codingblocks/Desktop/Jupyter_notebook/vir_env/lib/python3.8/site-packages (from pandas==1.3.0) (1.23.5)\n",
      "Requirement already satisfied: python-dateutil>=2.7.3 in /Users/codingblocks/Desktop/Jupyter_notebook/vir_env/lib/python3.8/site-packages (from pandas==1.3.0) (2.8.2)\n",
      "Requirement already satisfied: pytz>=2017.3 in /Users/codingblocks/Desktop/Jupyter_notebook/vir_env/lib/python3.8/site-packages (from pandas==1.3.0) (2022.7)\n",
      "Requirement already satisfied: six>=1.5 in /Users/codingblocks/Desktop/Jupyter_notebook/vir_env/lib/python3.8/site-packages (from python-dateutil>=2.7.3->pandas==1.3.0) (1.16.0)\n",
      "Installing collected packages: pandas\n",
      "  Attempting uninstall: pandas\n",
      "    Found existing installation: pandas 1.5.2\n",
      "    Uninstalling pandas-1.5.2:\n",
      "      Successfully uninstalled pandas-1.5.2\n",
      "Successfully installed pandas-1.3.0\n",
      "\u001b[33mWARNING: You are using pip version 21.1.1; however, version 23.1.2 is available.\n",
      "You should consider upgrading via the '/Users/codingblocks/Desktop/Jupyter_notebook/vir_env/bin/python3 -m pip install --upgrade pip' command.\u001b[0m\n"
     ]
    }
   ],
   "source": [
    "# !pip uninstall pandas\n",
    "# !pip install pandas==1.3.0"
   ]
  },
  {
   "cell_type": "code",
   "execution_count": 2,
   "metadata": {
    "colab": {
     "base_uri": "https://localhost:8080/"
    },
    "id": "e39XZcSzvSKV",
    "outputId": "d36558ea-ad0c-4ae7-de3c-81d3c85b3047"
   },
   "outputs": [
    {
     "name": "stdout",
     "output_type": "stream",
     "text": [
      "1.3.0\n"
     ]
    }
   ],
   "source": [
    "import numpy as np\n",
    "import pandas as pd\n",
    "print(pd.__version__)"
   ]
  },
  {
   "cell_type": "code",
   "execution_count": 3,
   "metadata": {
    "id": "8SLvNAyrvdwD"
   },
   "outputs": [],
   "source": [
    "data = pd.read_csv('/Users/codingblocks/Downloads/Titanic_Dataset/train.csv')"
   ]
  },
  {
   "cell_type": "code",
   "execution_count": 4,
   "metadata": {
    "colab": {
     "base_uri": "https://localhost:8080/",
     "height": 250
    },
    "id": "JTT07gRCwQO0",
    "outputId": "8583b75c-2239-4796-d1d0-6b176399be62"
   },
   "outputs": [
    {
     "data": {
      "text/html": [
       "<div>\n",
       "<style scoped>\n",
       "    .dataframe tbody tr th:only-of-type {\n",
       "        vertical-align: middle;\n",
       "    }\n",
       "\n",
       "    .dataframe tbody tr th {\n",
       "        vertical-align: top;\n",
       "    }\n",
       "\n",
       "    .dataframe thead th {\n",
       "        text-align: right;\n",
       "    }\n",
       "</style>\n",
       "<table border=\"1\" class=\"dataframe\">\n",
       "  <thead>\n",
       "    <tr style=\"text-align: right;\">\n",
       "      <th></th>\n",
       "      <th>PassengerId</th>\n",
       "      <th>Survived</th>\n",
       "      <th>Pclass</th>\n",
       "      <th>Name</th>\n",
       "      <th>Sex</th>\n",
       "      <th>Age</th>\n",
       "      <th>SibSp</th>\n",
       "      <th>Parch</th>\n",
       "      <th>Ticket</th>\n",
       "      <th>Fare</th>\n",
       "      <th>Cabin</th>\n",
       "      <th>Embarked</th>\n",
       "    </tr>\n",
       "  </thead>\n",
       "  <tbody>\n",
       "    <tr>\n",
       "      <th>0</th>\n",
       "      <td>1</td>\n",
       "      <td>0</td>\n",
       "      <td>3</td>\n",
       "      <td>Braund, Mr. Owen Harris</td>\n",
       "      <td>male</td>\n",
       "      <td>22.0</td>\n",
       "      <td>1</td>\n",
       "      <td>0</td>\n",
       "      <td>A/5 21171</td>\n",
       "      <td>7.2500</td>\n",
       "      <td>NaN</td>\n",
       "      <td>S</td>\n",
       "    </tr>\n",
       "    <tr>\n",
       "      <th>1</th>\n",
       "      <td>2</td>\n",
       "      <td>1</td>\n",
       "      <td>1</td>\n",
       "      <td>Cumings, Mrs. John Bradley (Florence Briggs Th...</td>\n",
       "      <td>female</td>\n",
       "      <td>38.0</td>\n",
       "      <td>1</td>\n",
       "      <td>0</td>\n",
       "      <td>PC 17599</td>\n",
       "      <td>71.2833</td>\n",
       "      <td>C85</td>\n",
       "      <td>C</td>\n",
       "    </tr>\n",
       "    <tr>\n",
       "      <th>2</th>\n",
       "      <td>3</td>\n",
       "      <td>1</td>\n",
       "      <td>3</td>\n",
       "      <td>Heikkinen, Miss. Laina</td>\n",
       "      <td>female</td>\n",
       "      <td>26.0</td>\n",
       "      <td>0</td>\n",
       "      <td>0</td>\n",
       "      <td>STON/O2. 3101282</td>\n",
       "      <td>7.9250</td>\n",
       "      <td>NaN</td>\n",
       "      <td>S</td>\n",
       "    </tr>\n",
       "    <tr>\n",
       "      <th>3</th>\n",
       "      <td>4</td>\n",
       "      <td>1</td>\n",
       "      <td>1</td>\n",
       "      <td>Futrelle, Mrs. Jacques Heath (Lily May Peel)</td>\n",
       "      <td>female</td>\n",
       "      <td>35.0</td>\n",
       "      <td>1</td>\n",
       "      <td>0</td>\n",
       "      <td>113803</td>\n",
       "      <td>53.1000</td>\n",
       "      <td>C123</td>\n",
       "      <td>S</td>\n",
       "    </tr>\n",
       "    <tr>\n",
       "      <th>4</th>\n",
       "      <td>5</td>\n",
       "      <td>0</td>\n",
       "      <td>3</td>\n",
       "      <td>Allen, Mr. William Henry</td>\n",
       "      <td>male</td>\n",
       "      <td>35.0</td>\n",
       "      <td>0</td>\n",
       "      <td>0</td>\n",
       "      <td>373450</td>\n",
       "      <td>8.0500</td>\n",
       "      <td>NaN</td>\n",
       "      <td>S</td>\n",
       "    </tr>\n",
       "  </tbody>\n",
       "</table>\n",
       "</div>"
      ],
      "text/plain": [
       "   PassengerId  Survived  Pclass  \\\n",
       "0            1         0       3   \n",
       "1            2         1       1   \n",
       "2            3         1       3   \n",
       "3            4         1       1   \n",
       "4            5         0       3   \n",
       "\n",
       "                                                Name     Sex   Age  SibSp  \\\n",
       "0                            Braund, Mr. Owen Harris    male  22.0      1   \n",
       "1  Cumings, Mrs. John Bradley (Florence Briggs Th...  female  38.0      1   \n",
       "2                             Heikkinen, Miss. Laina  female  26.0      0   \n",
       "3       Futrelle, Mrs. Jacques Heath (Lily May Peel)  female  35.0      1   \n",
       "4                           Allen, Mr. William Henry    male  35.0      0   \n",
       "\n",
       "   Parch            Ticket     Fare Cabin Embarked  \n",
       "0      0         A/5 21171   7.2500   NaN        S  \n",
       "1      0          PC 17599  71.2833   C85        C  \n",
       "2      0  STON/O2. 3101282   7.9250   NaN        S  \n",
       "3      0            113803  53.1000  C123        S  \n",
       "4      0            373450   8.0500   NaN        S  "
      ]
     },
     "execution_count": 4,
     "metadata": {},
     "output_type": "execute_result"
    }
   ],
   "source": [
    "data.head()"
   ]
  },
  {
   "cell_type": "code",
   "execution_count": 5,
   "metadata": {
    "colab": {
     "base_uri": "https://localhost:8080/"
    },
    "id": "Mz2IRmjSwWm7",
    "outputId": "edfd38de-9b65-444d-cd13-14e1a7fda98e"
   },
   "outputs": [
    {
     "name": "stdout",
     "output_type": "stream",
     "text": [
      "<class 'pandas.core.frame.DataFrame'>\n",
      "RangeIndex: 891 entries, 0 to 890\n",
      "Data columns (total 12 columns):\n",
      " #   Column       Non-Null Count  Dtype  \n",
      "---  ------       --------------  -----  \n",
      " 0   PassengerId  891 non-null    int64  \n",
      " 1   Survived     891 non-null    int64  \n",
      " 2   Pclass       891 non-null    int64  \n",
      " 3   Name         891 non-null    object \n",
      " 4   Sex          891 non-null    object \n",
      " 5   Age          714 non-null    float64\n",
      " 6   SibSp        891 non-null    int64  \n",
      " 7   Parch        891 non-null    int64  \n",
      " 8   Ticket       891 non-null    object \n",
      " 9   Fare         891 non-null    float64\n",
      " 10  Cabin        204 non-null    object \n",
      " 11  Embarked     889 non-null    object \n",
      "dtypes: float64(2), int64(5), object(5)\n",
      "memory usage: 83.7+ KB\n"
     ]
    }
   ],
   "source": [
    "data.info()"
   ]
  },
  {
   "cell_type": "code",
   "execution_count": 6,
   "metadata": {
    "id": "K6PmlhqvwgXH"
   },
   "outputs": [],
   "source": [
    "cols_dropped = [\"PassengerId\", \"Name\", \"Ticket\", \"Cabin\", \"Embarked\"]"
   ]
  },
  {
   "cell_type": "code",
   "execution_count": 7,
   "metadata": {
    "id": "spI_BP3ixJTg"
   },
   "outputs": [],
   "source": [
    "data_clean = data.drop(cols_dropped, axis = 1)"
   ]
  },
  {
   "cell_type": "code",
   "execution_count": 8,
   "metadata": {
    "colab": {
     "base_uri": "https://localhost:8080/",
     "height": 206
    },
    "id": "FlabaTYexSDj",
    "outputId": "7549f10c-5180-4464-dc61-9f380aee0afe"
   },
   "outputs": [
    {
     "data": {
      "text/html": [
       "<div>\n",
       "<style scoped>\n",
       "    .dataframe tbody tr th:only-of-type {\n",
       "        vertical-align: middle;\n",
       "    }\n",
       "\n",
       "    .dataframe tbody tr th {\n",
       "        vertical-align: top;\n",
       "    }\n",
       "\n",
       "    .dataframe thead th {\n",
       "        text-align: right;\n",
       "    }\n",
       "</style>\n",
       "<table border=\"1\" class=\"dataframe\">\n",
       "  <thead>\n",
       "    <tr style=\"text-align: right;\">\n",
       "      <th></th>\n",
       "      <th>Survived</th>\n",
       "      <th>Pclass</th>\n",
       "      <th>Sex</th>\n",
       "      <th>Age</th>\n",
       "      <th>SibSp</th>\n",
       "      <th>Parch</th>\n",
       "      <th>Fare</th>\n",
       "    </tr>\n",
       "  </thead>\n",
       "  <tbody>\n",
       "    <tr>\n",
       "      <th>0</th>\n",
       "      <td>0</td>\n",
       "      <td>3</td>\n",
       "      <td>male</td>\n",
       "      <td>22.0</td>\n",
       "      <td>1</td>\n",
       "      <td>0</td>\n",
       "      <td>7.2500</td>\n",
       "    </tr>\n",
       "    <tr>\n",
       "      <th>1</th>\n",
       "      <td>1</td>\n",
       "      <td>1</td>\n",
       "      <td>female</td>\n",
       "      <td>38.0</td>\n",
       "      <td>1</td>\n",
       "      <td>0</td>\n",
       "      <td>71.2833</td>\n",
       "    </tr>\n",
       "    <tr>\n",
       "      <th>2</th>\n",
       "      <td>1</td>\n",
       "      <td>3</td>\n",
       "      <td>female</td>\n",
       "      <td>26.0</td>\n",
       "      <td>0</td>\n",
       "      <td>0</td>\n",
       "      <td>7.9250</td>\n",
       "    </tr>\n",
       "    <tr>\n",
       "      <th>3</th>\n",
       "      <td>1</td>\n",
       "      <td>1</td>\n",
       "      <td>female</td>\n",
       "      <td>35.0</td>\n",
       "      <td>1</td>\n",
       "      <td>0</td>\n",
       "      <td>53.1000</td>\n",
       "    </tr>\n",
       "    <tr>\n",
       "      <th>4</th>\n",
       "      <td>0</td>\n",
       "      <td>3</td>\n",
       "      <td>male</td>\n",
       "      <td>35.0</td>\n",
       "      <td>0</td>\n",
       "      <td>0</td>\n",
       "      <td>8.0500</td>\n",
       "    </tr>\n",
       "  </tbody>\n",
       "</table>\n",
       "</div>"
      ],
      "text/plain": [
       "   Survived  Pclass     Sex   Age  SibSp  Parch     Fare\n",
       "0         0       3    male  22.0      1      0   7.2500\n",
       "1         1       1  female  38.0      1      0  71.2833\n",
       "2         1       3  female  26.0      0      0   7.9250\n",
       "3         1       1  female  35.0      1      0  53.1000\n",
       "4         0       3    male  35.0      0      0   8.0500"
      ]
     },
     "execution_count": 8,
     "metadata": {},
     "output_type": "execute_result"
    }
   ],
   "source": [
    "data_clean.head()"
   ]
  },
  {
   "cell_type": "code",
   "execution_count": 11,
   "metadata": {
    "id": "nzjAQ0vFxVST"
   },
   "outputs": [
    {
     "name": "stdout",
     "output_type": "stream",
     "text": [
      "Collecting scikit-learn\n",
      "  Downloading scikit_learn-1.2.2-cp38-cp38-macosx_10_9_x86_64.whl (9.0 MB)\n",
      "\u001b[K     |████████████████████████████████| 9.0 MB 6.6 MB/s eta 0:00:01\n",
      "\u001b[?25hCollecting joblib>=1.1.1\n",
      "  Using cached joblib-1.2.0-py3-none-any.whl (297 kB)\n",
      "Collecting threadpoolctl>=2.0.0\n",
      "  Using cached threadpoolctl-3.1.0-py3-none-any.whl (14 kB)\n",
      "Requirement already satisfied: numpy>=1.17.3 in /Users/codingblocks/Desktop/Jupyter_notebook/vir_env/lib/python3.8/site-packages (from scikit-learn) (1.23.5)\n",
      "Collecting scipy>=1.3.2\n",
      "  Using cached scipy-1.10.1-cp38-cp38-macosx_10_9_x86_64.whl (35.0 MB)\n",
      "Installing collected packages: threadpoolctl, scipy, joblib, scikit-learn\n",
      "Successfully installed joblib-1.2.0 scikit-learn-1.2.2 scipy-1.10.1 threadpoolctl-3.1.0\n",
      "\u001b[33mWARNING: You are using pip version 21.1.1; however, version 23.1.2 is available.\n",
      "You should consider upgrading via the '/Users/codingblocks/Desktop/Jupyter_notebook/vir_env/bin/python3 -m pip install --upgrade pip' command.\u001b[0m\n"
     ]
    }
   ],
   "source": [
    "!pip install scikit-learn\n",
    "from sklearn.preprocessing import LabelEncoder"
   ]
  },
  {
   "cell_type": "code",
   "execution_count": 12,
   "metadata": {
    "id": "gqQtdxZ8yP_t"
   },
   "outputs": [],
   "source": [
    "le = LabelEncoder()\n",
    "\n",
    "data_clean[\"Sex\"] = le.fit_transform(data_clean[\"Sex\"])"
   ]
  },
  {
   "cell_type": "code",
   "execution_count": 13,
   "metadata": {
    "colab": {
     "base_uri": "https://localhost:8080/",
     "height": 424
    },
    "id": "-l8jtpFsyayW",
    "outputId": "b6b44c03-c7aa-4f10-cf5e-29e86c11c225"
   },
   "outputs": [
    {
     "data": {
      "text/html": [
       "<div>\n",
       "<style scoped>\n",
       "    .dataframe tbody tr th:only-of-type {\n",
       "        vertical-align: middle;\n",
       "    }\n",
       "\n",
       "    .dataframe tbody tr th {\n",
       "        vertical-align: top;\n",
       "    }\n",
       "\n",
       "    .dataframe thead th {\n",
       "        text-align: right;\n",
       "    }\n",
       "</style>\n",
       "<table border=\"1\" class=\"dataframe\">\n",
       "  <thead>\n",
       "    <tr style=\"text-align: right;\">\n",
       "      <th></th>\n",
       "      <th>Survived</th>\n",
       "      <th>Pclass</th>\n",
       "      <th>Sex</th>\n",
       "      <th>Age</th>\n",
       "      <th>SibSp</th>\n",
       "      <th>Parch</th>\n",
       "      <th>Fare</th>\n",
       "    </tr>\n",
       "  </thead>\n",
       "  <tbody>\n",
       "    <tr>\n",
       "      <th>0</th>\n",
       "      <td>0</td>\n",
       "      <td>3</td>\n",
       "      <td>1</td>\n",
       "      <td>22.0</td>\n",
       "      <td>1</td>\n",
       "      <td>0</td>\n",
       "      <td>7.2500</td>\n",
       "    </tr>\n",
       "    <tr>\n",
       "      <th>1</th>\n",
       "      <td>1</td>\n",
       "      <td>1</td>\n",
       "      <td>0</td>\n",
       "      <td>38.0</td>\n",
       "      <td>1</td>\n",
       "      <td>0</td>\n",
       "      <td>71.2833</td>\n",
       "    </tr>\n",
       "    <tr>\n",
       "      <th>2</th>\n",
       "      <td>1</td>\n",
       "      <td>3</td>\n",
       "      <td>0</td>\n",
       "      <td>26.0</td>\n",
       "      <td>0</td>\n",
       "      <td>0</td>\n",
       "      <td>7.9250</td>\n",
       "    </tr>\n",
       "    <tr>\n",
       "      <th>3</th>\n",
       "      <td>1</td>\n",
       "      <td>1</td>\n",
       "      <td>0</td>\n",
       "      <td>35.0</td>\n",
       "      <td>1</td>\n",
       "      <td>0</td>\n",
       "      <td>53.1000</td>\n",
       "    </tr>\n",
       "    <tr>\n",
       "      <th>4</th>\n",
       "      <td>0</td>\n",
       "      <td>3</td>\n",
       "      <td>1</td>\n",
       "      <td>35.0</td>\n",
       "      <td>0</td>\n",
       "      <td>0</td>\n",
       "      <td>8.0500</td>\n",
       "    </tr>\n",
       "    <tr>\n",
       "      <th>...</th>\n",
       "      <td>...</td>\n",
       "      <td>...</td>\n",
       "      <td>...</td>\n",
       "      <td>...</td>\n",
       "      <td>...</td>\n",
       "      <td>...</td>\n",
       "      <td>...</td>\n",
       "    </tr>\n",
       "    <tr>\n",
       "      <th>886</th>\n",
       "      <td>0</td>\n",
       "      <td>2</td>\n",
       "      <td>1</td>\n",
       "      <td>27.0</td>\n",
       "      <td>0</td>\n",
       "      <td>0</td>\n",
       "      <td>13.0000</td>\n",
       "    </tr>\n",
       "    <tr>\n",
       "      <th>887</th>\n",
       "      <td>1</td>\n",
       "      <td>1</td>\n",
       "      <td>0</td>\n",
       "      <td>19.0</td>\n",
       "      <td>0</td>\n",
       "      <td>0</td>\n",
       "      <td>30.0000</td>\n",
       "    </tr>\n",
       "    <tr>\n",
       "      <th>888</th>\n",
       "      <td>0</td>\n",
       "      <td>3</td>\n",
       "      <td>0</td>\n",
       "      <td>NaN</td>\n",
       "      <td>1</td>\n",
       "      <td>2</td>\n",
       "      <td>23.4500</td>\n",
       "    </tr>\n",
       "    <tr>\n",
       "      <th>889</th>\n",
       "      <td>1</td>\n",
       "      <td>1</td>\n",
       "      <td>1</td>\n",
       "      <td>26.0</td>\n",
       "      <td>0</td>\n",
       "      <td>0</td>\n",
       "      <td>30.0000</td>\n",
       "    </tr>\n",
       "    <tr>\n",
       "      <th>890</th>\n",
       "      <td>0</td>\n",
       "      <td>3</td>\n",
       "      <td>1</td>\n",
       "      <td>32.0</td>\n",
       "      <td>0</td>\n",
       "      <td>0</td>\n",
       "      <td>7.7500</td>\n",
       "    </tr>\n",
       "  </tbody>\n",
       "</table>\n",
       "<p>891 rows × 7 columns</p>\n",
       "</div>"
      ],
      "text/plain": [
       "     Survived  Pclass  Sex   Age  SibSp  Parch     Fare\n",
       "0           0       3    1  22.0      1      0   7.2500\n",
       "1           1       1    0  38.0      1      0  71.2833\n",
       "2           1       3    0  26.0      0      0   7.9250\n",
       "3           1       1    0  35.0      1      0  53.1000\n",
       "4           0       3    1  35.0      0      0   8.0500\n",
       "..        ...     ...  ...   ...    ...    ...      ...\n",
       "886         0       2    1  27.0      0      0  13.0000\n",
       "887         1       1    0  19.0      0      0  30.0000\n",
       "888         0       3    0   NaN      1      2  23.4500\n",
       "889         1       1    1  26.0      0      0  30.0000\n",
       "890         0       3    1  32.0      0      0   7.7500\n",
       "\n",
       "[891 rows x 7 columns]"
      ]
     },
     "execution_count": 13,
     "metadata": {},
     "output_type": "execute_result"
    }
   ],
   "source": [
    "data_clean"
   ]
  },
  {
   "cell_type": "code",
   "execution_count": 14,
   "metadata": {
    "colab": {
     "base_uri": "https://localhost:8080/"
    },
    "id": "1FxubR4fyejT",
    "outputId": "7e3c18af-6ecc-4ba3-ea23-0a26b9d864ac"
   },
   "outputs": [
    {
     "name": "stdout",
     "output_type": "stream",
     "text": [
      "<class 'pandas.core.frame.DataFrame'>\n",
      "RangeIndex: 891 entries, 0 to 890\n",
      "Data columns (total 7 columns):\n",
      " #   Column    Non-Null Count  Dtype  \n",
      "---  ------    --------------  -----  \n",
      " 0   Survived  891 non-null    int64  \n",
      " 1   Pclass    891 non-null    int64  \n",
      " 2   Sex       891 non-null    int64  \n",
      " 3   Age       714 non-null    float64\n",
      " 4   SibSp     891 non-null    int64  \n",
      " 5   Parch     891 non-null    int64  \n",
      " 6   Fare      891 non-null    float64\n",
      "dtypes: float64(2), int64(5)\n",
      "memory usage: 48.9 KB\n"
     ]
    }
   ],
   "source": [
    "data_clean.info()"
   ]
  },
  {
   "cell_type": "code",
   "execution_count": 15,
   "metadata": {
    "id": "2lrCkPhLyiWQ"
   },
   "outputs": [],
   "source": [
    "data_clean = data_clean.fillna(data_clean[\"Age\"].mean())"
   ]
  },
  {
   "cell_type": "code",
   "execution_count": 16,
   "metadata": {
    "colab": {
     "base_uri": "https://localhost:8080/"
    },
    "id": "5Nqi7ny2yuZN",
    "outputId": "ebeab126-859f-413b-9584-25478b48c914"
   },
   "outputs": [
    {
     "name": "stdout",
     "output_type": "stream",
     "text": [
      "<class 'pandas.core.frame.DataFrame'>\n",
      "RangeIndex: 891 entries, 0 to 890\n",
      "Data columns (total 7 columns):\n",
      " #   Column    Non-Null Count  Dtype  \n",
      "---  ------    --------------  -----  \n",
      " 0   Survived  891 non-null    int64  \n",
      " 1   Pclass    891 non-null    int64  \n",
      " 2   Sex       891 non-null    int64  \n",
      " 3   Age       891 non-null    float64\n",
      " 4   SibSp     891 non-null    int64  \n",
      " 5   Parch     891 non-null    int64  \n",
      " 6   Fare      891 non-null    float64\n",
      "dtypes: float64(2), int64(5)\n",
      "memory usage: 48.9 KB\n"
     ]
    }
   ],
   "source": [
    "data_clean.info()"
   ]
  },
  {
   "cell_type": "code",
   "execution_count": 17,
   "metadata": {
    "id": "xLCHsZL1yyCR"
   },
   "outputs": [],
   "source": [
    "input = [\"Pclass\", \"Sex\", \"Age\", \"SibSp\", \"Parch\", \"Fare\"]\n",
    "output = [\"Survived\"]\n",
    "\n",
    "X_data = data_clean[input]\n",
    "Y_data = data_clean[output]"
   ]
  },
  {
   "cell_type": "code",
   "execution_count": 18,
   "metadata": {
    "colab": {
     "base_uri": "https://localhost:8080/"
    },
    "id": "Mnd4DM7zzePV",
    "outputId": "477eec49-dd70-4b6f-9f46-9ce5f8153af5"
   },
   "outputs": [
    {
     "name": "stdout",
     "output_type": "stream",
     "text": [
      "(891, 6) (891, 1)\n"
     ]
    }
   ],
   "source": [
    "print(X_data.shape, Y_data.shape)"
   ]
  },
  {
   "cell_type": "code",
   "execution_count": 132,
   "metadata": {},
   "outputs": [
    {
     "name": "stdout",
     "output_type": "stream",
     "text": [
      "(array([1, 2, 3, 4, 5, 6]), array([4, 3, 2, 1, 1, 2]))\n"
     ]
    }
   ],
   "source": [
    "# a = np.array([1,1,2,2,3,4,5,6,6,3,2,1,1])\n",
    "# print(np.unique(a, return_counts = True))"
   ]
  },
  {
   "cell_type": "code",
   "execution_count": 19,
   "metadata": {
    "id": "xpbvlAvQzhqs"
   },
   "outputs": [],
   "source": [
    "def entropy(col):\n",
    "\n",
    "    counts = np.unique(col, return_counts = True)\n",
    "    N = float(col.shape[0])\n",
    "\n",
    "    entropy = 0\n",
    "\n",
    "    for idx in counts[1]:\n",
    "        p = idx/N\n",
    "        entropy += -1.0*(p*np.log2(p))\n",
    "\n",
    "    return entropy"
   ]
  },
  {
   "cell_type": "code",
   "execution_count": 20,
   "metadata": {
    "colab": {
     "base_uri": "https://localhost:8080/"
    },
    "id": "Ew5mdnH6Dgth",
    "outputId": "b09f1286-c1e5-4a8e-c0a9-854bc32a8455"
   },
   "outputs": [
    {
     "data": {
      "text/plain": [
       "1.0"
      ]
     },
     "execution_count": 20,
     "metadata": {},
     "output_type": "execute_result"
    }
   ],
   "source": [
    "col = np.array([0,0,1,0,1,1])\n",
    "entropy(col)"
   ]
  },
  {
   "cell_type": "code",
   "execution_count": 21,
   "metadata": {
    "id": "iKWC8oGwER5Y"
   },
   "outputs": [],
   "source": [
    "def divide_data(X_data, fkey, fval):\n",
    "    X_right = pd.DataFrame([], columns = X_data.columns)\n",
    "    X_left = pd.DataFrame([], columns = X_data.columns)\n",
    "\n",
    "    for idx in range(X_data.shape[0]):\n",
    "        val = X_data[fkey].loc[idx]\n",
    "\n",
    "        if val > fval:\n",
    "            X_right = X_right.append(X_data.loc[idx])\n",
    "            # X_right = pd.concat([X_right, X_data.loc[idx]])\n",
    "        else: \n",
    "            X_left = X_left.append(X_data.loc[idx])\n",
    "\n",
    "    return X_left, X_right"
   ]
  },
  {
   "cell_type": "code",
   "execution_count": 22,
   "metadata": {
    "colab": {
     "base_uri": "https://localhost:8080/"
    },
    "id": "ghh7J3X1KxOS",
    "outputId": "d098b380-cb10-445c-f062-4fdb285a425b"
   },
   "outputs": [
    {
     "name": "stdout",
     "output_type": "stream",
     "text": [
      "   Survived  Pclass  Sex   Age  SibSp  Parch     Fare\n",
      "1       1.0     1.0  0.0  38.0    1.0    0.0  71.2833\n",
      "2       1.0     3.0  0.0  26.0    0.0    0.0   7.9250\n",
      "3       1.0     1.0  0.0  35.0    1.0    0.0  53.1000\n",
      "8       1.0     3.0  0.0  27.0    0.0    2.0  11.1333\n",
      "9       1.0     2.0  0.0  14.0    1.0    0.0  30.0708\n",
      "   Survived  Pclass  Sex        Age  SibSp  Parch     Fare\n",
      "0       0.0     3.0  1.0  22.000000    1.0    0.0   7.2500\n",
      "4       0.0     3.0  1.0  35.000000    0.0    0.0   8.0500\n",
      "5       0.0     3.0  1.0  29.699118    0.0    0.0   8.4583\n",
      "6       0.0     1.0  1.0  54.000000    0.0    0.0  51.8625\n",
      "7       0.0     3.0  1.0   2.000000    3.0    1.0  21.0750\n"
     ]
    }
   ],
   "source": [
    "left, right = divide_data(data_clean[:10], 'Sex', 0.5)\n",
    "print(left)\n",
    "print(right)"
   ]
  },
  {
   "cell_type": "code",
   "execution_count": 23,
   "metadata": {
    "id": "aPQBYeqiDqb6"
   },
   "outputs": [],
   "source": [
    "def info_gain(X_data, fkey, fval):\n",
    "\n",
    "    left, right = divide_data(X_data, fkey, fval)\n",
    "\n",
    "    l = float(left.shape[0])/X_data.shape[0]\n",
    "    r = float(right.shape[0])/X_data.shape[0]\n",
    "\n",
    "    if left.shape[0] == 0 or right.shape[0] == 0:\n",
    "        return -1000000\n",
    "\n",
    "    i_gain = entropy(X_data.Survived) - (l*entropy(left.Survived) + r*entropy(right.Survived))\n",
    "\n",
    "    return i_gain"
   ]
  },
  {
   "cell_type": "code",
   "execution_count": 24,
   "metadata": {
    "colab": {
     "base_uri": "https://localhost:8080/"
    },
    "id": "amA_akOoGgLL",
    "outputId": "debf132c-6494-447a-b3ec-1d71c8ac0599"
   },
   "outputs": [
    {
     "name": "stdout",
     "output_type": "stream",
     "text": [
      "0.07579362743608165\n",
      "Pclass\n",
      "0.2176601066606142\n",
      "Sex\n",
      "0.0008836151229467681\n",
      "Age\n",
      "0.009584541813400071\n",
      "SibSp\n",
      "0.015380754493137694\n",
      "Parch\n",
      "0.042140692838995464\n",
      "Fare\n"
     ]
    }
   ],
   "source": [
    "for i in X_data.columns:\n",
    "    print(info_gain(data_clean, i, data_clean[i].mean()))\n",
    "    print(i)"
   ]
  },
  {
   "cell_type": "code",
   "execution_count": 25,
   "metadata": {
    "id": "9OTOJxxBG7UG"
   },
   "outputs": [],
   "source": [
    "class DecisionTree:\n",
    "\n",
    "    def __init__(self, depth = 0, max_depth = 5):\n",
    "        self.left = None\n",
    "        self.right = None\n",
    "        self.fkey = None\n",
    "        self.fval = None\n",
    "        self.max_depth = max_depth\n",
    "        self.depth = depth\n",
    "        self.target = None\n",
    "\n",
    "\n",
    "    def train(self, X_train):\n",
    "\n",
    "        feat = ['Pclass', 'Sex', 'Age', 'SibSp', 'Parch', 'Fare']\n",
    "        i_gains = []\n",
    "\n",
    "        for i in feat:\n",
    "            i_gain = info_gain(X_train, i, X_train[i].mean())\n",
    "            i_gains.append(i_gain)\n",
    "\n",
    "        self.fkey = feat[np.argmax(i_gains)]\n",
    "\n",
    "        self.fval = X_train[self.fkey].mean()\n",
    "        print(\"Making Tree Feature is: \", self.fkey)\n",
    "\n",
    "        data_left, data_right = divide_data(X_train, self.fkey, self.fval)\n",
    "        data_left = data_left.reset_index(drop = True)\n",
    "        data_right = data_right.reset_index(drop = True)\n",
    "\n",
    "        if data_left.shape[0] == 0 or data_right.shape[0] == 0:\n",
    "            if X_train.Survived.mean() >= 0.5:\n",
    "                self.target = \"Survive\"\n",
    "            else:\n",
    "                self.target = \"Dead\"\n",
    "            return\n",
    "\n",
    "        if (self.depth >= self.max_depth):\n",
    "            if X_train.Survived.mean() >= 0.5:\n",
    "                self.target = \"Survive\"\n",
    "            else:\n",
    "                self.target = \"Dead\"\n",
    "            return\n",
    "\n",
    "        self.left = DecisionTree(depth = self.depth + 1, max_depth=self.max_depth)\n",
    "        self.left.train(data_left)\n",
    "\n",
    "        self.right = DecisionTree(depth = self.depth + 1, max_depth=self.max_depth)\n",
    "        self.right.train(data_right)\n",
    "\n",
    "        if X_train.Survived.mean() >= 0.5:\n",
    "            self.target = \"Survive\"\n",
    "        else:\n",
    "            self.target = \"Dead\"\n",
    "        return\n",
    "\n",
    "    def predict(self, test):\n",
    "        if test[self.fkey] > self.fval:\n",
    "\n",
    "            if self.right is None:\n",
    "                return self.target\n",
    "            return self.right.predict(test)\n",
    "\n",
    "        else:\n",
    "            if self.left is None:\n",
    "                return self.target\n",
    "            return self.left.predict(test)\n",
    "\n",
    "\n",
    "        "
   ]
  },
  {
   "cell_type": "code",
   "execution_count": 26,
   "metadata": {
    "id": "jmOXZejbdvYu"
   },
   "outputs": [],
   "source": [
    "# d = DecisionTree()\n",
    "# d.train(data_clean)"
   ]
  },
  {
   "cell_type": "code",
   "execution_count": 27,
   "metadata": {
    "id": "9_D4BZcJd6PY"
   },
   "outputs": [],
   "source": [
    "split = int(0.7*data_clean.shape[0])\n",
    "train_data = data_clean[:split]\n",
    "test_data = data_clean[split:]\n",
    "test_data = test_data.reset_index(drop = True)"
   ]
  },
  {
   "cell_type": "code",
   "execution_count": 28,
   "metadata": {
    "colab": {
     "base_uri": "https://localhost:8080/"
    },
    "id": "wVNZg75ms6Y6",
    "outputId": "b869e667-dba1-4598-e6fd-caf3c4569e2a"
   },
   "outputs": [
    {
     "name": "stdout",
     "output_type": "stream",
     "text": [
      "(623, 7) (268, 7)\n"
     ]
    }
   ],
   "source": [
    "print(train_data.shape, test_data.shape)"
   ]
  },
  {
   "cell_type": "code",
   "execution_count": 29,
   "metadata": {
    "colab": {
     "base_uri": "https://localhost:8080/"
    },
    "id": "2Q1nKS7js-Va",
    "outputId": "751971ac-969b-410c-c608-62e7c68a61eb"
   },
   "outputs": [
    {
     "name": "stdout",
     "output_type": "stream",
     "text": [
      "Making Tree Feature is:  Sex\n",
      "Making Tree Feature is:  Pclass\n",
      "Making Tree Feature is:  Age\n",
      "Making Tree Feature is:  SibSp\n",
      "Making Tree Feature is:  Pclass\n",
      "Making Tree Feature is:  Age\n",
      "Making Tree Feature is:  Age\n",
      "Making Tree Feature is:  SibSp\n",
      "Making Tree Feature is:  Parch\n",
      "Making Tree Feature is:  Pclass\n",
      "Making Tree Feature is:  SibSp\n",
      "Making Tree Feature is:  Fare\n",
      "Making Tree Feature is:  Parch\n",
      "Making Tree Feature is:  Age\n",
      "Making Tree Feature is:  Pclass\n",
      "Making Tree Feature is:  Age\n",
      "Making Tree Feature is:  Age\n",
      "Making Tree Feature is:  Parch\n",
      "Making Tree Feature is:  SibSp\n",
      "Making Tree Feature is:  Fare\n",
      "Making Tree Feature is:  Age\n",
      "Making Tree Feature is:  Age\n",
      "Making Tree Feature is:  Fare\n",
      "Making Tree Feature is:  Age\n",
      "Making Tree Feature is:  Age\n",
      "Making Tree Feature is:  Fare\n",
      "Making Tree Feature is:  Age\n",
      "Making Tree Feature is:  Parch\n",
      "Making Tree Feature is:  Fare\n",
      "Making Tree Feature is:  Fare\n",
      "Making Tree Feature is:  Fare\n",
      "Making Tree Feature is:  Age\n",
      "Making Tree Feature is:  Fare\n",
      "Making Tree Feature is:  Parch\n",
      "Making Tree Feature is:  Fare\n",
      "Making Tree Feature is:  Age\n",
      "Making Tree Feature is:  Age\n",
      "Making Tree Feature is:  Fare\n",
      "Making Tree Feature is:  Fare\n",
      "Making Tree Feature is:  SibSp\n",
      "Making Tree Feature is:  Fare\n",
      "Making Tree Feature is:  Age\n",
      "Making Tree Feature is:  Fare\n",
      "Making Tree Feature is:  Pclass\n",
      "Making Tree Feature is:  SibSp\n",
      "Making Tree Feature is:  Age\n",
      "Making Tree Feature is:  Age\n",
      "Making Tree Feature is:  Age\n",
      "Making Tree Feature is:  Pclass\n",
      "Making Tree Feature is:  Age\n",
      "Making Tree Feature is:  SibSp\n",
      "Making Tree Feature is:  Fare\n",
      "Making Tree Feature is:  SibSp\n",
      "Making Tree Feature is:  Age\n",
      "Making Tree Feature is:  Parch\n",
      "Making Tree Feature is:  SibSp\n",
      "Making Tree Feature is:  SibSp\n",
      "Making Tree Feature is:  Age\n",
      "Making Tree Feature is:  Age\n",
      "Making Tree Feature is:  Age\n",
      "Making Tree Feature is:  Parch\n",
      "Making Tree Feature is:  Age\n",
      "Making Tree Feature is:  Age\n"
     ]
    }
   ],
   "source": [
    "d_t = DecisionTree()\n",
    "d_t.train(train_data)"
   ]
  },
  {
   "cell_type": "code",
   "execution_count": 30,
   "metadata": {
    "colab": {
     "base_uri": "https://localhost:8080/"
    },
    "id": "wNWcOtBctIV0",
    "outputId": "7fe25803-2765-4047-aa60-691ebe68a06c"
   },
   "outputs": [
    {
     "name": "stdout",
     "output_type": "stream",
     "text": [
      "Sex\n",
      "0.6292134831460674\n",
      "Pclass\n",
      "Fare\n"
     ]
    }
   ],
   "source": [
    "print(d_t.fkey)\n",
    "print(d_t.fval)\n",
    "print(d_t.left.fkey)\n",
    "print(d_t.right.fkey)"
   ]
  },
  {
   "cell_type": "code",
   "execution_count": 31,
   "metadata": {
    "id": "nefLMLXktd_B"
   },
   "outputs": [],
   "source": [
    "y_pred = []\n",
    "for i in range(test_data.shape[0]):\n",
    "    y_pred.append(d_t.predict(test_data.loc[i]))"
   ]
  },
  {
   "cell_type": "code",
   "execution_count": 32,
   "metadata": {
    "colab": {
     "base_uri": "https://localhost:8080/"
    },
    "id": "DaXSCc9ztyty",
    "outputId": "0d958dc4-b1e0-4db1-cb44-f51c4e9eb4d2"
   },
   "outputs": [
    {
     "data": {
      "text/plain": [
       "['Dead',\n",
       " 'Dead',\n",
       " 'Dead',\n",
       " 'Dead',\n",
       " 'Survive',\n",
       " 'Dead',\n",
       " 'Dead',\n",
       " 'Dead',\n",
       " 'Dead',\n",
       " 'Dead',\n",
       " 'Dead',\n",
       " 'Dead',\n",
       " 'Survive',\n",
       " 'Dead',\n",
       " 'Dead',\n",
       " 'Dead',\n",
       " 'Dead',\n",
       " 'Dead',\n",
       " 'Survive',\n",
       " 'Dead',\n",
       " 'Dead',\n",
       " 'Survive',\n",
       " 'Dead',\n",
       " 'Dead',\n",
       " 'Dead',\n",
       " 'Dead',\n",
       " 'Survive',\n",
       " 'Dead',\n",
       " 'Survive',\n",
       " 'Dead',\n",
       " 'Survive',\n",
       " 'Survive',\n",
       " 'Dead',\n",
       " 'Dead',\n",
       " 'Survive',\n",
       " 'Dead',\n",
       " 'Dead',\n",
       " 'Dead',\n",
       " 'Dead',\n",
       " 'Dead',\n",
       " 'Dead',\n",
       " 'Dead',\n",
       " 'Dead',\n",
       " 'Dead',\n",
       " 'Dead',\n",
       " 'Dead',\n",
       " 'Survive',\n",
       " 'Survive',\n",
       " 'Survive',\n",
       " 'Dead',\n",
       " 'Dead',\n",
       " 'Dead',\n",
       " 'Dead',\n",
       " 'Dead',\n",
       " 'Dead',\n",
       " 'Dead',\n",
       " 'Dead',\n",
       " 'Survive',\n",
       " 'Dead',\n",
       " 'Dead',\n",
       " 'Dead',\n",
       " 'Dead',\n",
       " 'Dead',\n",
       " 'Dead',\n",
       " 'Dead',\n",
       " 'Dead',\n",
       " 'Survive',\n",
       " 'Survive',\n",
       " 'Survive',\n",
       " 'Dead',\n",
       " 'Dead',\n",
       " 'Dead',\n",
       " 'Dead',\n",
       " 'Dead',\n",
       " 'Survive',\n",
       " 'Dead',\n",
       " 'Dead',\n",
       " 'Survive',\n",
       " 'Dead',\n",
       " 'Survive',\n",
       " 'Dead',\n",
       " 'Dead',\n",
       " 'Dead',\n",
       " 'Survive',\n",
       " 'Dead',\n",
       " 'Survive',\n",
       " 'Dead',\n",
       " 'Survive',\n",
       " 'Dead',\n",
       " 'Dead',\n",
       " 'Dead',\n",
       " 'Dead',\n",
       " 'Dead',\n",
       " 'Survive',\n",
       " 'Survive',\n",
       " 'Dead',\n",
       " 'Dead',\n",
       " 'Survive',\n",
       " 'Dead',\n",
       " 'Dead',\n",
       " 'Dead',\n",
       " 'Survive',\n",
       " 'Dead',\n",
       " 'Survive',\n",
       " 'Survive',\n",
       " 'Dead',\n",
       " 'Dead',\n",
       " 'Survive',\n",
       " 'Dead',\n",
       " 'Dead',\n",
       " 'Dead',\n",
       " 'Dead',\n",
       " 'Dead',\n",
       " 'Dead',\n",
       " 'Dead',\n",
       " 'Dead',\n",
       " 'Dead',\n",
       " 'Dead',\n",
       " 'Survive',\n",
       " 'Survive',\n",
       " 'Dead',\n",
       " 'Dead',\n",
       " 'Dead',\n",
       " 'Survive',\n",
       " 'Survive',\n",
       " 'Survive',\n",
       " 'Dead',\n",
       " 'Survive',\n",
       " 'Dead',\n",
       " 'Dead',\n",
       " 'Dead',\n",
       " 'Survive',\n",
       " 'Dead',\n",
       " 'Dead',\n",
       " 'Dead',\n",
       " 'Dead',\n",
       " 'Survive',\n",
       " 'Dead',\n",
       " 'Dead',\n",
       " 'Dead',\n",
       " 'Survive',\n",
       " 'Dead',\n",
       " 'Survive',\n",
       " 'Dead',\n",
       " 'Survive',\n",
       " 'Dead',\n",
       " 'Dead',\n",
       " 'Dead',\n",
       " 'Dead',\n",
       " 'Survive',\n",
       " 'Dead',\n",
       " 'Survive',\n",
       " 'Dead',\n",
       " 'Dead',\n",
       " 'Dead',\n",
       " 'Dead',\n",
       " 'Survive',\n",
       " 'Survive',\n",
       " 'Survive',\n",
       " 'Dead',\n",
       " 'Dead',\n",
       " 'Dead',\n",
       " 'Dead',\n",
       " 'Survive',\n",
       " 'Dead',\n",
       " 'Survive',\n",
       " 'Dead',\n",
       " 'Dead',\n",
       " 'Dead',\n",
       " 'Dead',\n",
       " 'Dead',\n",
       " 'Dead',\n",
       " 'Dead',\n",
       " 'Survive',\n",
       " 'Dead',\n",
       " 'Dead',\n",
       " 'Dead',\n",
       " 'Dead',\n",
       " 'Survive',\n",
       " 'Survive',\n",
       " 'Dead',\n",
       " 'Dead',\n",
       " 'Dead',\n",
       " 'Dead',\n",
       " 'Survive',\n",
       " 'Dead',\n",
       " 'Survive',\n",
       " 'Dead',\n",
       " 'Dead',\n",
       " 'Dead',\n",
       " 'Dead',\n",
       " 'Dead',\n",
       " 'Dead',\n",
       " 'Survive',\n",
       " 'Dead',\n",
       " 'Dead',\n",
       " 'Dead',\n",
       " 'Survive',\n",
       " 'Dead',\n",
       " 'Dead',\n",
       " 'Survive',\n",
       " 'Dead',\n",
       " 'Dead',\n",
       " 'Dead',\n",
       " 'Dead',\n",
       " 'Dead',\n",
       " 'Survive',\n",
       " 'Dead',\n",
       " 'Survive',\n",
       " 'Dead',\n",
       " 'Dead',\n",
       " 'Dead',\n",
       " 'Survive',\n",
       " 'Dead',\n",
       " 'Dead',\n",
       " 'Dead',\n",
       " 'Dead',\n",
       " 'Dead',\n",
       " 'Dead',\n",
       " 'Survive',\n",
       " 'Dead',\n",
       " 'Dead',\n",
       " 'Dead',\n",
       " 'Dead',\n",
       " 'Dead',\n",
       " 'Dead',\n",
       " 'Survive',\n",
       " 'Dead',\n",
       " 'Dead',\n",
       " 'Survive',\n",
       " 'Survive',\n",
       " 'Survive',\n",
       " 'Survive',\n",
       " 'Survive',\n",
       " 'Dead',\n",
       " 'Survive',\n",
       " 'Dead',\n",
       " 'Dead',\n",
       " 'Dead',\n",
       " 'Survive',\n",
       " 'Dead',\n",
       " 'Dead',\n",
       " 'Survive',\n",
       " 'Survive',\n",
       " 'Dead',\n",
       " 'Dead',\n",
       " 'Dead',\n",
       " 'Dead',\n",
       " 'Survive',\n",
       " 'Dead',\n",
       " 'Dead',\n",
       " 'Survive',\n",
       " 'Survive',\n",
       " 'Dead',\n",
       " 'Dead',\n",
       " 'Dead',\n",
       " 'Survive',\n",
       " 'Survive',\n",
       " 'Dead',\n",
       " 'Dead',\n",
       " 'Dead',\n",
       " 'Dead',\n",
       " 'Dead',\n",
       " 'Dead',\n",
       " 'Survive',\n",
       " 'Dead',\n",
       " 'Dead',\n",
       " 'Dead']"
      ]
     },
     "execution_count": 32,
     "metadata": {},
     "output_type": "execute_result"
    }
   ],
   "source": [
    "y_pred"
   ]
  },
  {
   "cell_type": "code",
   "execution_count": 33,
   "metadata": {
    "id": "7AasFuUduPgB"
   },
   "outputs": [],
   "source": [
    "y_actual = test_data[output]"
   ]
  },
  {
   "cell_type": "code",
   "execution_count": 34,
   "metadata": {
    "colab": {
     "base_uri": "https://localhost:8080/"
    },
    "id": "TLKI4_VguWcE",
    "outputId": "7293a9b9-1ce9-4573-9593-ee2228305603"
   },
   "outputs": [
    {
     "name": "stdout",
     "output_type": "stream",
     "text": [
      "     Survived\n",
      "0           0\n",
      "1           0\n",
      "2           0\n",
      "3           0\n",
      "4           1\n",
      "..        ...\n",
      "263         0\n",
      "264         1\n",
      "265         0\n",
      "266         1\n",
      "267         0\n",
      "\n",
      "[268 rows x 1 columns]\n"
     ]
    }
   ],
   "source": [
    "print(y_actual)"
   ]
  },
  {
   "cell_type": "code",
   "execution_count": 35,
   "metadata": {
    "id": "8iXHpy8KubXr"
   },
   "outputs": [],
   "source": [
    "le = LabelEncoder()\n",
    "\n",
    "y_pred = le.fit_transform(y_pred)"
   ]
  },
  {
   "cell_type": "code",
   "execution_count": 36,
   "metadata": {
    "colab": {
     "base_uri": "https://localhost:8080/"
    },
    "id": "hMPlhYECupwB",
    "outputId": "0d72053d-b613-4d9e-cbb3-d1dd0d6e8203"
   },
   "outputs": [
    {
     "data": {
      "text/plain": [
       "array([0, 0, 0, 0, 1, 0, 0, 0, 0, 0, 0, 0, 1, 0, 0, 0, 0, 0, 1, 0, 0, 1,\n",
       "       0, 0, 0, 0, 1, 0, 1, 0, 1, 1, 0, 0, 1, 0, 0, 0, 0, 0, 0, 0, 0, 0,\n",
       "       0, 0, 1, 1, 1, 0, 0, 0, 0, 0, 0, 0, 0, 1, 0, 0, 0, 0, 0, 0, 0, 0,\n",
       "       1, 1, 1, 0, 0, 0, 0, 0, 1, 0, 0, 1, 0, 1, 0, 0, 0, 1, 0, 1, 0, 1,\n",
       "       0, 0, 0, 0, 0, 1, 1, 0, 0, 1, 0, 0, 0, 1, 0, 1, 1, 0, 0, 1, 0, 0,\n",
       "       0, 0, 0, 0, 0, 0, 0, 0, 1, 1, 0, 0, 0, 1, 1, 1, 0, 1, 0, 0, 0, 1,\n",
       "       0, 0, 0, 0, 1, 0, 0, 0, 1, 0, 1, 0, 1, 0, 0, 0, 0, 1, 0, 1, 0, 0,\n",
       "       0, 0, 1, 1, 1, 0, 0, 0, 0, 1, 0, 1, 0, 0, 0, 0, 0, 0, 0, 1, 0, 0,\n",
       "       0, 0, 1, 1, 0, 0, 0, 0, 1, 0, 1, 0, 0, 0, 0, 0, 0, 1, 0, 0, 0, 1,\n",
       "       0, 0, 1, 0, 0, 0, 0, 0, 1, 0, 1, 0, 0, 0, 1, 0, 0, 0, 0, 0, 0, 1,\n",
       "       0, 0, 0, 0, 0, 0, 1, 0, 0, 1, 1, 1, 1, 1, 0, 1, 0, 0, 0, 1, 0, 0,\n",
       "       1, 1, 0, 0, 0, 0, 1, 0, 0, 1, 1, 0, 0, 0, 1, 1, 0, 0, 0, 0, 0, 0,\n",
       "       1, 0, 0, 0])"
      ]
     },
     "execution_count": 36,
     "metadata": {},
     "output_type": "execute_result"
    }
   ],
   "source": [
    "y_pred"
   ]
  },
  {
   "cell_type": "code",
   "execution_count": 37,
   "metadata": {
    "colab": {
     "base_uri": "https://localhost:8080/"
    },
    "id": "G71m4I_0ustH",
    "outputId": "2e46946c-01e2-44f8-c549-61cf7e7b29ed"
   },
   "outputs": [
    {
     "name": "stdout",
     "output_type": "stream",
     "text": [
      "(268,) (268, 1)\n"
     ]
    }
   ],
   "source": [
    "print(y_pred.shape, y_actual.shape)"
   ]
  },
  {
   "cell_type": "code",
   "execution_count": 38,
   "metadata": {
    "colab": {
     "base_uri": "https://localhost:8080/"
    },
    "id": "5h3K0DRHu3BH",
    "outputId": "a61df4db-b657-4f68-e94e-2b320b3a903c"
   },
   "outputs": [
    {
     "name": "stdout",
     "output_type": "stream",
     "text": [
      "(268, 1)\n"
     ]
    }
   ],
   "source": [
    "y_pred = np.array(y_pred).reshape((-1, 1))\n",
    "print(y_pred.shape)"
   ]
  },
  {
   "cell_type": "code",
   "execution_count": 39,
   "metadata": {
    "colab": {
     "base_uri": "https://localhost:8080/"
    },
    "id": "RdtoYQmNvDIp",
    "outputId": "1da3339e-537a-4a94-8b84-8517f3ab8206"
   },
   "outputs": [
    {
     "name": "stdout",
     "output_type": "stream",
     "text": [
      "0.8171641791044776\n"
     ]
    }
   ],
   "source": [
    "acc = np.sum(np.array(y_pred) == np.array(y_actual))/y_pred.shape[0]\n",
    "print(acc)"
   ]
  },
  {
   "cell_type": "code",
   "execution_count": null,
   "metadata": {
    "id": "RUETyXKdvO1W"
   },
   "outputs": [],
   "source": [
    " "
   ]
  },
  {
   "cell_type": "code",
   "execution_count": 41,
   "metadata": {
    "id": "ivZFm3GGvpAl"
   },
   "outputs": [],
   "source": [
    "from sklearn.tree import DecisionTreeClassifier"
   ]
  },
  {
   "cell_type": "code",
   "execution_count": 42,
   "metadata": {},
   "outputs": [],
   "source": [
    "tree = DecisionTreeClassifier(criterion='entropy', max_depth=5)"
   ]
  },
  {
   "cell_type": "code",
   "execution_count": 43,
   "metadata": {},
   "outputs": [
    {
     "data": {
      "text/html": [
       "<style>#sk-container-id-1 {color: black;background-color: white;}#sk-container-id-1 pre{padding: 0;}#sk-container-id-1 div.sk-toggleable {background-color: white;}#sk-container-id-1 label.sk-toggleable__label {cursor: pointer;display: block;width: 100%;margin-bottom: 0;padding: 0.3em;box-sizing: border-box;text-align: center;}#sk-container-id-1 label.sk-toggleable__label-arrow:before {content: \"▸\";float: left;margin-right: 0.25em;color: #696969;}#sk-container-id-1 label.sk-toggleable__label-arrow:hover:before {color: black;}#sk-container-id-1 div.sk-estimator:hover label.sk-toggleable__label-arrow:before {color: black;}#sk-container-id-1 div.sk-toggleable__content {max-height: 0;max-width: 0;overflow: hidden;text-align: left;background-color: #f0f8ff;}#sk-container-id-1 div.sk-toggleable__content pre {margin: 0.2em;color: black;border-radius: 0.25em;background-color: #f0f8ff;}#sk-container-id-1 input.sk-toggleable__control:checked~div.sk-toggleable__content {max-height: 200px;max-width: 100%;overflow: auto;}#sk-container-id-1 input.sk-toggleable__control:checked~label.sk-toggleable__label-arrow:before {content: \"▾\";}#sk-container-id-1 div.sk-estimator input.sk-toggleable__control:checked~label.sk-toggleable__label {background-color: #d4ebff;}#sk-container-id-1 div.sk-label input.sk-toggleable__control:checked~label.sk-toggleable__label {background-color: #d4ebff;}#sk-container-id-1 input.sk-hidden--visually {border: 0;clip: rect(1px 1px 1px 1px);clip: rect(1px, 1px, 1px, 1px);height: 1px;margin: -1px;overflow: hidden;padding: 0;position: absolute;width: 1px;}#sk-container-id-1 div.sk-estimator {font-family: monospace;background-color: #f0f8ff;border: 1px dotted black;border-radius: 0.25em;box-sizing: border-box;margin-bottom: 0.5em;}#sk-container-id-1 div.sk-estimator:hover {background-color: #d4ebff;}#sk-container-id-1 div.sk-parallel-item::after {content: \"\";width: 100%;border-bottom: 1px solid gray;flex-grow: 1;}#sk-container-id-1 div.sk-label:hover label.sk-toggleable__label {background-color: #d4ebff;}#sk-container-id-1 div.sk-serial::before {content: \"\";position: absolute;border-left: 1px solid gray;box-sizing: border-box;top: 0;bottom: 0;left: 50%;z-index: 0;}#sk-container-id-1 div.sk-serial {display: flex;flex-direction: column;align-items: center;background-color: white;padding-right: 0.2em;padding-left: 0.2em;position: relative;}#sk-container-id-1 div.sk-item {position: relative;z-index: 1;}#sk-container-id-1 div.sk-parallel {display: flex;align-items: stretch;justify-content: center;background-color: white;position: relative;}#sk-container-id-1 div.sk-item::before, #sk-container-id-1 div.sk-parallel-item::before {content: \"\";position: absolute;border-left: 1px solid gray;box-sizing: border-box;top: 0;bottom: 0;left: 50%;z-index: -1;}#sk-container-id-1 div.sk-parallel-item {display: flex;flex-direction: column;z-index: 1;position: relative;background-color: white;}#sk-container-id-1 div.sk-parallel-item:first-child::after {align-self: flex-end;width: 50%;}#sk-container-id-1 div.sk-parallel-item:last-child::after {align-self: flex-start;width: 50%;}#sk-container-id-1 div.sk-parallel-item:only-child::after {width: 0;}#sk-container-id-1 div.sk-dashed-wrapped {border: 1px dashed gray;margin: 0 0.4em 0.5em 0.4em;box-sizing: border-box;padding-bottom: 0.4em;background-color: white;}#sk-container-id-1 div.sk-label label {font-family: monospace;font-weight: bold;display: inline-block;line-height: 1.2em;}#sk-container-id-1 div.sk-label-container {text-align: center;}#sk-container-id-1 div.sk-container {/* jupyter's `normalize.less` sets `[hidden] { display: none; }` but bootstrap.min.css set `[hidden] { display: none !important; }` so we also need the `!important` here to be able to override the default hidden behavior on the sphinx rendered scikit-learn.org. See: https://github.com/scikit-learn/scikit-learn/issues/21755 */display: inline-block !important;position: relative;}#sk-container-id-1 div.sk-text-repr-fallback {display: none;}</style><div id=\"sk-container-id-1\" class=\"sk-top-container\"><div class=\"sk-text-repr-fallback\"><pre>DecisionTreeClassifier(criterion=&#x27;entropy&#x27;)</pre><b>In a Jupyter environment, please rerun this cell to show the HTML representation or trust the notebook. <br />On GitHub, the HTML representation is unable to render, please try loading this page with nbviewer.org.</b></div><div class=\"sk-container\" hidden><div class=\"sk-item\"><div class=\"sk-estimator sk-toggleable\"><input class=\"sk-toggleable__control sk-hidden--visually\" id=\"sk-estimator-id-1\" type=\"checkbox\" checked><label for=\"sk-estimator-id-1\" class=\"sk-toggleable__label sk-toggleable__label-arrow\">DecisionTreeClassifier</label><div class=\"sk-toggleable__content\"><pre>DecisionTreeClassifier(criterion=&#x27;entropy&#x27;)</pre></div></div></div></div></div>"
      ],
      "text/plain": [
       "DecisionTreeClassifier(criterion='entropy')"
      ]
     },
     "execution_count": 43,
     "metadata": {},
     "output_type": "execute_result"
    }
   ],
   "source": [
    "tree.fit(train_data[input], train_data[output])"
   ]
  },
  {
   "cell_type": "code",
   "execution_count": 44,
   "metadata": {},
   "outputs": [
    {
     "data": {
      "text/plain": [
       "array([0, 0, 0, 0, 1, 0, 0, 0, 0, 1, 0, 0, 1, 0, 0, 0, 0, 0, 1, 0, 0, 1,\n",
       "       1, 0, 0, 0, 0, 0, 1, 0, 1, 1, 0, 0, 1, 0, 1, 0, 0, 0, 0, 0, 0, 0,\n",
       "       1, 0, 1, 1, 0, 0, 0, 0, 0, 0, 0, 0, 0, 0, 0, 0, 0, 0, 0, 0, 0, 1,\n",
       "       1, 0, 1, 0, 1, 0, 0, 0, 1, 1, 0, 1, 1, 0, 0, 0, 0, 1, 0, 1, 1, 1,\n",
       "       1, 1, 1, 0, 0, 1, 0, 0, 1, 1, 0, 1, 0, 0, 0, 1, 1, 0, 0, 1, 1, 0,\n",
       "       0, 0, 0, 0, 0, 0, 0, 0, 0, 1, 0, 0, 0, 0, 1, 1, 0, 1, 1, 1, 0, 1,\n",
       "       1, 1, 0, 0, 1, 0, 0, 0, 1, 0, 1, 0, 0, 0, 1, 0, 1, 1, 0, 1, 0, 0,\n",
       "       1, 0, 1, 0, 1, 0, 0, 0, 0, 1, 0, 1, 0, 0, 0, 0, 0, 0, 0, 1, 0, 0,\n",
       "       1, 1, 1, 1, 1, 0, 1, 0, 1, 0, 1, 0, 0, 0, 0, 0, 0, 1, 0, 0, 0, 1,\n",
       "       0, 0, 1, 0, 0, 0, 1, 0, 1, 0, 1, 0, 0, 0, 1, 0, 0, 1, 0, 0, 0, 1,\n",
       "       0, 0, 0, 0, 0, 0, 1, 0, 1, 1, 1, 1, 0, 1, 1, 0, 0, 0, 0, 1, 0, 0,\n",
       "       1, 0, 0, 1, 1, 0, 1, 0, 0, 1, 1, 0, 0, 0, 1, 0, 0, 0, 0, 0, 0, 0,\n",
       "       1, 1, 0, 0])"
      ]
     },
     "execution_count": 44,
     "metadata": {},
     "output_type": "execute_result"
    }
   ],
   "source": [
    "tree.predict(test_data[input])"
   ]
  },
  {
   "cell_type": "code",
   "execution_count": 45,
   "metadata": {},
   "outputs": [
    {
     "data": {
      "text/plain": [
       "0.9823434991974318"
      ]
     },
     "execution_count": 45,
     "metadata": {},
     "output_type": "execute_result"
    }
   ],
   "source": [
    "tree.score(train_data[input], train_data[output])"
   ]
  },
  {
   "cell_type": "code",
   "execution_count": 73,
   "metadata": {},
   "outputs": [],
   "source": [
    "DecisionTreeClassifier?"
   ]
  },
  {
   "cell_type": "code",
   "execution_count": 55,
   "metadata": {},
   "outputs": [
    {
     "name": "stdout",
     "output_type": "stream",
     "text": [
      "Collecting graphviz\n",
      "  Downloading graphviz-0.20.1-py3-none-any.whl (47 kB)\n",
      "\u001b[K     |████████████████████████████████| 47 kB 2.7 MB/s eta 0:00:011\n",
      "\u001b[?25hInstalling collected packages: graphviz\n",
      "Successfully installed graphviz-0.20.1\n",
      "\u001b[33mWARNING: You are using pip version 21.1.1; however, version 23.1.2 is available.\n",
      "You should consider upgrading via the '/Users/codingblocks/Desktop/Jupyter_notebook/vir_env/bin/python3 -m pip install --upgrade pip' command.\u001b[0m\n"
     ]
    }
   ],
   "source": [
    "# !pip install pydotplus\n",
    "# !pip install graphviz"
   ]
  },
  {
   "cell_type": "code",
   "execution_count": null,
   "metadata": {},
   "outputs": [],
   "source": []
  },
  {
   "cell_type": "code",
   "execution_count": null,
   "metadata": {},
   "outputs": [],
   "source": []
  },
  {
   "cell_type": "code",
   "execution_count": null,
   "metadata": {},
   "outputs": [],
   "source": []
  },
  {
   "cell_type": "code",
   "execution_count": 70,
   "metadata": {},
   "outputs": [],
   "source": [
    "from sklearn import tree as dt"
   ]
  },
  {
   "cell_type": "code",
   "execution_count": 71,
   "metadata": {},
   "outputs": [
    {
     "data": {
      "image/png": "[encoded data removed]",
      "text/plain": [
       "<Figure size 1200x1200 with 1 Axes>"
      ]
     },
     "metadata": {},
     "output_type": "display_data"
    }
   ],
   "source": [
    "import matplotlib.pyplot as plt\n",
    "fig, axes = plt.subplots(nrows = 1,ncols = 1,figsize = (4,4), dpi=300)\n",
    "dt.plot_tree(tree,\n",
    "               filled = True);\n",
    "fig.savefig('imagename.png')"
   ]
  },
  {
   "cell_type": "code",
   "execution_count": null,
   "metadata": {},
   "outputs": [],
   "source": []
  },
  {
   "cell_type": "markdown",
   "metadata": {},
   "source": [
    "# Random Forrest"
   ]
  },
  {
   "cell_type": "code",
   "execution_count": 72,
   "metadata": {},
   "outputs": [],
   "source": [
    "X_train = train_data[input]\n",
    "Y_train = np.array(train_data[output]).reshape((-1,))\n",
    "X_test = test_data[input]\n",
    "Y_test = np.array(test_data[output]).reshape((-1,))"
   ]
  },
  {
   "cell_type": "code",
   "execution_count": 74,
   "metadata": {},
   "outputs": [],
   "source": [
    "sk_tree = DecisionTreeClassifier(criterion='entropy', max_depth=5)"
   ]
  },
  {
   "cell_type": "code",
   "execution_count": 75,
   "metadata": {},
   "outputs": [
    {
     "data": {
      "text/plain": [
       "0.8443017656500803"
      ]
     },
     "execution_count": 75,
     "metadata": {},
     "output_type": "execute_result"
    }
   ],
   "source": [
    "sk_tree.fit(X_train, Y_train)\n",
    "sk_tree.score(X_train, Y_train)"
   ]
  },
  {
   "cell_type": "code",
   "execution_count": 76,
   "metadata": {},
   "outputs": [
    {
     "data": {
      "text/plain": [
       "0.8283582089552238"
      ]
     },
     "execution_count": 76,
     "metadata": {},
     "output_type": "execute_result"
    }
   ],
   "source": [
    "sk_tree.score(X_test, Y_test)"
   ]
  },
  {
   "cell_type": "code",
   "execution_count": 77,
   "metadata": {},
   "outputs": [],
   "source": [
    "from sklearn.ensemble import RandomForestClassifier"
   ]
  },
  {
   "cell_type": "code",
   "execution_count": 86,
   "metadata": {},
   "outputs": [],
   "source": [
    "rf = RandomForestClassifier(n_estimators=10, criterion='entropy')"
   ]
  },
  {
   "cell_type": "code",
   "execution_count": 87,
   "metadata": {},
   "outputs": [
    {
     "data": {
      "text/html": [
       "<style>#sk-container-id-4 {color: black;background-color: white;}#sk-container-id-4 pre{padding: 0;}#sk-container-id-4 div.sk-toggleable {background-color: white;}#sk-container-id-4 label.sk-toggleable__label {cursor: pointer;display: block;width: 100%;margin-bottom: 0;padding: 0.3em;box-sizing: border-box;text-align: center;}#sk-container-id-4 label.sk-toggleable__label-arrow:before {content: \"▸\";float: left;margin-right: 0.25em;color: #696969;}#sk-container-id-4 label.sk-toggleable__label-arrow:hover:before {color: black;}#sk-container-id-4 div.sk-estimator:hover label.sk-toggleable__label-arrow:before {color: black;}#sk-container-id-4 div.sk-toggleable__content {max-height: 0;max-width: 0;overflow: hidden;text-align: left;background-color: #f0f8ff;}#sk-container-id-4 div.sk-toggleable__content pre {margin: 0.2em;color: black;border-radius: 0.25em;background-color: #f0f8ff;}#sk-container-id-4 input.sk-toggleable__control:checked~div.sk-toggleable__content {max-height: 200px;max-width: 100%;overflow: auto;}#sk-container-id-4 input.sk-toggleable__control:checked~label.sk-toggleable__label-arrow:before {content: \"▾\";}#sk-container-id-4 div.sk-estimator input.sk-toggleable__control:checked~label.sk-toggleable__label {background-color: #d4ebff;}#sk-container-id-4 div.sk-label input.sk-toggleable__control:checked~label.sk-toggleable__label {background-color: #d4ebff;}#sk-container-id-4 input.sk-hidden--visually {border: 0;clip: rect(1px 1px 1px 1px);clip: rect(1px, 1px, 1px, 1px);height: 1px;margin: -1px;overflow: hidden;padding: 0;position: absolute;width: 1px;}#sk-container-id-4 div.sk-estimator {font-family: monospace;background-color: #f0f8ff;border: 1px dotted black;border-radius: 0.25em;box-sizing: border-box;margin-bottom: 0.5em;}#sk-container-id-4 div.sk-estimator:hover {background-color: #d4ebff;}#sk-container-id-4 div.sk-parallel-item::after {content: \"\";width: 100%;border-bottom: 1px solid gray;flex-grow: 1;}#sk-container-id-4 div.sk-label:hover label.sk-toggleable__label {background-color: #d4ebff;}#sk-container-id-4 div.sk-serial::before {content: \"\";position: absolute;border-left: 1px solid gray;box-sizing: border-box;top: 0;bottom: 0;left: 50%;z-index: 0;}#sk-container-id-4 div.sk-serial {display: flex;flex-direction: column;align-items: center;background-color: white;padding-right: 0.2em;padding-left: 0.2em;position: relative;}#sk-container-id-4 div.sk-item {position: relative;z-index: 1;}#sk-container-id-4 div.sk-parallel {display: flex;align-items: stretch;justify-content: center;background-color: white;position: relative;}#sk-container-id-4 div.sk-item::before, #sk-container-id-4 div.sk-parallel-item::before {content: \"\";position: absolute;border-left: 1px solid gray;box-sizing: border-box;top: 0;bottom: 0;left: 50%;z-index: -1;}#sk-container-id-4 div.sk-parallel-item {display: flex;flex-direction: column;z-index: 1;position: relative;background-color: white;}#sk-container-id-4 div.sk-parallel-item:first-child::after {align-self: flex-end;width: 50%;}#sk-container-id-4 div.sk-parallel-item:last-child::after {align-self: flex-start;width: 50%;}#sk-container-id-4 div.sk-parallel-item:only-child::after {width: 0;}#sk-container-id-4 div.sk-dashed-wrapped {border: 1px dashed gray;margin: 0 0.4em 0.5em 0.4em;box-sizing: border-box;padding-bottom: 0.4em;background-color: white;}#sk-container-id-4 div.sk-label label {font-family: monospace;font-weight: bold;display: inline-block;line-height: 1.2em;}#sk-container-id-4 div.sk-label-container {text-align: center;}#sk-container-id-4 div.sk-container {/* jupyter's `normalize.less` sets `[hidden] { display: none; }` but bootstrap.min.css set `[hidden] { display: none !important; }` so we also need the `!important` here to be able to override the default hidden behavior on the sphinx rendered scikit-learn.org. See: https://github.com/scikit-learn/scikit-learn/issues/21755 */display: inline-block !important;position: relative;}#sk-container-id-4 div.sk-text-repr-fallback {display: none;}</style><div id=\"sk-container-id-4\" class=\"sk-top-container\"><div class=\"sk-text-repr-fallback\"><pre>RandomForestClassifier(criterion=&#x27;entropy&#x27;, n_estimators=10)</pre><b>In a Jupyter environment, please rerun this cell to show the HTML representation or trust the notebook. <br />On GitHub, the HTML representation is unable to render, please try loading this page with nbviewer.org.</b></div><div class=\"sk-container\" hidden><div class=\"sk-item\"><div class=\"sk-estimator sk-toggleable\"><input class=\"sk-toggleable__control sk-hidden--visually\" id=\"sk-estimator-id-4\" type=\"checkbox\" checked><label for=\"sk-estimator-id-4\" class=\"sk-toggleable__label sk-toggleable__label-arrow\">RandomForestClassifier</label><div class=\"sk-toggleable__content\"><pre>RandomForestClassifier(criterion=&#x27;entropy&#x27;, n_estimators=10)</pre></div></div></div></div></div>"
      ],
      "text/plain": [
       "RandomForestClassifier(criterion='entropy', n_estimators=10)"
      ]
     },
     "execution_count": 87,
     "metadata": {},
     "output_type": "execute_result"
    }
   ],
   "source": [
    "rf.fit(X_train, Y_train)"
   ]
  },
  {
   "cell_type": "code",
   "execution_count": 88,
   "metadata": {},
   "outputs": [
    {
     "data": {
      "text/plain": [
       "0.9646869983948636"
      ]
     },
     "execution_count": 88,
     "metadata": {},
     "output_type": "execute_result"
    }
   ],
   "source": [
    "rf.score(X_train, Y_train)"
   ]
  },
  {
   "cell_type": "code",
   "execution_count": 89,
   "metadata": {},
   "outputs": [
    {
     "data": {
      "text/plain": [
       "0.8134328358208955"
      ]
     },
     "execution_count": 89,
     "metadata": {},
     "output_type": "execute_result"
    }
   ],
   "source": [
    "rf.score(X_test, Y_test)"
   ]
  },
  {
   "cell_type": "code",
   "execution_count": 110,
   "metadata": {},
   "outputs": [],
   "source": [
    "rf = RandomForestClassifier(n_estimators=100, criterion='entropy', max_depth=6)"
   ]
  },
  {
   "cell_type": "code",
   "execution_count": 111,
   "metadata": {},
   "outputs": [
    {
     "data": {
      "text/html": [
       "<style>#sk-container-id-10 {color: black;background-color: white;}#sk-container-id-10 pre{padding: 0;}#sk-container-id-10 div.sk-toggleable {background-color: white;}#sk-container-id-10 label.sk-toggleable__label {cursor: pointer;display: block;width: 100%;margin-bottom: 0;padding: 0.3em;box-sizing: border-box;text-align: center;}#sk-container-id-10 label.sk-toggleable__label-arrow:before {content: \"▸\";float: left;margin-right: 0.25em;color: #696969;}#sk-container-id-10 label.sk-toggleable__label-arrow:hover:before {color: black;}#sk-container-id-10 div.sk-estimator:hover label.sk-toggleable__label-arrow:before {color: black;}#sk-container-id-10 div.sk-toggleable__content {max-height: 0;max-width: 0;overflow: hidden;text-align: left;background-color: #f0f8ff;}#sk-container-id-10 div.sk-toggleable__content pre {margin: 0.2em;color: black;border-radius: 0.25em;background-color: #f0f8ff;}#sk-container-id-10 input.sk-toggleable__control:checked~div.sk-toggleable__content {max-height: 200px;max-width: 100%;overflow: auto;}#sk-container-id-10 input.sk-toggleable__control:checked~label.sk-toggleable__label-arrow:before {content: \"▾\";}#sk-container-id-10 div.sk-estimator input.sk-toggleable__control:checked~label.sk-toggleable__label {background-color: #d4ebff;}#sk-container-id-10 div.sk-label input.sk-toggleable__control:checked~label.sk-toggleable__label {background-color: #d4ebff;}#sk-container-id-10 input.sk-hidden--visually {border: 0;clip: rect(1px 1px 1px 1px);clip: rect(1px, 1px, 1px, 1px);height: 1px;margin: -1px;overflow: hidden;padding: 0;position: absolute;width: 1px;}#sk-container-id-10 div.sk-estimator {font-family: monospace;background-color: #f0f8ff;border: 1px dotted black;border-radius: 0.25em;box-sizing: border-box;margin-bottom: 0.5em;}#sk-container-id-10 div.sk-estimator:hover {background-color: #d4ebff;}#sk-container-id-10 div.sk-parallel-item::after {content: \"\";width: 100%;border-bottom: 1px solid gray;flex-grow: 1;}#sk-container-id-10 div.sk-label:hover label.sk-toggleable__label {background-color: #d4ebff;}#sk-container-id-10 div.sk-serial::before {content: \"\";position: absolute;border-left: 1px solid gray;box-sizing: border-box;top: 0;bottom: 0;left: 50%;z-index: 0;}#sk-container-id-10 div.sk-serial {display: flex;flex-direction: column;align-items: center;background-color: white;padding-right: 0.2em;padding-left: 0.2em;position: relative;}#sk-container-id-10 div.sk-item {position: relative;z-index: 1;}#sk-container-id-10 div.sk-parallel {display: flex;align-items: stretch;justify-content: center;background-color: white;position: relative;}#sk-container-id-10 div.sk-item::before, #sk-container-id-10 div.sk-parallel-item::before {content: \"\";position: absolute;border-left: 1px solid gray;box-sizing: border-box;top: 0;bottom: 0;left: 50%;z-index: -1;}#sk-container-id-10 div.sk-parallel-item {display: flex;flex-direction: column;z-index: 1;position: relative;background-color: white;}#sk-container-id-10 div.sk-parallel-item:first-child::after {align-self: flex-end;width: 50%;}#sk-container-id-10 div.sk-parallel-item:last-child::after {align-self: flex-start;width: 50%;}#sk-container-id-10 div.sk-parallel-item:only-child::after {width: 0;}#sk-container-id-10 div.sk-dashed-wrapped {border: 1px dashed gray;margin: 0 0.4em 0.5em 0.4em;box-sizing: border-box;padding-bottom: 0.4em;background-color: white;}#sk-container-id-10 div.sk-label label {font-family: monospace;font-weight: bold;display: inline-block;line-height: 1.2em;}#sk-container-id-10 div.sk-label-container {text-align: center;}#sk-container-id-10 div.sk-container {/* jupyter's `normalize.less` sets `[hidden] { display: none; }` but bootstrap.min.css set `[hidden] { display: none !important; }` so we also need the `!important` here to be able to override the default hidden behavior on the sphinx rendered scikit-learn.org. See: https://github.com/scikit-learn/scikit-learn/issues/21755 */display: inline-block !important;position: relative;}#sk-container-id-10 div.sk-text-repr-fallback {display: none;}</style><div id=\"sk-container-id-10\" class=\"sk-top-container\"><div class=\"sk-text-repr-fallback\"><pre>RandomForestClassifier(criterion=&#x27;entropy&#x27;, max_depth=6)</pre><b>In a Jupyter environment, please rerun this cell to show the HTML representation or trust the notebook. <br />On GitHub, the HTML representation is unable to render, please try loading this page with nbviewer.org.</b></div><div class=\"sk-container\" hidden><div class=\"sk-item\"><div class=\"sk-estimator sk-toggleable\"><input class=\"sk-toggleable__control sk-hidden--visually\" id=\"sk-estimator-id-10\" type=\"checkbox\" checked><label for=\"sk-estimator-id-10\" class=\"sk-toggleable__label sk-toggleable__label-arrow\">RandomForestClassifier</label><div class=\"sk-toggleable__content\"><pre>RandomForestClassifier(criterion=&#x27;entropy&#x27;, max_depth=6)</pre></div></div></div></div></div>"
      ],
      "text/plain": [
       "RandomForestClassifier(criterion='entropy', max_depth=6)"
      ]
     },
     "execution_count": 111,
     "metadata": {},
     "output_type": "execute_result"
    }
   ],
   "source": [
    "rf.fit(X_train, Y_train)"
   ]
  },
  {
   "cell_type": "code",
   "execution_count": 112,
   "metadata": {},
   "outputs": [
    {
     "data": {
      "text/plain": [
       "0.869983948635634"
      ]
     },
     "execution_count": 112,
     "metadata": {},
     "output_type": "execute_result"
    }
   ],
   "source": [
    "rf.score(X_train, Y_train)"
   ]
  },
  {
   "cell_type": "code",
   "execution_count": 113,
   "metadata": {},
   "outputs": [
    {
     "data": {
      "text/plain": [
       "0.832089552238806"
      ]
     },
     "execution_count": 113,
     "metadata": {},
     "output_type": "execute_result"
    }
   ],
   "source": [
    "rf.score(X_test, Y_test)"
   ]
  },
  {
   "cell_type": "code",
   "execution_count": 125,
   "metadata": {},
   "outputs": [
    {
     "name": "stdout",
     "output_type": "stream",
     "text": [
      "ON: 0ON: 1ON: 2ON: 3ON: 4ON: 5ON: 6ON: 7ON: 8ON: 9ON: 10ON: 11ON: 12ON: 13ON: 14ON: 15ON: 16ON: 17ON: 18ON: 19ON: 20ON: 21ON: 22ON: 23ON: 24ON: 25ON: 26ON: 27ON: 28ON: 29ON: 30ON: 31ON: 32ON: 33ON: 34ON: 35ON: 36ON: 37ON: 38ON: 39ON: 40ON: 41ON: 42ON: 43ON: 44ON: 45ON: 46ON: 47ON: 48ON: 49ON: 50ON: 51ON: 52ON: 53ON: 54ON: 55ON: 56ON: 57ON: 58ON: 59ON: 60ON: 61ON: 62ON: 63ON: 64ON: 65ON: 66ON: 67ON: 68ON: 69ON: 70ON: 71ON: 72ON: 73ON: 74ON: 75ON: 76ON: 77ON: 78ON: 79ON: 80ON: 81ON: 82ON: 83ON: 84ON: 85ON: 86ON: 87ON: 88ON: 89ON: 90ON: 91ON: 92ON: 93ON: 94ON: 95ON: 96ON: 97ON: 98ON: 99"
     ]
    }
   ],
   "source": [
    "acc_score = []\n",
    "for i in range(100):\n",
    "    print(f'ON: {i}', end='')\n",
    "    rf = RandomForestClassifier(n_estimators=(i+1), criterion='entropy')\n",
    "    rf.fit(X_train, Y_train)\n",
    "    acc_score.append(rf.score(X_test, Y_test))"
   ]
  },
  {
   "cell_type": "code",
   "execution_count": 126,
   "metadata": {},
   "outputs": [
    {
     "data": {
      "text/plain": [
       "[0.7574626865671642,\n",
       " 0.7798507462686567,\n",
       " 0.7723880597014925,\n",
       " 0.8134328358208955,\n",
       " 0.7947761194029851,\n",
       " 0.8022388059701493,\n",
       " 0.8246268656716418,\n",
       " 0.8507462686567164,\n",
       " 0.8134328358208955,\n",
       " 0.8171641791044776,\n",
       " 0.8171641791044776,\n",
       " 0.8246268656716418,\n",
       " 0.8246268656716418,\n",
       " 0.8208955223880597,\n",
       " 0.8246268656716418,\n",
       " 0.835820895522388,\n",
       " 0.8246268656716418,\n",
       " 0.835820895522388,\n",
       " 0.8171641791044776,\n",
       " 0.8134328358208955,\n",
       " 0.8246268656716418,\n",
       " 0.8171641791044776,\n",
       " 0.8208955223880597,\n",
       " 0.8134328358208955,\n",
       " 0.8283582089552238,\n",
       " 0.835820895522388,\n",
       " 0.835820895522388,\n",
       " 0.8246268656716418,\n",
       " 0.832089552238806,\n",
       " 0.832089552238806,\n",
       " 0.835820895522388,\n",
       " 0.8246268656716418,\n",
       " 0.8283582089552238,\n",
       " 0.8395522388059702,\n",
       " 0.8395522388059702,\n",
       " 0.8171641791044776,\n",
       " 0.835820895522388,\n",
       " 0.832089552238806,\n",
       " 0.832089552238806,\n",
       " 0.8246268656716418,\n",
       " 0.832089552238806,\n",
       " 0.835820895522388,\n",
       " 0.8283582089552238,\n",
       " 0.8283582089552238,\n",
       " 0.835820895522388,\n",
       " 0.835820895522388,\n",
       " 0.8283582089552238,\n",
       " 0.8134328358208955,\n",
       " 0.8171641791044776,\n",
       " 0.832089552238806,\n",
       " 0.8208955223880597,\n",
       " 0.8470149253731343,\n",
       " 0.832089552238806,\n",
       " 0.832089552238806,\n",
       " 0.8283582089552238,\n",
       " 0.8208955223880597,\n",
       " 0.8246268656716418,\n",
       " 0.8283582089552238,\n",
       " 0.8283582089552238,\n",
       " 0.8283582089552238,\n",
       " 0.8395522388059702,\n",
       " 0.832089552238806,\n",
       " 0.8470149253731343,\n",
       " 0.832089552238806,\n",
       " 0.835820895522388,\n",
       " 0.835820895522388,\n",
       " 0.8395522388059702,\n",
       " 0.832089552238806,\n",
       " 0.8171641791044776,\n",
       " 0.832089552238806,\n",
       " 0.8246268656716418,\n",
       " 0.8283582089552238,\n",
       " 0.8246268656716418,\n",
       " 0.835820895522388,\n",
       " 0.8283582089552238,\n",
       " 0.8395522388059702,\n",
       " 0.8283582089552238,\n",
       " 0.8134328358208955,\n",
       " 0.835820895522388,\n",
       " 0.835820895522388,\n",
       " 0.8283582089552238,\n",
       " 0.835820895522388,\n",
       " 0.835820895522388,\n",
       " 0.8246268656716418,\n",
       " 0.835820895522388,\n",
       " 0.832089552238806,\n",
       " 0.832089552238806,\n",
       " 0.8432835820895522,\n",
       " 0.832089552238806,\n",
       " 0.832089552238806,\n",
       " 0.8432835820895522,\n",
       " 0.8283582089552238,\n",
       " 0.8283582089552238,\n",
       " 0.835820895522388,\n",
       " 0.832089552238806,\n",
       " 0.8171641791044776,\n",
       " 0.8283582089552238,\n",
       " 0.8283582089552238,\n",
       " 0.832089552238806,\n",
       " 0.8283582089552238]"
      ]
     },
     "execution_count": 126,
     "metadata": {},
     "output_type": "execute_result"
    }
   ],
   "source": [
    "acc_score"
   ]
  },
  {
   "cell_type": "code",
   "execution_count": 127,
   "metadata": {},
   "outputs": [
    {
     "data": {
      "text/plain": [
       "[<matplotlib.lines.Line2D at 0x7f79941c6c10>]"
      ]
     },
     "execution_count": 127,
     "metadata": {},
     "output_type": "execute_result"
    },
    {
     "data": {
      "image/png": "[encoded data removed]",
      "text/plain": [
       "<Figure size 640x480 with 1 Axes>"
      ]
     },
     "metadata": {},
     "output_type": "display_data"
    }
   ],
   "source": [
    "plt.plot(acc_score)"
   ]
  },
  {
   "cell_type": "code",
   "execution_count": 128,
   "metadata": {},
   "outputs": [
    {
     "data": {
      "text/plain": [
       "0.8507462686567164"
      ]
     },
     "execution_count": 128,
     "metadata": {},
     "output_type": "execute_result"
    }
   ],
   "source": [
    "max(acc_score)"
   ]
  },
  {
   "cell_type": "code",
   "execution_count": 129,
   "metadata": {},
   "outputs": [
    {
     "data": {
      "text/plain": [
       "7"
      ]
     },
     "execution_count": 129,
     "metadata": {},
     "output_type": "execute_result"
    }
   ],
   "source": [
    "np.argmax(acc_score)"
   ]
  },
  {
   "cell_type": "code",
   "execution_count": null,
   "metadata": {},
   "outputs": [],
   "source": []
  }
 ],
 "metadata": {
  "colab": {
   "provenance": []
  },
  "kernelspec": {
   "display_name": "Python 3 (ipykernel)",
   "language": "python",
   "name": "python3"
  },
  "language_info": {
   "codemirror_mode": {
    "name": "ipython",
    "version": 3
   },
   "file_extension": ".py",
   "mimetype": "text/x-python",
   "name": "python",
   "nbconvert_exporter": "python",
   "pygments_lexer": "ipython3",
   "version": "3.8.10"
  }
 },
 "nbformat": 4,
 "nbformat_minor": 1
}
