{
 "cells": [
  {
   "cell_type": "markdown",
   "id": "8e9eca73",
   "metadata": {},
   "source": [
    "# File Handling"
   ]
  },
  {
   "cell_type": "code",
   "execution_count": 43,
   "id": "55b27f7a",
   "metadata": {},
   "outputs": [],
   "source": [
    "file = open('file.txt', 'r')"
   ]
  },
  {
   "cell_type": "code",
   "execution_count": 44,
   "id": "c6e29aaf",
   "metadata": {},
   "outputs": [],
   "source": [
    "# text = file.read()\n",
    "# print(text)"
   ]
  },
  {
   "cell_type": "code",
   "execution_count": 45,
   "id": "a01beb30",
   "metadata": {},
   "outputs": [
    {
     "data": {
      "text/plain": [
       "'Hello world!\\nGood evening'"
      ]
     },
     "execution_count": 45,
     "metadata": {},
     "output_type": "execute_result"
    }
   ],
   "source": [
    "file.read(-1)"
   ]
  },
  {
   "cell_type": "code",
   "execution_count": 47,
   "id": "311cad22",
   "metadata": {},
   "outputs": [],
   "source": [
    "file.close()"
   ]
  },
  {
   "cell_type": "code",
   "execution_count": null,
   "id": "0970da3d",
   "metadata": {},
   "outputs": [],
   "source": []
  },
  {
   "cell_type": "code",
   "execution_count": 6,
   "id": "c4a908d3",
   "metadata": {},
   "outputs": [
    {
     "name": "stdout",
     "output_type": "stream",
     "text": [
      "4\n"
     ]
    }
   ],
   "source": [
    "lst = [1,2,3,4]\n",
    "print(lst[-1])"
   ]
  },
  {
   "cell_type": "code",
   "execution_count": 14,
   "id": "8c1efab8",
   "metadata": {},
   "outputs": [
    {
     "data": {
      "text/plain": [
       "str"
      ]
     },
     "execution_count": 14,
     "metadata": {},
     "output_type": "execute_result"
    }
   ],
   "source": [
    "type(text)"
   ]
  },
  {
   "cell_type": "code",
   "execution_count": 63,
   "id": "64ef5145",
   "metadata": {},
   "outputs": [],
   "source": [
    "file = open('file.txt', 'r')"
   ]
  },
  {
   "cell_type": "code",
   "execution_count": 65,
   "id": "b085f0c9",
   "metadata": {},
   "outputs": [
    {
     "data": {
      "text/plain": [
       "'Good evening'"
      ]
     },
     "execution_count": 65,
     "metadata": {},
     "output_type": "execute_result"
    }
   ],
   "source": [
    "file.readline()"
   ]
  },
  {
   "cell_type": "code",
   "execution_count": 62,
   "id": "4157cdc1",
   "metadata": {},
   "outputs": [],
   "source": [
    "file.close()"
   ]
  },
  {
   "cell_type": "code",
   "execution_count": 59,
   "id": "39ef3480",
   "metadata": {},
   "outputs": [
    {
     "name": "stdout",
     "output_type": "stream",
     "text": [
      "H\n",
      "e\n",
      "l\n",
      "l\n",
      "o\n",
      " \n",
      "w\n",
      "o\n",
      "r\n",
      "l\n",
      "d\n",
      "!\n",
      "\n",
      "\n"
     ]
    }
   ],
   "source": [
    "file = open('file.txt', 'r')\n",
    "for i in file.readline():\n",
    "    print(i)"
   ]
  },
  {
   "cell_type": "code",
   "execution_count": 90,
   "id": "f3753774",
   "metadata": {},
   "outputs": [],
   "source": [
    "file.close()"
   ]
  },
  {
   "cell_type": "code",
   "execution_count": 68,
   "id": "4b9cea9b",
   "metadata": {},
   "outputs": [
    {
     "data": {
      "text/plain": [
       "['Hello world!\\n', 'Good evening']"
      ]
     },
     "execution_count": 68,
     "metadata": {},
     "output_type": "execute_result"
    }
   ],
   "source": [
    "file = open('file.txt', 'r')\n",
    "file.readlines()"
   ]
  },
  {
   "cell_type": "code",
   "execution_count": 72,
   "id": "ae50d75e",
   "metadata": {},
   "outputs": [
    {
     "name": "stdout",
     "output_type": "stream",
     "text": [
      "Hello world!\n",
      "\n",
      "Good evening\n"
     ]
    }
   ],
   "source": [
    "file = open('/Users/codingblocks/Desktop/file.txt', 'r')\n",
    "for i in file.readlines():\n",
    "    print(i)\n",
    "file.close()"
   ]
  },
  {
   "cell_type": "code",
   "execution_count": 71,
   "id": "460c5ada",
   "metadata": {},
   "outputs": [],
   "source": [
    "file.readlines?"
   ]
  },
  {
   "cell_type": "code",
   "execution_count": 104,
   "id": "48964146",
   "metadata": {},
   "outputs": [
    {
     "name": "stdout",
     "output_type": "stream",
     "text": [
      "['Hello world!\\n', 'Good evening']\n"
     ]
    }
   ],
   "source": [
    "r = 2\n",
    "file = open('file.txt', 'r')\n",
    "print(file.readlines()[:r])"
   ]
  },
  {
   "cell_type": "code",
   "execution_count": 81,
   "id": "70478112",
   "metadata": {},
   "outputs": [],
   "source": [
    "file = open('file.txt', 'r')\n",
    "file.readline?"
   ]
  },
  {
   "cell_type": "code",
   "execution_count": 105,
   "id": "94c398bd",
   "metadata": {},
   "outputs": [
    {
     "name": "stdout",
     "output_type": "stream",
     "text": [
      "Hello world!\n",
      "\n",
      "Good evening\n"
     ]
    }
   ],
   "source": [
    "file = open('file.txt', 'r')\n",
    "r = 2\n",
    "for i in range(r):\n",
    "    print(file.readline())\n",
    "file.close()"
   ]
  },
  {
   "cell_type": "code",
   "execution_count": 103,
   "id": "7c38fcb2",
   "metadata": {},
   "outputs": [
    {
     "name": "stdout",
     "output_type": "stream",
     "text": [
      "[1]\n"
     ]
    }
   ],
   "source": [
    "print(lst[:1])"
   ]
  },
  {
   "cell_type": "code",
   "execution_count": 96,
   "id": "b12f7351",
   "metadata": {},
   "outputs": [
    {
     "data": {
      "text/plain": [
       "[1, 2, 3, 4]"
      ]
     },
     "execution_count": 96,
     "metadata": {},
     "output_type": "execute_result"
    }
   ],
   "source": [
    "lst"
   ]
  },
  {
   "cell_type": "code",
   "execution_count": 109,
   "id": "d441bf5e",
   "metadata": {},
   "outputs": [
    {
     "name": "stdout",
     "output_type": "stream",
     "text": [
      "Hello \n"
     ]
    }
   ],
   "source": [
    "file = open('file.txt', 'r')\n",
    "print(file.read(6))"
   ]
  },
  {
   "cell_type": "code",
   "execution_count": 110,
   "id": "6407792e",
   "metadata": {},
   "outputs": [
    {
     "data": {
      "text/plain": [
       "'wo'"
      ]
     },
     "execution_count": 110,
     "metadata": {},
     "output_type": "execute_result"
    }
   ],
   "source": [
    "file.read(2)"
   ]
  },
  {
   "cell_type": "code",
   "execution_count": 111,
   "id": "e160bfcb",
   "metadata": {},
   "outputs": [
    {
     "name": "stdout",
     "output_type": "stream",
     "text": [
      "Hello\n"
     ]
    }
   ],
   "source": [
    "file.seek(0)\n",
    "print(file.read(5))"
   ]
  },
  {
   "cell_type": "code",
   "execution_count": 112,
   "id": "15b71da9",
   "metadata": {},
   "outputs": [],
   "source": [
    "file.close()"
   ]
  },
  {
   "cell_type": "code",
   "execution_count": 147,
   "id": "820fbe0c",
   "metadata": {},
   "outputs": [],
   "source": [
    "file = open(\"abhijeet.txt\", 'w')"
   ]
  },
  {
   "cell_type": "code",
   "execution_count": 148,
   "id": "63913b11",
   "metadata": {},
   "outputs": [
    {
     "data": {
      "text/plain": [
       "<_io.TextIOWrapper name='abhijeet.txt' mode='w' encoding='UTF-8'>"
      ]
     },
     "execution_count": 148,
     "metadata": {},
     "output_type": "execute_result"
    }
   ],
   "source": [
    "file"
   ]
  },
  {
   "cell_type": "code",
   "execution_count": 149,
   "id": "824777af",
   "metadata": {},
   "outputs": [
    {
     "name": "stdout",
     "output_type": "stream",
     "text": [
      "Enter string: Abhijeet\n",
      "Enter string: Hello\n",
      "Enter string: World\n"
     ]
    }
   ],
   "source": [
    "for i in range(3):\n",
    "    inp = input(\"Enter string: \")\n",
    "    file.write(inp+'\\n')"
   ]
  },
  {
   "cell_type": "code",
   "execution_count": 150,
   "id": "c1b4d098",
   "metadata": {},
   "outputs": [],
   "source": [
    "file.close()"
   ]
  },
  {
   "cell_type": "code",
   "execution_count": 152,
   "id": "936d86e9",
   "metadata": {},
   "outputs": [
    {
     "data": {
      "text/plain": [
       "11"
      ]
     },
     "execution_count": 152,
     "metadata": {},
     "output_type": "execute_result"
    }
   ],
   "source": [
    "file = open('file.txt', 'a')\n",
    "file.write(\"Hello World\")"
   ]
  },
  {
   "cell_type": "code",
   "execution_count": 153,
   "id": "55df18bf",
   "metadata": {},
   "outputs": [],
   "source": [
    "file.close()"
   ]
  },
  {
   "cell_type": "code",
   "execution_count": 157,
   "id": "ddb1256a",
   "metadata": {},
   "outputs": [],
   "source": [
    "with open('abhijeet.txt', 'w') as abh:\n",
    "    abh.write('print(abh.readlines())')"
   ]
  },
  {
   "cell_type": "code",
   "execution_count": 165,
   "id": "fdffc4ab",
   "metadata": {},
   "outputs": [],
   "source": [
    "file = open('wiki_ML.txt', 'a')\n",
    "inp = 10\n",
    "string = 'Machine learning (ML) is a field of inquiry devoted to understanding and building methods that learn, that is, methods that leverage data to improve performance on some set of tasks.[1] It is seen as a part of artificial intelligence.'\n",
    "for i in range(len(string)):\n",
    "    \n",
    "    if i*inp>len(string):\n",
    "        file.write(string[i*inp:])\n",
    "        break\n",
    "    part_string = string[i*inp:i*inp + inp]\n",
    "    file.write(part_string + '\\n')\n",
    "file.close()"
   ]
  },
  {
   "cell_type": "code",
   "execution_count": 167,
   "id": "c0d94859",
   "metadata": {},
   "outputs": [
    {
     "name": "stdout",
     "output_type": "stream",
     "text": [
      "Enter string50\n",
      "Enter string100\n",
      "Enter string100\n"
     ]
    }
   ],
   "source": [
    "file = open('wiki_ML.txt', 'w')\n",
    "idx = 0\n",
    "string = 'Machine learning (ML) is a field of inquiry devoted to understanding and building methods that learn, that is, methods that leverage data to improve performance on some set of tasks.[1] It is seen as a part of artificial intelligence.'\n",
    "for i in range(len(string)):\n",
    "    inp = int(input('Enter string'))\n",
    "    if idx + inp > len(string):\n",
    "        file.write(string[idx:])\n",
    "        break\n",
    "    part_string = string[idx:idx + inp]\n",
    "    idx += inp\n",
    "    file.write(part_string + '\\n')\n",
    "file.close()"
   ]
  },
  {
   "cell_type": "code",
   "execution_count": 229,
   "id": "76122665",
   "metadata": {},
   "outputs": [],
   "source": [
    "def divider(a, b):\n",
    "    try:\n",
    "        if a == 50:\n",
    "            raise ZeroDivisionError('Not Enter 50 again please')\n",
    "        return (a/b)\n",
    "    except ZeroDivisionError:\n",
    "        print(\"Zero Division Error\")\n",
    "    except TypeError:\n",
    "        print('String given')\n",
    "    finally:\n",
    "        c = input('Enter number 1:')\n",
    "        d = input('Enter number 2:')\n",
    "        print('Chalega hi chalega')\n",
    "        return (int(c), int(d))"
   ]
  },
  {
   "cell_type": "code",
   "execution_count": 230,
   "id": "bc11e737",
   "metadata": {},
   "outputs": [
    {
     "name": "stdout",
     "output_type": "stream",
     "text": [
      "Zero Division Error\n",
      "Enter number 1:2\n",
      "Enter number 2:3\n",
      "Chalega hi chalega\n"
     ]
    },
    {
     "data": {
      "text/plain": [
       "(2, 3)"
      ]
     },
     "execution_count": 230,
     "metadata": {},
     "output_type": "execute_result"
    }
   ],
   "source": [
    "divider(50, 40)"
   ]
  },
  {
   "cell_type": "code",
   "execution_count": 191,
   "id": "3989105e",
   "metadata": {},
   "outputs": [
    {
     "name": "stdout",
     "output_type": "stream",
     "text": [
      "String given\n"
     ]
    }
   ],
   "source": [
    "divider(10, '0')"
   ]
  },
  {
   "cell_type": "code",
   "execution_count": 220,
   "id": "bedb5663",
   "metadata": {},
   "outputs": [],
   "source": [
    "def divider(a, b):\n",
    "    try:\n",
    "        if a == 50:\n",
    "            raise Assertionerror('Dont enter 50')\n",
    "#         return (a/b)\n",
    "    except:\n",
    "        print(\"Error\")"
   ]
  },
  {
   "cell_type": "code",
   "execution_count": 221,
   "id": "a0f08e63",
   "metadata": {},
   "outputs": [
    {
     "name": "stdout",
     "output_type": "stream",
     "text": [
      "Error\n"
     ]
    }
   ],
   "source": [
    "divider(50, 8)"
   ]
  },
  {
   "cell_type": "code",
   "execution_count": 231,
   "id": "200953aa",
   "metadata": {},
   "outputs": [],
   "source": [
    "def divider(a, b):\n",
    "    if b == 0:\n",
    "        raise Exception('Custom message')\n",
    "    assert b!=9\n",
    "    return (a/b)"
   ]
  },
  {
   "cell_type": "code",
   "execution_count": 232,
   "id": "166ea903",
   "metadata": {},
   "outputs": [
    {
     "ename": "AssertionError",
     "evalue": "",
     "output_type": "error",
     "traceback": [
      "\u001b[0;31m---------------------------------------------------------------------------\u001b[0m",
      "\u001b[0;31mAssertionError\u001b[0m                            Traceback (most recent call last)",
      "Cell \u001b[0;32mIn[232], line 1\u001b[0m\n\u001b[0;32m----> 1\u001b[0m \u001b[43mdivider\u001b[49m\u001b[43m(\u001b[49m\u001b[38;5;241;43m4\u001b[39;49m\u001b[43m,\u001b[49m\u001b[43m \u001b[49m\u001b[38;5;241;43m9\u001b[39;49m\u001b[43m)\u001b[49m\n",
      "Cell \u001b[0;32mIn[231], line 4\u001b[0m, in \u001b[0;36mdivider\u001b[0;34m(a, b)\u001b[0m\n\u001b[1;32m      2\u001b[0m \u001b[38;5;28;01mif\u001b[39;00m b \u001b[38;5;241m==\u001b[39m \u001b[38;5;241m0\u001b[39m:\n\u001b[1;32m      3\u001b[0m     \u001b[38;5;28;01mraise\u001b[39;00m \u001b[38;5;167;01mException\u001b[39;00m(\u001b[38;5;124m'\u001b[39m\u001b[38;5;124mCustom message\u001b[39m\u001b[38;5;124m'\u001b[39m)\n\u001b[0;32m----> 4\u001b[0m \u001b[38;5;28;01massert\u001b[39;00m b\u001b[38;5;241m!=\u001b[39m\u001b[38;5;241m9\u001b[39m\n\u001b[1;32m      5\u001b[0m \u001b[38;5;28;01mreturn\u001b[39;00m (a\u001b[38;5;241m/\u001b[39mb)\n",
      "\u001b[0;31mAssertionError\u001b[0m: "
     ]
    }
   ],
   "source": [
    "divider(4, 9)"
   ]
  },
  {
   "cell_type": "code",
   "execution_count": null,
   "id": "ccc3eba4",
   "metadata": {},
   "outputs": [],
   "source": []
  }
 ],
 "metadata": {
  "kernelspec": {
   "display_name": "Python 3 (ipykernel)",
   "language": "python",
   "name": "python3"
  },
  "language_info": {
   "codemirror_mode": {
    "name": "ipython",
    "version": 3
   },
   "file_extension": ".py",
   "mimetype": "text/x-python",
   "name": "python",
   "nbconvert_exporter": "python",
   "pygments_lexer": "ipython3",
   "version": "3.8.10"
  }
 },
 "nbformat": 4,
 "nbformat_minor": 5
}
