{
 "cells": [
  {
   "cell_type": "markdown",
   "id": "8e9eca73",
   "metadata": {},
   "source": [
    "# File Handling"
   ]
  },
  {
   "cell_type": "code",
   "execution_count": 43,
   "id": "55b27f7a",
   "metadata": {},
   "outputs": [],
   "source": [
    "file = open('file.txt', 'r')"
   ]
  },
  {
   "cell_type": "code",
   "execution_count": 44,
   "id": "c6e29aaf",
   "metadata": {},
   "outputs": [],
   "source": [
    "# text = file.read()\n",
    "# print(text)"
   ]
  },
  {
   "cell_type": "code",
   "execution_count": 45,
   "id": "a01beb30",
   "metadata": {},
   "outputs": [
    {
     "data": {
      "text/plain": [
       "'Hello world!\\nGood evening'"
      ]
     },
     "execution_count": 45,
     "metadata": {},
     "output_type": "execute_result"
    }
   ],
   "source": [
    "file.read(-1)"
   ]
  },
  {
   "cell_type": "code",
   "execution_count": 47,
   "id": "311cad22",
   "metadata": {},
   "outputs": [],
   "source": [
    "file.close()"
   ]
  },
  {
   "cell_type": "code",
   "execution_count": null,
   "id": "0970da3d",
   "metadata": {},
   "outputs": [],
   "source": []
  },
  {
   "cell_type": "code",
   "execution_count": 6,
   "id": "c4a908d3",
   "metadata": {},
   "outputs": [
    {
     "name": "stdout",
     "output_type": "stream",
     "text": [
      "4\n"
     ]
    }
   ],
   "source": [
    "lst = [1,2,3,4]\n",
    "print(lst[-1])"
   ]
  },
  {
   "cell_type": "code",
   "execution_count": 14,
   "id": "8c1efab8",
   "metadata": {},
   "outputs": [
    {
     "data": {
      "text/plain": [
       "str"
      ]
     },
     "execution_count": 14,
     "metadata": {},
     "output_type": "execute_result"
    }
   ],
   "source": [
    "type(text)"
   ]
  },
  {
   "cell_type": "code",
   "execution_count": 63,
   "id": "64ef5145",
   "metadata": {},
   "outputs": [],
   "source": [
    "file = open('file.txt', 'r')"
   ]
  },
  {
   "cell_type": "code",
   "execution_count": 65,
   "id": "b085f0c9",
   "metadata": {},
   "outputs": [
    {
     "data": {
      "text/plain": [
       "'Good evening'"
      ]
     },
     "execution_count": 65,
     "metadata": {},
     "output_type": "execute_result"
    }
   ],
   "source": [
    "file.readline()"
   ]
  },
  {
   "cell_type": "code",
   "execution_count": 62,
   "id": "4157cdc1",
   "metadata": {},
   "outputs": [],
   "source": [
    "file.close()"
   ]
  },
  {
   "cell_type": "code",
   "execution_count": 59,
   "id": "39ef3480",
   "metadata": {},
   "outputs": [
    {
     "name": "stdout",
     "output_type": "stream",
     "text": [
      "H\n",
      "e\n",
      "l\n",
      "l\n",
      "o\n",
      " \n",
      "w\n",
      "o\n",
      "r\n",
      "l\n",
      "d\n",
      "!\n",
      "\n",
      "\n"
     ]
    }
   ],
   "source": [
    "file = open('file.txt', 'r')\n",
    "for i in file.readline():\n",
    "    print(i)"
   ]
  },
  {
   "cell_type": "code",
   "execution_count": 90,
   "id": "f3753774",
   "metadata": {},
   "outputs": [],
   "source": [
    "file.close()"
   ]
  },
  {
   "cell_type": "code",
   "execution_count": 68,
   "id": "4b9cea9b",
   "metadata": {},
   "outputs": [
    {
     "data": {
      "text/plain": [
       "['Hello world!\\n', 'Good evening']"
      ]
     },
     "execution_count": 68,
     "metadata": {},
     "output_type": "execute_result"
    }
   ],
   "source": [
    "file = open('file.txt', 'r')\n",
    "file.readlines()"
   ]
  },
  {
   "cell_type": "code",
   "execution_count": 72,
   "id": "ae50d75e",
   "metadata": {},
   "outputs": [
    {
     "name": "stdout",
     "output_type": "stream",
     "text": [
      "Hello world!\n",
      "\n",
      "Good evening\n"
     ]
    }
   ],
   "source": [
    "file = open('/Users/codingblocks/Desktop/file.txt', 'r')\n",
    "for i in file.readlines():\n",
    "    print(i)\n",
    "file.close()"
   ]
  },
  {
   "cell_type": "code",
   "execution_count": 71,
   "id": "460c5ada",
   "metadata": {},
   "outputs": [],
   "source": [
    "file.readlines?"
   ]
  },
  {
   "cell_type": "code",
   "execution_count": 104,
   "id": "48964146",
   "metadata": {},
   "outputs": [
    {
     "name": "stdout",
     "output_type": "stream",
     "text": [
      "['Hello world!\\n', 'Good evening']\n"
     ]
    }
   ],
   "source": [
    "r = 2\n",
    "file = open('file.txt', 'r')\n",
    "print(file.readlines()[:r])"
   ]
  },
  {
   "cell_type": "code",
   "execution_count": 81,
   "id": "70478112",
   "metadata": {},
   "outputs": [],
   "source": [
    "file = open('file.txt', 'r')\n",
    "file.readline?"
   ]
  },
  {
   "cell_type": "code",
   "execution_count": 105,
   "id": "94c398bd",
   "metadata": {},
   "outputs": [
    {
     "name": "stdout",
     "output_type": "stream",
     "text": [
      "Hello world!\n",
      "\n",
      "Good evening\n"
     ]
    }
   ],
   "source": [
    "file = open('file.txt', 'r')\n",
    "r = 2\n",
    "for i in range(r):\n",
    "    print(file.readline())\n",
    "file.close()"
   ]
  },
  {
   "cell_type": "code",
   "execution_count": 103,
   "id": "7c38fcb2",
   "metadata": {},
   "outputs": [
    {
     "name": "stdout",
     "output_type": "stream",
     "text": [
      "[1]\n"
     ]
    }
   ],
   "source": [
    "print(lst[:1])"
   ]
  },
  {
   "cell_type": "code",
   "execution_count": 96,
   "id": "b12f7351",
   "metadata": {},
   "outputs": [
    {
     "data": {
      "text/plain": [
       "[1, 2, 3, 4]"
      ]
     },
     "execution_count": 96,
     "metadata": {},
     "output_type": "execute_result"
    }
   ],
   "source": [
    "lst"
   ]
  },
  {
   "cell_type": "code",
   "execution_count": 109,
   "id": "d441bf5e",
   "metadata": {},
   "outputs": [
    {
     "name": "stdout",
     "output_type": "stream",
     "text": [
      "Hello \n"
     ]
    }
   ],
   "source": [
    "file = open('file.txt', 'r')\n",
    "print(file.read(6))"
   ]
  },
  {
   "cell_type": "code",
   "execution_count": 110,
   "id": "6407792e",
   "metadata": {},
   "outputs": [
    {
     "data": {
      "text/plain": [
       "'wo'"
      ]
     },
     "execution_count": 110,
     "metadata": {},
     "output_type": "execute_result"
    }
   ],
   "source": [
    "file.read(2)"
   ]
  },
  {
   "cell_type": "code",
   "execution_count": 111,
   "id": "e160bfcb",
   "metadata": {},
   "outputs": [
    {
     "name": "stdout",
     "output_type": "stream",
     "text": [
      "Hello\n"
     ]
    }
   ],
   "source": [
    "file.seek(0)\n",
    "print(file.read(5))"
   ]
  },
  {
   "cell_type": "code",
   "execution_count": 112,
   "id": "15b71da9",
   "metadata": {},
   "outputs": [],
   "source": [
    "file.close()"
   ]
  },
  {
   "cell_type": "code",
   "execution_count": 147,
   "id": "820fbe0c",
   "metadata": {},
   "outputs": [],
   "source": [
    "file = open(\"abhijeet.txt\", 'w')"
   ]
  },
  {
   "cell_type": "code",
   "execution_count": 148,
   "id": "63913b11",
   "metadata": {},
   "outputs": [
    {
     "data": {
      "text/plain": [
       "<_io.TextIOWrapper name='abhijeet.txt' mode='w' encoding='UTF-8'>"
      ]
     },
     "execution_count": 148,
     "metadata": {},
     "output_type": "execute_result"
    }
   ],
   "source": [
    "file"
   ]
  },
  {
   "cell_type": "code",
   "execution_count": 149,
   "id": "824777af",
   "metadata": {},
   "outputs": [
    {
     "name": "stdout",
     "output_type": "stream",
     "text": [
      "Enter string: Abhijeet\n",
      "Enter string: Hello\n",
      "Enter string: World\n"
     ]
    }
   ],
   "source": [
    "for i in range(3):\n",
    "    inp = input(\"Enter string: \")\n",
    "    file.write(inp+'\\n')"
   ]
  },
  {
   "cell_type": "code",
   "execution_count": 150,
   "id": "c1b4d098",
   "metadata": {},
   "outputs": [],
   "source": [
    "file.close()"
   ]
  },
  {
   "cell_type": "code",
   "execution_count": 152,
   "id": "936d86e9",
   "metadata": {},
   "outputs": [
    {
     "data": {
      "text/plain": [
       "11"
      ]
     },
     "execution_count": 152,
     "metadata": {},
     "output_type": "execute_result"
    }
   ],
   "source": [
    "file = open('file.txt', 'a')\n",
    "file.write(\"Hello World\")"
   ]
  },
  {
   "cell_type": "code",
   "execution_count": 153,
   "id": "55df18bf",
   "metadata": {},
   "outputs": [],
   "source": [
    "file.close()"
   ]
  },
  {
   "cell_type": "code",
   "execution_count": 157,
   "id": "ddb1256a",
   "metadata": {},
   "outputs": [],
   "source": [
    "with open('abhijeet.txt', 'w') as abh:\n",
    "    abh.write('print(abh.readlines())')"
   ]
  },
  {
   "cell_type": "code",
   "execution_count": 165,
   "id": "fdffc4ab",
   "metadata": {},
   "outputs": [],
   "source": [
    "file = open('wiki_ML.txt', 'a')\n",
    "inp = 10\n",
    "string = 'Machine learning (ML) is a field of inquiry devoted to understanding and building methods that learn, that is, methods that leverage data to improve performance on some set of tasks.[1] It is seen as a part of artificial intelligence.'\n",
    "for i in range(len(string)):\n",
    "    \n",
    "    if i*inp>len(string):\n",
    "        file.write(string[i*inp:])\n",
    "        break\n",
    "    part_string = string[i*inp:i*inp + inp]\n",
    "    file.write(part_string + '\\n')\n",
    "file.close()"
   ]
  },
  {
   "cell_type": "code",
   "execution_count": 167,
   "id": "c0d94859",
   "metadata": {},
   "outputs": [
    {
     "name": "stdout",
     "output_type": "stream",
     "text": [
      "Enter string50\n",
      "Enter string100\n",
      "Enter string100\n"
     ]
    }
   ],
   "source": [
    "file = open('wiki_ML.txt', 'w')\n",
    "idx = 0\n",
    "string = 'Machine learning (ML) is a field of inquiry devoted to understanding and building methods that learn, that is, methods that leverage data to improve performance on some set of tasks.[1] It is seen as a part of artificial intelligence.'\n",
    "for i in range(len(string)):\n",
    "    inp = int(input('Enter string'))\n",
    "    if idx + inp > len(string):\n",
    "        file.write(string[idx:])\n",
    "        break\n",
    "    part_string = string[idx:idx + inp]\n",
    "    idx += inp\n",
    "    file.write(part_string + '\\n')\n",
    "file.close()"
   ]
  },
  {
   "cell_type": "code",
   "execution_count": 229,
   "id": "76122665",
   "metadata": {},
   "outputs": [],
   "source": [
    "def divider(a, b):\n",
    "    try:\n",
    "        if a == 50:\n",
    "            raise ZeroDivisionError('Not Enter 50 again please')\n",
    "        return (a/b)\n",
    "    except ZeroDivisionError:\n",
    "        print(\"Zero Division Error\")\n",
    "    except TypeError:\n",
    "        print('String given')\n",
    "    finally:\n",
    "        c = input('Enter number 1:')\n",
    "        d = input('Enter number 2:')\n",
    "        print('Chalega hi chalega')\n",
    "        return (int(c), int(d))"
   ]
  },
  {
   "cell_type": "code",
   "execution_count": 230,
   "id": "bc11e737",
   "metadata": {},
   "outputs": [
    {
     "name": "stdout",
     "output_type": "stream",
     "text": [
      "Zero Division Error\n",
      "Enter number 1:2\n",
      "Enter number 2:3\n",
      "Chalega hi chalega\n"
     ]
    },
    {
     "data": {
      "text/plain": [
       "(2, 3)"
      ]
     },
     "execution_count": 230,
     "metadata": {},
     "output_type": "execute_result"
    }
   ],
   "source": [
    "divider(50, 40)"
   ]
  },
  {
   "cell_type": "code",
   "execution_count": 191,
   "id": "3989105e",
   "metadata": {},
   "outputs": [
    {
     "name": "stdout",
     "output_type": "stream",
     "text": [
      "String given\n"
     ]
    }
   ],
   "source": [
    "divider(10, '0')"
   ]
  },
  {
   "cell_type": "code",
   "execution_count": 220,
   "id": "bedb5663",
   "metadata": {},
   "outputs": [],
   "source": [
    "def divider(a, b):\n",
    "    try:\n",
    "        if a == 50:\n",
    "            raise Assertionerror('Dont enter 50')\n",
    "#         return (a/b)\n",
    "    except:\n",
    "        print(\"Error\")"
   ]
  },
  {
   "cell_type": "code",
   "execution_count": 221,
   "id": "a0f08e63",
   "metadata": {},
   "outputs": [
    {
     "name": "stdout",
     "output_type": "stream",
     "text": [
      "Error\n"
     ]
    }
   ],
   "source": [
    "divider(50, 8)"
   ]
  },
  {
   "cell_type": "code",
   "execution_count": 231,
   "id": "200953aa",
   "metadata": {},
   "outputs": [],
   "source": [
    "def divider(a, b):\n",
    "    if b == 0:\n",
    "        raise Exception('Custom message')\n",
    "    assert b!=9\n",
    "    return (a/b)"
   ]
  },
  {
   "cell_type": "code",
   "execution_count": 232,
   "id": "166ea903",
   "metadata": {},
   "outputs": [
    {
     "ename": "AssertionError",
     "evalue": "",
     "output_type": "error",
     "traceback": [
      "\u001b[0;31m---------------------------------------------------------------------------\u001b[0m",
      "\u001b[0;31mAssertionError\u001b[0m                            Traceback (most recent call last)",
      "Cell \u001b[0;32mIn[232], line 1\u001b[0m\n\u001b[0;32m----> 1\u001b[0m \u001b[43mdivider\u001b[49m\u001b[43m(\u001b[49m\u001b[38;5;241;43m4\u001b[39;49m\u001b[43m,\u001b[49m\u001b[43m \u001b[49m\u001b[38;5;241;43m9\u001b[39;49m\u001b[43m)\u001b[49m\n",
      "Cell \u001b[0;32mIn[231], line 4\u001b[0m, in \u001b[0;36mdivider\u001b[0;34m(a, b)\u001b[0m\n\u001b[1;32m      2\u001b[0m \u001b[38;5;28;01mif\u001b[39;00m b \u001b[38;5;241m==\u001b[39m \u001b[38;5;241m0\u001b[39m:\n\u001b[1;32m      3\u001b[0m     \u001b[38;5;28;01mraise\u001b[39;00m \u001b[38;5;167;01mException\u001b[39;00m(\u001b[38;5;124m'\u001b[39m\u001b[38;5;124mCustom message\u001b[39m\u001b[38;5;124m'\u001b[39m)\n\u001b[0;32m----> 4\u001b[0m \u001b[38;5;28;01massert\u001b[39;00m b\u001b[38;5;241m!=\u001b[39m\u001b[38;5;241m9\u001b[39m\n\u001b[1;32m      5\u001b[0m \u001b[38;5;28;01mreturn\u001b[39;00m (a\u001b[38;5;241m/\u001b[39mb)\n",
      "\u001b[0;31mAssertionError\u001b[0m: "
     ]
    }
   ],
   "source": [
    "divider(4, 9)"
   ]
  },
  {
   "cell_type": "code",
   "execution_count": 251,
   "id": "ccc3eba4",
   "metadata": {},
   "outputs": [
    {
     "name": "stdout",
     "output_type": "stream",
     "text": [
      "{\n",
      "    \"-HvXd_vqJ5A\": {\n",
      "        \"E_001781_001789\": {\n",
      "            \"event\": 1,\n",
      "            \"segments\": \n"
     ]
    }
   ],
   "source": [
    "with open('example.json', 'r') as file:\n",
    "    print(file.read(100))"
   ]
  },
  {
   "cell_type": "code",
   "execution_count": 255,
   "id": "c5d6de8f",
   "metadata": {},
   "outputs": [],
   "source": [
    "file = open('example.json', 'r')\n",
    "# print(file.read())\n",
    "file.close()"
   ]
  },
  {
   "cell_type": "code",
   "execution_count": 253,
   "id": "a39b5327",
   "metadata": {},
   "outputs": [],
   "source": [
    "import json"
   ]
  },
  {
   "cell_type": "code",
   "execution_count": 289,
   "id": "a277a4ac",
   "metadata": {
    "scrolled": true
   },
   "outputs": [
    {
     "name": "stdout",
     "output_type": "stream",
     "text": [
      "{'-HvXd_vqJ5A': {'E_001781_001789': {'event': 1, 'segments': None, 'timestamps': [[1781.76, 1789.16]]}, 'E_001805_001812': {'event': 1, 'segments': None, 'timestamps': [[1805.48, 1812.92]]}, 'E_001952_001988': {'event': 4, 'segments': None, 'timestamps': [[1952.72, 1988.76]]}, 'E_002003_002088': {'event': 3, 'segments': None, 'timestamps': [[2003.04, 2088.76]]}, 'E_002096_002195': {'event': 2, 'segments': None, 'timestamps': [[2096.64, 2195.28]]}, 'E_002214_002222': {'event': 1, 'segments': None, 'timestamps': [[2214.8, 2222.12]]}, 'E_002242_002259': {'event': 1, 'segments': None, 'timestamps': [[2242.0, 2259.12]]}, 'E_002288_002297': {'event': 1, 'segments': None, 'timestamps': [[2288.52, 2297.28]]}, 'E_002325_002357': {'event': 4, 'segments': None, 'timestamps': [[2325.24, 2357.8]]}, 'E_002490_002586': {'event': 2, 'segments': None, 'timestamps': [[2490.68, 2586.2]]}, 'E_002600_002608': {'event': 1, 'segments': None, 'timestamps': [[2600.28, 2608.08]]}, 'E_002675_002710': {'event': 4, 'segments': None, 'timestamps': [[2675.68, 2710.72]]}, 'E_002738_002833': {'event': 3, 'segments': None, 'timestamps': [[2738.88, 2833.52]]}, 'E_002907_003007': {'event': 2, 'segments': None, 'timestamps': [[2907.0, 3007.44]]}, 'E_003060_003068': {'event': 1, 'segments': None, 'timestamps': [[3060.8, 3068.84]]}, 'E_003189_003289': {'event': 3, 'segments': None, 'timestamps': [[3189.6, 3289.36]]}, 'E_003299_003400': {'event': 2, 'segments': None, 'timestamps': [[3299.36, 3400.2]]}, 'E_003416_003451': {'event': 4, 'segments': None, 'timestamps': [[3416.8, 3451.64]]}, 'E_003771_003778': {'event': 1, 'segments': None, 'timestamps': [[3771.16, 3778.8]]}, 'E_003808_003849': {'event': 4, 'segments': None, 'timestamps': [[3808.28, 3849.92]]}, 'E_003857_003958': {'event': 3, 'segments': None, 'timestamps': [[3857.8, 3958.44]]}, 'E_003966_004070': {'event': 2, 'segments': None, 'timestamps': [[3966.4, 4070.88]]}, 'E_004100_004107': {'event': 1, 'segments': None, 'timestamps': [[4100.76, 4107.68]]}, 'E_004138_004169': {'event': 4, 'segments': None, 'timestamps': [[4138.92, 4169.8]]}, 'E_004206_004301': {'event': 3, 'segments': None, 'timestamps': [[4206.88, 4301.12]]}, 'E_004350_004455': {'event': 2, 'segments': None, 'timestamps': [[4350.04, 4455.48]]}, 'E_004488_004496': {'event': 1, 'segments': None, 'timestamps': [[4488.32, 4496.32]]}, 'E_004531_004562': {'event': 4, 'segments': None, 'timestamps': [[4531.0, 4562.08]]}, 'E_004572_004661': {'event': 3, 'segments': None, 'timestamps': [[4572.0, 4661.48]]}, 'E_004671_004771': {'event': 2, 'segments': None, 'timestamps': [[4671.28, 4771.24]]}, 'E_004786_004794': {'event': 1, 'segments': None, 'timestamps': [[4786.8, 4794.32]]}, 'E_004808_004838': {'event': 4, 'segments': None, 'timestamps': [[4808.52, 4838.72]]}, 'E_004848_004926': {'event': 3, 'segments': None, 'timestamps': [[4848.52, 4926.56]]}, 'E_004963_004992': {'event': 4, 'segments': None, 'timestamps': [[4963.88, 4992.96]]}, 'E_005030_005129': {'event': 3, 'segments': None, 'timestamps': [[5030.68, 5129.76]]}, 'E_005512_005551': {'event': 4, 'segments': None, 'timestamps': [[5512.24, 5551.24]]}, 'E_005561_005653': {'event': 3, 'segments': None, 'timestamps': [[5561.96, 5653.44]]}, 'E_005706_005809': {'event': 2, 'segments': None, 'timestamps': [[5706.32, 5809.96]]}, 'E_005832_005839': {'event': 1, 'segments': None, 'timestamps': [[5832.56, 5839.68]]}, 'E_005904_005938': {'event': 4, 'segments': None, 'timestamps': [[5904.0, 5938.6]]}, 'E_006000_006095': {'event': 3, 'segments': None, 'timestamps': [[6000.2, 6095.2]]}, 'E_006102_006204': {'event': 2, 'segments': None, 'timestamps': [[6102.84, 6204.72]]}, 'E_006224_006232': {'event': 1, 'segments': None, 'timestamps': [[6224.6, 6232.44]]}, 'E_006249_006285': {'event': 4, 'segments': None, 'timestamps': [[6249.96, 6285.52]]}, 'E_006296_006394': {'event': 3, 'segments': None, 'timestamps': [[6296.48, 6394.0]]}, 'E_006401_006501': {'event': 2, 'segments': None, 'timestamps': [[6401.64, 6501.44]]}, 'E_006522_006554': {'event': 4, 'segments': None, 'timestamps': [[6522.36, 6554.32]]}, 'E_006565_006650': {'event': 3, 'segments': None, 'timestamps': [[6565.08, 6650.8]]}, 'E_006659_006760': {'event': 2, 'segments': None, 'timestamps': [[6659.52, 6760.36]]}, 'E_006779_006810': {'event': 4, 'segments': None, 'timestamps': [[6779.04, 6810.52]]}, 'E_006853_006954': {'event': 2, 'segments': None, 'timestamps': [[6853.88, 6954.44]]}, 'E_007334_007341': {'event': 1, 'segments': None, 'timestamps': [[7334.64, 7341.8]]}, 'E_007361_007391': {'event': 4, 'segments': None, 'timestamps': [[7361.28, 7391.12]]}, 'E_007447_007542': {'event': 3, 'segments': None, 'timestamps': [[7447.36, 7542.28]]}, 'E_007562_007662': {'event': 2, 'segments': None, 'timestamps': [[7562.56, 7662.0]]}, 'E_007679_007686': {'event': 1, 'segments': None, 'timestamps': [[7679.96, 7686.68]]}, 'E_007702_007737': {'event': 4, 'segments': None, 'timestamps': [[7702.72, 7737.0]]}, 'E_007745_007837': {'event': 3, 'segments': None, 'timestamps': [[7745.64, 7837.08]]}, 'E_007845_007946': {'event': 2, 'segments': None, 'timestamps': [[7845.8, 7946.16]]}, 'E_007961_007968': {'event': 1, 'segments': None, 'timestamps': [[7961.36, 7968.4]]}, 'E_007985_008022': {'event': 4, 'segments': None, 'timestamps': [[7985.28, 8022.88]]}, 'E_008034_008131': {'event': 3, 'segments': None, 'timestamps': [[8034.0, 8131.32]]}, 'E_008138_008242': {'event': 2, 'segments': None, 'timestamps': [[8138.8, 8242.76]]}, 'E_008260_008267': {'event': 1, 'segments': None, 'timestamps': [[8260.4, 8267.56]]}, 'E_008339_008347': {'event': 1, 'segments': None, 'timestamps': [[8339.92, 8347.16]]}, 'E_008384_008417': {'event': 4, 'segments': None, 'timestamps': [[8384.0, 8417.56]]}, 'E_008427_008518': {'event': 3, 'segments': None, 'timestamps': [[8427.28, 8518.2]]}, 'E_008527_008631': {'event': 2, 'segments': None, 'timestamps': [[8527.04, 8631.24]]}, 'E_008642_008745': {'event': 3, 'segments': None, 'timestamps': [[8642.08, 8745.28]]}}, '-u8_gMUBodE': {'E_000349_000412': {'event': 3, 'segments': None, 'timestamps': [[349.44, 412.4]]}, 'E_000538_000559': {'event': 4, 'segments': None, 'timestamps': [[538.08, 559.76]]}, 'E_000714_000805': {'event': 2, 'segments': None, 'timestamps': [[714.44, 805.36]]}, 'E_001107_001201': {'event': 2, 'segments': None, 'timestamps': [[1107.72, 1201.12]]}, 'E_001549_001557': {'event': 1, 'segments': None, 'timestamps': [[1549.48, 1557.6]]}, 'E_001575_001671': {'event': 2, 'segments': None, 'timestamps': [[1575.32, 1671.56]]}, 'E_001709_001738': {'event': 4, 'segments': None, 'timestamps': [[1709.36, 1738.52]]}, 'E_001810_001888': {'event': 3, 'segments': None, 'timestamps': [[1810.64, 1888.68]]}, 'E_002156_002252': {'event': 2, 'segments': None, 'timestamps': [[2156.28, 2252.04]]}, 'E_002701_002726': {'event': 4, 'segments': None, 'timestamps': [[2701.44, 2726.92]]}, 'E_002772_002867': {'event': 2, 'segments': None, 'timestamps': [[2772.56, 2867.68]]}, 'E_002943_003030': {'event': 2, 'segments': None, 'timestamps': [[2943.56, 3030.04]]}, 'E_003122_003221': {'event': 2, 'segments': None, 'timestamps': [[3122.84, 3221.56]]}, 'E_003335_003436': {'event': 2, 'segments': None, 'timestamps': [[3335.56, 3436.96]]}, 'E_003492_003522': {'event': 4, 'segments': None, 'timestamps': [[3492.96, 3522.08]]}, 'E_003643_003679': {'event': 4, 'segments': None, 'timestamps': [[3643.56, 3679.0]]}, 'E_003740_003839': {'event': 2, 'segments': None, 'timestamps': [[3740.56, 3839.12]]}, 'E_003905_004002': {'event': 3, 'segments': None, 'timestamps': [[3905.48, 4002.32]]}, 'E_004213_004286': {'event': 3, 'segments': None, 'timestamps': [[4213.92, 4286.96]]}, 'E_004376_004400': {'event': 4, 'segments': None, 'timestamps': [[4376.76, 4400.72]]}, 'E_004544_004626': {'event': 3, 'segments': None, 'timestamps': [[4544.24, 4626.04]]}, 'E_004849_004877': {'event': 4, 'segments': None, 'timestamps': [[4849.6, 4877.56]]}, 'E_004908_005004': {'event': 2, 'segments': None, 'timestamps': [[4908.2, 5004.68]]}, 'E_005176_005183': {'event': 1, 'segments': None, 'timestamps': [[5176.32, 5183.92]]}, 'E_005338_005440': {'event': 2, 'segments': None, 'timestamps': [[5338.72, 5440.96]]}, 'E_005526_005622': {'event': 2, 'segments': None, 'timestamps': [[5526.68, 5622.12]]}, 'E_005711_005742': {'event': 4, 'segments': None, 'timestamps': [[5711.32, 5742.44]]}, 'E_006024_006056': {'event': 4, 'segments': None, 'timestamps': [[6024.32, 6056.76]]}, 'E_006287_006320': {'event': 4, 'segments': None, 'timestamps': [[6287.32, 6320.0]]}, 'E_006391_006399': {'event': 1, 'segments': None, 'timestamps': [[6391.64, 6399.92]]}, 'E_006453_006463': {'event': 1, 'segments': None, 'timestamps': [[6453.92, 6463.16]]}, 'E_006485_006511': {'event': 4, 'segments': None, 'timestamps': [[6485.68, 6511.64]]}, 'E_006635_006728': {'event': 2, 'segments': None, 'timestamps': [[6635.16, 6728.52]]}, 'E_006887_006954': {'event': 3, 'segments': None, 'timestamps': [[6887.68, 6954.2]]}, 'E_007037_007099': {'event': 3, 'segments': None, 'timestamps': [[7037.92, 7099.4]]}, 'E_007333_007428': {'event': 2, 'segments': None, 'timestamps': [[7333.8, 7428.32]]}, 'E_007473_007503': {'event': 4, 'segments': None, 'timestamps': [[7473.0, 7503.36]]}, 'E_007535_007618': {'event': 3, 'segments': None, 'timestamps': [[7535.8, 7618.16]]}}}\n"
     ]
    }
   ],
   "source": [
    "with open('example.json', 'r') as file:\n",
    "#     print(file)\n",
    "    text = json.load(file)\n",
    "    print(text)"
   ]
  },
  {
   "cell_type": "code",
   "execution_count": 267,
   "id": "5e2d2322",
   "metadata": {
    "scrolled": true
   },
   "outputs": [
    {
     "name": "stdout",
     "output_type": "stream",
     "text": [
      "('-HvXd_vqJ5A', {'E_001781_001789': {'event': 1, 'segments': None, 'timestamps': [[1781.76, 1789.16]]}, 'E_001805_001812': {'event': 1, 'segments': None, 'timestamps': [[1805.48, 1812.92]]}, 'E_001952_001988': {'event': 4, 'segments': None, 'timestamps': [[1952.72, 1988.76]]}, 'E_002003_002088': {'event': 3, 'segments': None, 'timestamps': [[2003.04, 2088.76]]}, 'E_002096_002195': {'event': 2, 'segments': None, 'timestamps': [[2096.64, 2195.28]]}, 'E_002214_002222': {'event': 1, 'segments': None, 'timestamps': [[2214.8, 2222.12]]}, 'E_002242_002259': {'event': 1, 'segments': None, 'timestamps': [[2242.0, 2259.12]]}, 'E_002288_002297': {'event': 1, 'segments': None, 'timestamps': [[2288.52, 2297.28]]}, 'E_002325_002357': {'event': 4, 'segments': None, 'timestamps': [[2325.24, 2357.8]]}, 'E_002490_002586': {'event': 2, 'segments': None, 'timestamps': [[2490.68, 2586.2]]}, 'E_002600_002608': {'event': 1, 'segments': None, 'timestamps': [[2600.28, 2608.08]]}, 'E_002675_002710': {'event': 4, 'segments': None, 'timestamps': [[2675.68, 2710.72]]}, 'E_002738_002833': {'event': 3, 'segments': None, 'timestamps': [[2738.88, 2833.52]]}, 'E_002907_003007': {'event': 2, 'segments': None, 'timestamps': [[2907.0, 3007.44]]}, 'E_003060_003068': {'event': 1, 'segments': None, 'timestamps': [[3060.8, 3068.84]]}, 'E_003189_003289': {'event': 3, 'segments': None, 'timestamps': [[3189.6, 3289.36]]}, 'E_003299_003400': {'event': 2, 'segments': None, 'timestamps': [[3299.36, 3400.2]]}, 'E_003416_003451': {'event': 4, 'segments': None, 'timestamps': [[3416.8, 3451.64]]}, 'E_003771_003778': {'event': 1, 'segments': None, 'timestamps': [[3771.16, 3778.8]]}, 'E_003808_003849': {'event': 4, 'segments': None, 'timestamps': [[3808.28, 3849.92]]}, 'E_003857_003958': {'event': 3, 'segments': None, 'timestamps': [[3857.8, 3958.44]]}, 'E_003966_004070': {'event': 2, 'segments': None, 'timestamps': [[3966.4, 4070.88]]}, 'E_004100_004107': {'event': 1, 'segments': None, 'timestamps': [[4100.76, 4107.68]]}, 'E_004138_004169': {'event': 4, 'segments': None, 'timestamps': [[4138.92, 4169.8]]}, 'E_004206_004301': {'event': 3, 'segments': None, 'timestamps': [[4206.88, 4301.12]]}, 'E_004350_004455': {'event': 2, 'segments': None, 'timestamps': [[4350.04, 4455.48]]}, 'E_004488_004496': {'event': 1, 'segments': None, 'timestamps': [[4488.32, 4496.32]]}, 'E_004531_004562': {'event': 4, 'segments': None, 'timestamps': [[4531.0, 4562.08]]}, 'E_004572_004661': {'event': 3, 'segments': None, 'timestamps': [[4572.0, 4661.48]]}, 'E_004671_004771': {'event': 2, 'segments': None, 'timestamps': [[4671.28, 4771.24]]}, 'E_004786_004794': {'event': 1, 'segments': None, 'timestamps': [[4786.8, 4794.32]]}, 'E_004808_004838': {'event': 4, 'segments': None, 'timestamps': [[4808.52, 4838.72]]}, 'E_004848_004926': {'event': 3, 'segments': None, 'timestamps': [[4848.52, 4926.56]]}, 'E_004963_004992': {'event': 4, 'segments': None, 'timestamps': [[4963.88, 4992.96]]}, 'E_005030_005129': {'event': 3, 'segments': None, 'timestamps': [[5030.68, 5129.76]]}, 'E_005512_005551': {'event': 4, 'segments': None, 'timestamps': [[5512.24, 5551.24]]}, 'E_005561_005653': {'event': 3, 'segments': None, 'timestamps': [[5561.96, 5653.44]]}, 'E_005706_005809': {'event': 2, 'segments': None, 'timestamps': [[5706.32, 5809.96]]}, 'E_005832_005839': {'event': 1, 'segments': None, 'timestamps': [[5832.56, 5839.68]]}, 'E_005904_005938': {'event': 4, 'segments': None, 'timestamps': [[5904.0, 5938.6]]}, 'E_006000_006095': {'event': 3, 'segments': None, 'timestamps': [[6000.2, 6095.2]]}, 'E_006102_006204': {'event': 2, 'segments': None, 'timestamps': [[6102.84, 6204.72]]}, 'E_006224_006232': {'event': 1, 'segments': None, 'timestamps': [[6224.6, 6232.44]]}, 'E_006249_006285': {'event': 4, 'segments': None, 'timestamps': [[6249.96, 6285.52]]}, 'E_006296_006394': {'event': 3, 'segments': None, 'timestamps': [[6296.48, 6394.0]]}, 'E_006401_006501': {'event': 2, 'segments': None, 'timestamps': [[6401.64, 6501.44]]}, 'E_006522_006554': {'event': 4, 'segments': None, 'timestamps': [[6522.36, 6554.32]]}, 'E_006565_006650': {'event': 3, 'segments': None, 'timestamps': [[6565.08, 6650.8]]}, 'E_006659_006760': {'event': 2, 'segments': None, 'timestamps': [[6659.52, 6760.36]]}, 'E_006779_006810': {'event': 4, 'segments': None, 'timestamps': [[6779.04, 6810.52]]}, 'E_006853_006954': {'event': 2, 'segments': None, 'timestamps': [[6853.88, 6954.44]]}, 'E_007334_007341': {'event': 1, 'segments': None, 'timestamps': [[7334.64, 7341.8]]}, 'E_007361_007391': {'event': 4, 'segments': None, 'timestamps': [[7361.28, 7391.12]]}, 'E_007447_007542': {'event': 3, 'segments': None, 'timestamps': [[7447.36, 7542.28]]}, 'E_007562_007662': {'event': 2, 'segments': None, 'timestamps': [[7562.56, 7662.0]]}, 'E_007679_007686': {'event': 1, 'segments': None, 'timestamps': [[7679.96, 7686.68]]}, 'E_007702_007737': {'event': 4, 'segments': None, 'timestamps': [[7702.72, 7737.0]]}, 'E_007745_007837': {'event': 3, 'segments': None, 'timestamps': [[7745.64, 7837.08]]}, 'E_007845_007946': {'event': 2, 'segments': None, 'timestamps': [[7845.8, 7946.16]]}, 'E_007961_007968': {'event': 1, 'segments': None, 'timestamps': [[7961.36, 7968.4]]}, 'E_007985_008022': {'event': 4, 'segments': None, 'timestamps': [[7985.28, 8022.88]]}, 'E_008034_008131': {'event': 3, 'segments': None, 'timestamps': [[8034.0, 8131.32]]}, 'E_008138_008242': {'event': 2, 'segments': None, 'timestamps': [[8138.8, 8242.76]]}, 'E_008260_008267': {'event': 1, 'segments': None, 'timestamps': [[8260.4, 8267.56]]}, 'E_008339_008347': {'event': 1, 'segments': None, 'timestamps': [[8339.92, 8347.16]]}, 'E_008384_008417': {'event': 4, 'segments': None, 'timestamps': [[8384.0, 8417.56]]}, 'E_008427_008518': {'event': 3, 'segments': None, 'timestamps': [[8427.28, 8518.2]]}, 'E_008527_008631': {'event': 2, 'segments': None, 'timestamps': [[8527.04, 8631.24]]}, 'E_008642_008745': {'event': 3, 'segments': None, 'timestamps': [[8642.08, 8745.28]]}})\n",
      "('-u8_gMUBodE', {'E_000349_000412': {'event': 3, 'segments': None, 'timestamps': [[349.44, 412.4]]}, 'E_000538_000559': {'event': 4, 'segments': None, 'timestamps': [[538.08, 559.76]]}, 'E_000714_000805': {'event': 2, 'segments': None, 'timestamps': [[714.44, 805.36]]}, 'E_001107_001201': {'event': 2, 'segments': None, 'timestamps': [[1107.72, 1201.12]]}, 'E_001549_001557': {'event': 1, 'segments': None, 'timestamps': [[1549.48, 1557.6]]}, 'E_001575_001671': {'event': 2, 'segments': None, 'timestamps': [[1575.32, 1671.56]]}, 'E_001709_001738': {'event': 4, 'segments': None, 'timestamps': [[1709.36, 1738.52]]}, 'E_001810_001888': {'event': 3, 'segments': None, 'timestamps': [[1810.64, 1888.68]]}, 'E_002156_002252': {'event': 2, 'segments': None, 'timestamps': [[2156.28, 2252.04]]}, 'E_002701_002726': {'event': 4, 'segments': None, 'timestamps': [[2701.44, 2726.92]]}, 'E_002772_002867': {'event': 2, 'segments': None, 'timestamps': [[2772.56, 2867.68]]}, 'E_002943_003030': {'event': 2, 'segments': None, 'timestamps': [[2943.56, 3030.04]]}, 'E_003122_003221': {'event': 2, 'segments': None, 'timestamps': [[3122.84, 3221.56]]}, 'E_003335_003436': {'event': 2, 'segments': None, 'timestamps': [[3335.56, 3436.96]]}, 'E_003492_003522': {'event': 4, 'segments': None, 'timestamps': [[3492.96, 3522.08]]}, 'E_003643_003679': {'event': 4, 'segments': None, 'timestamps': [[3643.56, 3679.0]]}, 'E_003740_003839': {'event': 2, 'segments': None, 'timestamps': [[3740.56, 3839.12]]}, 'E_003905_004002': {'event': 3, 'segments': None, 'timestamps': [[3905.48, 4002.32]]}, 'E_004213_004286': {'event': 3, 'segments': None, 'timestamps': [[4213.92, 4286.96]]}, 'E_004376_004400': {'event': 4, 'segments': None, 'timestamps': [[4376.76, 4400.72]]}, 'E_004544_004626': {'event': 3, 'segments': None, 'timestamps': [[4544.24, 4626.04]]}, 'E_004849_004877': {'event': 4, 'segments': None, 'timestamps': [[4849.6, 4877.56]]}, 'E_004908_005004': {'event': 2, 'segments': None, 'timestamps': [[4908.2, 5004.68]]}, 'E_005176_005183': {'event': 1, 'segments': None, 'timestamps': [[5176.32, 5183.92]]}, 'E_005338_005440': {'event': 2, 'segments': None, 'timestamps': [[5338.72, 5440.96]]}, 'E_005526_005622': {'event': 2, 'segments': None, 'timestamps': [[5526.68, 5622.12]]}, 'E_005711_005742': {'event': 4, 'segments': None, 'timestamps': [[5711.32, 5742.44]]}, 'E_006024_006056': {'event': 4, 'segments': None, 'timestamps': [[6024.32, 6056.76]]}, 'E_006287_006320': {'event': 4, 'segments': None, 'timestamps': [[6287.32, 6320.0]]}, 'E_006391_006399': {'event': 1, 'segments': None, 'timestamps': [[6391.64, 6399.92]]}, 'E_006453_006463': {'event': 1, 'segments': None, 'timestamps': [[6453.92, 6463.16]]}, 'E_006485_006511': {'event': 4, 'segments': None, 'timestamps': [[6485.68, 6511.64]]}, 'E_006635_006728': {'event': 2, 'segments': None, 'timestamps': [[6635.16, 6728.52]]}, 'E_006887_006954': {'event': 3, 'segments': None, 'timestamps': [[6887.68, 6954.2]]}, 'E_007037_007099': {'event': 3, 'segments': None, 'timestamps': [[7037.92, 7099.4]]}, 'E_007333_007428': {'event': 2, 'segments': None, 'timestamps': [[7333.8, 7428.32]]}, 'E_007473_007503': {'event': 4, 'segments': None, 'timestamps': [[7473.0, 7503.36]]}, 'E_007535_007618': {'event': 3, 'segments': None, 'timestamps': [[7535.8, 7618.16]]}})\n"
     ]
    }
   ],
   "source": [
    "for i in text.items():\n",
    "    print(i)"
   ]
  },
  {
   "cell_type": "code",
   "execution_count": 281,
   "id": "4e935de1",
   "metadata": {},
   "outputs": [
    {
     "name": "stdout",
     "output_type": "stream",
     "text": [
      "1\n",
      "2\n"
     ]
    }
   ],
   "source": [
    "d = {\n",
    "    'a':1,\n",
    "    'b':2\n",
    "}\n",
    "for i in d.values():\n",
    "    print(i)"
   ]
  },
  {
   "cell_type": "code",
   "execution_count": 282,
   "id": "f4b7aac8",
   "metadata": {
    "scrolled": false
   },
   "outputs": [
    {
     "name": "stdout",
     "output_type": "stream",
     "text": [
      "Hello\n"
     ]
    }
   ],
   "source": [
    "if type(d) == dict:\n",
    "    print(\"Hello\")"
   ]
  },
  {
   "cell_type": "code",
   "execution_count": 317,
   "id": "984b10a6",
   "metadata": {},
   "outputs": [],
   "source": [
    "open?"
   ]
  },
  {
   "cell_type": "code",
   "execution_count": 309,
   "id": "32308343",
   "metadata": {},
   "outputs": [
    {
     "name": "stdout",
     "output_type": "stream",
     "text": [
      "<class 'str'>\n",
      "{'-HvXd_vqJ5A': {'E_001781_001789': {'event': 1, 'segments': None, 'timestamps': [[1781.76, 1789.16]]}, 'E_001805_001812': {'event': 1, 'segments': None, 'timestamps': [[1805.48, 1812.92]]}, 'E_001952_001988': {'event': 4, 'segments': None, 'timestamps': [[1952.72, 1988.76]]}, 'E_002003_002088': {'event': 3, 'segments': None, 'timestamps': [[2003.04, 2088.76]]}, 'E_002096_002195': {'event': 2, 'segments': None, 'timestamps': [[2096.64, 2195.28]]}, 'E_002214_002222': {'event': 1, 'segments': None, 'timestamps': [[2214.8, 2222.12]]}, 'E_002242_002259': {'event': 1, 'segments': None, 'timestamps': [[2242.0, 2259.12]]}, 'E_002288_002297': {'event': 1, 'segments': None, 'timestamps': [[2288.52, 2297.28]]}, 'E_002325_002357': {'event': 4, 'segments': None, 'timestamps': [[2325.24, 2357.8]]}, 'E_002490_002586': {'event': 2, 'segments': None, 'timestamps': [[2490.68, 2586.2]]}, 'E_002600_002608': {'event': 1, 'segments': None, 'timestamps': [[2600.28, 2608.08]]}, 'E_002675_002710': {'event': 4, 'segments': None, 'timestamps': [[2675.68, 2710.72]]}, 'E_002738_002833': {'event': 3, 'segments': None, 'timestamps': [[2738.88, 2833.52]]}, 'E_002907_003007': {'event': 2, 'segments': None, 'timestamps': [[2907.0, 3007.44]]}, 'E_003060_003068': {'event': 1, 'segments': None, 'timestamps': [[3060.8, 3068.84]]}, 'E_003189_003289': {'event': 3, 'segments': None, 'timestamps': [[3189.6, 3289.36]]}, 'E_003299_003400': {'event': 2, 'segments': None, 'timestamps': [[3299.36, 3400.2]]}, 'E_003416_003451': {'event': 4, 'segments': None, 'timestamps': [[3416.8, 3451.64]]}, 'E_003771_003778': {'event': 1, 'segments': None, 'timestamps': [[3771.16, 3778.8]]}, 'E_003808_003849': {'event': 4, 'segments': None, 'timestamps': [[3808.28, 3849.92]]}, 'E_003857_003958': {'event': 3, 'segments': None, 'timestamps': [[3857.8, 3958.44]]}, 'E_003966_004070': {'event': 2, 'segments': None, 'timestamps': [[3966.4, 4070.88]]}, 'E_004100_004107': {'event': 1, 'segments': None, 'timestamps': [[4100.76, 4107.68]]}, 'E_004138_004169': {'event': 4, 'segments': None, 'timestamps': [[4138.92, 4169.8]]}, 'E_004206_004301': {'event': 3, 'segments': None, 'timestamps': [[4206.88, 4301.12]]}, 'E_004350_004455': {'event': 2, 'segments': None, 'timestamps': [[4350.04, 4455.48]]}, 'E_004488_004496': {'event': 1, 'segments': None, 'timestamps': [[4488.32, 4496.32]]}, 'E_004531_004562': {'event': 4, 'segments': None, 'timestamps': [[4531.0, 4562.08]]}, 'E_004572_004661': {'event': 3, 'segments': None, 'timestamps': [[4572.0, 4661.48]]}, 'E_004671_004771': {'event': 2, 'segments': None, 'timestamps': [[4671.28, 4771.24]]}, 'E_004786_004794': {'event': 1, 'segments': None, 'timestamps': [[4786.8, 4794.32]]}, 'E_004808_004838': {'event': 4, 'segments': None, 'timestamps': [[4808.52, 4838.72]]}, 'E_004848_004926': {'event': 3, 'segments': None, 'timestamps': [[4848.52, 4926.56]]}, 'E_004963_004992': {'event': 4, 'segments': None, 'timestamps': [[4963.88, 4992.96]]}, 'E_005030_005129': {'event': 3, 'segments': None, 'timestamps': [[5030.68, 5129.76]]}, 'E_005512_005551': {'event': 4, 'segments': None, 'timestamps': [[5512.24, 5551.24]]}, 'E_005561_005653': {'event': 3, 'segments': None, 'timestamps': [[5561.96, 5653.44]]}, 'E_005706_005809': {'event': 2, 'segments': None, 'timestamps': [[5706.32, 5809.96]]}, 'E_005832_005839': {'event': 1, 'segments': None, 'timestamps': [[5832.56, 5839.68]]}, 'E_005904_005938': {'event': 4, 'segments': None, 'timestamps': [[5904.0, 5938.6]]}, 'E_006000_006095': {'event': 3, 'segments': None, 'timestamps': [[6000.2, 6095.2]]}, 'E_006102_006204': {'event': 2, 'segments': None, 'timestamps': [[6102.84, 6204.72]]}, 'E_006224_006232': {'event': 1, 'segments': None, 'timestamps': [[6224.6, 6232.44]]}, 'E_006249_006285': {'event': 4, 'segments': None, 'timestamps': [[6249.96, 6285.52]]}, 'E_006296_006394': {'event': 3, 'segments': None, 'timestamps': [[6296.48, 6394.0]]}, 'E_006401_006501': {'event': 2, 'segments': None, 'timestamps': [[6401.64, 6501.44]]}, 'E_006522_006554': {'event': 4, 'segments': None, 'timestamps': [[6522.36, 6554.32]]}, 'E_006565_006650': {'event': 3, 'segments': None, 'timestamps': [[6565.08, 6650.8]]}, 'E_006659_006760': {'event': 2, 'segments': None, 'timestamps': [[6659.52, 6760.36]]}, 'E_006779_006810': {'event': 4, 'segments': None, 'timestamps': [[6779.04, 6810.52]]}, 'E_006853_006954': {'event': 2, 'segments': None, 'timestamps': [[6853.88, 6954.44]]}, 'E_007334_007341': {'event': 1, 'segments': None, 'timestamps': [[7334.64, 7341.8]]}, 'E_007361_007391': {'event': 4, 'segments': None, 'timestamps': [[7361.28, 7391.12]]}, 'E_007447_007542': {'event': 3, 'segments': None, 'timestamps': [[7447.36, 7542.28]]}, 'E_007562_007662': {'event': 2, 'segments': None, 'timestamps': [[7562.56, 7662.0]]}, 'E_007679_007686': {'event': 1, 'segments': None, 'timestamps': [[7679.96, 7686.68]]}, 'E_007702_007737': {'event': 4, 'segments': None, 'timestamps': [[7702.72, 7737.0]]}, 'E_007745_007837': {'event': 3, 'segments': None, 'timestamps': [[7745.64, 7837.08]]}, 'E_007845_007946': {'event': 2, 'segments': None, 'timestamps': [[7845.8, 7946.16]]}, 'E_007961_007968': {'event': 1, 'segments': None, 'timestamps': [[7961.36, 7968.4]]}, 'E_007985_008022': {'event': 4, 'segments': None, 'timestamps': [[7985.28, 8022.88]]}, 'E_008034_008131': {'event': 3, 'segments': None, 'timestamps': [[8034.0, 8131.32]]}, 'E_008138_008242': {'event': 2, 'segments': None, 'timestamps': [[8138.8, 8242.76]]}, 'E_008260_008267': {'event': 1, 'segments': None, 'timestamps': [[8260.4, 8267.56]]}, 'E_008339_008347': {'event': 1, 'segments': None, 'timestamps': [[8339.92, 8347.16]]}, 'E_008384_008417': {'event': 4, 'segments': None, 'timestamps': [[8384.0, 8417.56]]}, 'E_008427_008518': {'event': 3, 'segments': None, 'timestamps': [[8427.28, 8518.2]]}, 'E_008527_008631': {'event': 2, 'segments': None, 'timestamps': [[8527.04, 8631.24]]}, 'E_008642_008745': {'event': 3, 'segments': None, 'timestamps': [[8642.08, 8745.28]]}}, '-u8_gMUBodE': {'E_000349_000412': {'event': 3, 'segments': None, 'timestamps': [[349.44, 412.4]]}, 'E_000538_000559': {'event': 4, 'segments': None, 'timestamps': [[538.08, 559.76]]}, 'E_000714_000805': {'event': 2, 'segments': None, 'timestamps': [[714.44, 805.36]]}, 'E_001107_001201': {'event': 2, 'segments': None, 'timestamps': [[1107.72, 1201.12]]}, 'E_001549_001557': {'event': 1, 'segments': None, 'timestamps': [[1549.48, 1557.6]]}, 'E_001575_001671': {'event': 2, 'segments': None, 'timestamps': [[1575.32, 1671.56]]}, 'E_001709_001738': {'event': 4, 'segments': None, 'timestamps': [[1709.36, 1738.52]]}, 'E_001810_001888': {'event': 3, 'segments': None, 'timestamps': [[1810.64, 1888.68]]}, 'E_002156_002252': {'event': 2, 'segments': None, 'timestamps': [[2156.28, 2252.04]]}, 'E_002701_002726': {'event': 4, 'segments': None, 'timestamps': [[2701.44, 2726.92]]}, 'E_002772_002867': {'event': 2, 'segments': None, 'timestamps': [[2772.56, 2867.68]]}, 'E_002943_003030': {'event': 2, 'segments': None, 'timestamps': [[2943.56, 3030.04]]}, 'E_003122_003221': {'event': 2, 'segments': None, 'timestamps': [[3122.84, 3221.56]]}, 'E_003335_003436': {'event': 2, 'segments': None, 'timestamps': [[3335.56, 3436.96]]}, 'E_003492_003522': {'event': 4, 'segments': None, 'timestamps': [[3492.96, 3522.08]]}, 'E_003643_003679': {'event': 4, 'segments': None, 'timestamps': [[3643.56, 3679.0]]}, 'E_003740_003839': {'event': 2, 'segments': None, 'timestamps': [[3740.56, 3839.12]]}, 'E_003905_004002': {'event': 3, 'segments': None, 'timestamps': [[3905.48, 4002.32]]}, 'E_004213_004286': {'event': 3, 'segments': None, 'timestamps': [[4213.92, 4286.96]]}, 'E_004376_004400': {'event': 4, 'segments': None, 'timestamps': [[4376.76, 4400.72]]}, 'E_004544_004626': {'event': 3, 'segments': None, 'timestamps': [[4544.24, 4626.04]]}, 'E_004849_004877': {'event': 4, 'segments': None, 'timestamps': [[4849.6, 4877.56]]}, 'E_004908_005004': {'event': 2, 'segments': None, 'timestamps': [[4908.2, 5004.68]]}, 'E_005176_005183': {'event': 1, 'segments': None, 'timestamps': [[5176.32, 5183.92]]}, 'E_005338_005440': {'event': 2, 'segments': None, 'timestamps': [[5338.72, 5440.96]]}, 'E_005526_005622': {'event': 2, 'segments': None, 'timestamps': [[5526.68, 5622.12]]}, 'E_005711_005742': {'event': 4, 'segments': None, 'timestamps': [[5711.32, 5742.44]]}, 'E_006024_006056': {'event': 4, 'segments': None, 'timestamps': [[6024.32, 6056.76]]}, 'E_006287_006320': {'event': 4, 'segments': None, 'timestamps': [[6287.32, 6320.0]]}, 'E_006391_006399': {'event': 1, 'segments': None, 'timestamps': [[6391.64, 6399.92]]}, 'E_006453_006463': {'event': 1, 'segments': None, 'timestamps': [[6453.92, 6463.16]]}, 'E_006485_006511': {'event': 4, 'segments': None, 'timestamps': [[6485.68, 6511.64]]}, 'E_006635_006728': {'event': 2, 'segments': None, 'timestamps': [[6635.16, 6728.52]]}, 'E_006887_006954': {'event': 3, 'segments': None, 'timestamps': [[6887.68, 6954.2]]}, 'E_007037_007099': {'event': 3, 'segments': None, 'timestamps': [[7037.92, 7099.4]]}, 'E_007333_007428': {'event': 2, 'segments': None, 'timestamps': [[7333.8, 7428.32]]}, 'E_007473_007503': {'event': 4, 'segments': None, 'timestamps': [[7473.0, 7503.36]]}, 'E_007535_007618': {'event': 3, 'segments': None, 'timestamps': [[7535.8, 7618.16]]}}}\n"
     ]
    }
   ],
   "source": [
    "file = open('example.json', 'r')\n",
    "text = file.read()\n",
    "print(type(text))\n",
    "text = json.loads(text)\n",
    "print(text)\n",
    "file.close()"
   ]
  },
  {
   "cell_type": "code",
   "execution_count": 304,
   "id": "1c2b58d3",
   "metadata": {},
   "outputs": [],
   "source": [
    "# JSON.DUMPS"
   ]
  },
  {
   "cell_type": "code",
   "execution_count": 307,
   "id": "60b27506",
   "metadata": {},
   "outputs": [
    {
     "data": {
      "text/plain": [
       "dict"
      ]
     },
     "execution_count": 307,
     "metadata": {},
     "output_type": "execute_result"
    }
   ],
   "source": [
    "type(d)"
   ]
  },
  {
   "cell_type": "code",
   "execution_count": 308,
   "id": "f650fd69",
   "metadata": {},
   "outputs": [],
   "source": [
    "with open('dummy.json', 'w') as file:\n",
    "    json.dump(d, file)"
   ]
  },
  {
   "cell_type": "code",
   "execution_count": 311,
   "id": "bd8f2a70",
   "metadata": {},
   "outputs": [],
   "source": [
    "string = json.dumps(d)"
   ]
  },
  {
   "cell_type": "code",
   "execution_count": 313,
   "id": "42798000",
   "metadata": {},
   "outputs": [
    {
     "data": {
      "text/plain": [
       "str"
      ]
     },
     "execution_count": 313,
     "metadata": {},
     "output_type": "execute_result"
    }
   ],
   "source": [
    "type(string)"
   ]
  },
  {
   "cell_type": "code",
   "execution_count": 316,
   "id": "b3b94b88",
   "metadata": {},
   "outputs": [],
   "source": [
    "file = open('dummy_dummy.json', 'w')\n",
    "file.write(json.dumps(d))\n",
    "file.close()"
   ]
  },
  {
   "cell_type": "code",
   "execution_count": 324,
   "id": "c3f99400",
   "metadata": {},
   "outputs": [],
   "source": [
    "string = 'The discipline of machine learning employs various approaches to teach computers to accomplish tasks where no fully satisfactory algorithm is available. In cases where vast numbers of potential answers exist, one approach is to label some of the correct answers as valid. This can then be used as training data for the computer to improve the algorithm(s) it uses to determine correct answers. For example, to train a system for the task of digital character recognition, the MNIST dataset of handwritten digits has often been used.'"
   ]
  },
  {
   "cell_type": "code",
   "execution_count": 329,
   "id": "cbd4ab7a",
   "metadata": {},
   "outputs": [],
   "source": [
    "d = {}"
   ]
  },
  {
   "cell_type": "code",
   "execution_count": 330,
   "id": "90455273",
   "metadata": {},
   "outputs": [
    {
     "data": {
      "text/plain": [
       "{}"
      ]
     },
     "execution_count": 330,
     "metadata": {},
     "output_type": "execute_result"
    }
   ],
   "source": [
    "d"
   ]
  },
  {
   "cell_type": "code",
   "execution_count": 351,
   "id": "934acf2e",
   "metadata": {},
   "outputs": [],
   "source": [
    "idx = 0\n",
    "for i in range(len(string)):\n",
    "    if string[i] == '.':\n",
    "        d['a'] = string[:i] + '.'\n",
    "        idx+=i\n",
    "        break\n",
    "    "
   ]
  },
  {
   "cell_type": "code",
   "execution_count": 352,
   "id": "0021d734",
   "metadata": {},
   "outputs": [
    {
     "name": "stdout",
     "output_type": "stream",
     "text": [
      "{'a': 'The discipline of machine learning employs various approaches to teach computers to accomplish tasks where no fully satisfactory algorithm is available.'} 151\n"
     ]
    }
   ],
   "source": [
    "print(d, idx)"
   ]
  },
  {
   "cell_type": "code",
   "execution_count": 347,
   "id": "46bb6764",
   "metadata": {},
   "outputs": [],
   "source": [
    "d['a'] = 9"
   ]
  },
  {
   "cell_type": "code",
   "execution_count": 348,
   "id": "17283cd5",
   "metadata": {},
   "outputs": [
    {
     "data": {
      "text/plain": [
       "{'a': 9}"
      ]
     },
     "execution_count": 348,
     "metadata": {},
     "output_type": "execute_result"
    }
   ],
   "source": [
    "d"
   ]
  },
  {
   "cell_type": "code",
   "execution_count": 356,
   "id": "0677fcfe",
   "metadata": {},
   "outputs": [
    {
     "name": "stdout",
     "output_type": "stream",
     "text": [
      "The discipline of machine learning employs various approaches to teach computers to accomplish tasks where no fully satisfactory algorithm is available.\n"
     ]
    }
   ],
   "source": [
    "temp=''\n",
    "for i in string:\n",
    "    temp+=i\n",
    "    if i=='.':\n",
    "        break\n",
    "print(temp)"
   ]
  },
  {
   "cell_type": "code",
   "execution_count": null,
   "id": "9926f9f7",
   "metadata": {},
   "outputs": [],
   "source": []
  }
 ],
 "metadata": {
  "kernelspec": {
   "display_name": "Python 3 (ipykernel)",
   "language": "python",
   "name": "python3"
  },
  "language_info": {
   "codemirror_mode": {
    "name": "ipython",
    "version": 3
   },
   "file_extension": ".py",
   "mimetype": "text/x-python",
   "name": "python",
   "nbconvert_exporter": "python",
   "pygments_lexer": "ipython3",
   "version": "3.8.10"
  }
 },
 "nbformat": 4,
 "nbformat_minor": 5
}
